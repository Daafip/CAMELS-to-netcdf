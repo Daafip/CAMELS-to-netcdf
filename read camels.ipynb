{
 "cells": [
  {
   "cell_type": "code",
   "execution_count": 1,
   "id": "242b7cd1-6cb2-4cba-a359-aa13883da9fc",
   "metadata": {},
   "outputs": [],
   "source": [
    "import numpy as np\n",
    "from pathlib import Path, PosixPath\n",
    "import pandas as pd\n",
    "import matplotlib.pyplot as plt\n",
    "from datetime import datetime\n",
    "import xarray as xr"
   ]
  },
  {
   "cell_type": "markdown",
   "id": "f70bec50-b92d-48b4-9d2a-9d40f289e99f",
   "metadata": {},
   "source": [
    "Path to dataset"
   ]
  },
  {
   "cell_type": "code",
   "execution_count": 2,
   "id": "f9bdd146-e128-48cc-9a8f-d91cf185ca81",
   "metadata": {},
   "outputs": [],
   "source": [
    "path = PosixPath('/media/davidhaasnoot/files/large_data_sets/CAMELS')"
   ]
  },
  {
   "cell_type": "code",
   "execution_count": 3,
   "id": "20b0e236-ac0a-4cc5-89c7-2cc48d7916bf",
   "metadata": {},
   "outputs": [
    {
     "data": {
      "text/plain": [
       "PosixPath('/media/davidhaasnoot/files/large_data_sets/CAMELS')"
      ]
     },
     "execution_count": 3,
     "metadata": {},
     "output_type": "execute_result"
    }
   ],
   "source": [
    "path"
   ]
  },
  {
   "cell_type": "markdown",
   "id": "29615e28-62b8-434c-9353-aa3fcd97a3d7",
   "metadata": {},
   "source": [
    "# load characteristics "
   ]
  },
  {
   "cell_type": "code",
   "execution_count": 4,
   "id": "f2c68387-6929-43da-acb8-ed75fe4dcab8",
   "metadata": {},
   "outputs": [],
   "source": [
    "indicator_files = list(path.glob('*.txt'))"
   ]
  },
  {
   "cell_type": "code",
   "execution_count": 5,
   "id": "48f2eb70-5181-4333-a07b-8adcb3893fbc",
   "metadata": {},
   "outputs": [],
   "source": [
    "df_clim_indicators = pd.read_csv(indicator_files[0],delimiter=\";\")\n",
    "df_geol_indicators = pd.read_csv(indicator_files[1],delimiter=\";\")\n",
    "df_hydro_indicators = pd.read_csv(indicator_files[2],delimiter=\";\")\n",
    "df_catchment_names = pd.read_csv(indicator_files[3],delimiter=\";\")\n",
    "df_soil_indicators = pd.read_csv(indicator_files[4],delimiter=\";\")\n",
    "df_topo_indicators = pd.read_csv(indicator_files[5],delimiter=\";\")\n",
    "df_vege_indicators = pd.read_csv(indicator_files[6],delimiter=\";\")\n",
    "df_vege_indicators['dom_land_cover'] = df_vege_indicators['dom_land_cover'].apply(lambda x: x.strip())"
   ]
  },
  {
   "cell_type": "code",
   "execution_count": 6,
   "id": "e827c2ef-3c51-421a-af56-51d01ca5e770",
   "metadata": {},
   "outputs": [],
   "source": [
    "df_char_lst = [df_geol_indicators,\n",
    "                df_clim_indicators,\n",
    "                df_hydro_indicators,\n",
    "                df_catchment_names,\n",
    "                df_soil_indicators,\n",
    "                df_vege_indicators, \n",
    "                df_topo_indicators]\n",
    "for index, df in enumerate(df_char_lst):\n",
    "    df_char_lst[index] = df.set_index('gauge_id')"
   ]
  },
  {
   "cell_type": "code",
   "execution_count": 7,
   "id": "e1c53b71-0a90-4438-9b30-3fef6f3a0f7d",
   "metadata": {},
   "outputs": [],
   "source": [
    "characteristics_all = pd.concat(df_char_lst,axis=1)"
   ]
  },
  {
   "cell_type": "markdown",
   "id": "17f9acda-475e-40c4-98ff-7873853f8a55",
   "metadata": {},
   "source": [
    "## Forcing path"
   ]
  },
  {
   "cell_type": "code",
   "execution_count": 8,
   "id": "2a06c2bb-fdbd-4abd-9849-cf9edf4c96e6",
   "metadata": {},
   "outputs": [],
   "source": [
    "source_lst = ['daymet','maurer','nldas']\n",
    "source = source_lst[0]\n",
    "forcing_sub_path_1 = f'basin_timeseries_v1p2_metForcing_obsFlow'\n",
    "forcing_sub_path_2 = f'basin_dataset_public_v1p2'\n",
    "forcing_sub_path_3 = f'basin_mean_forcing'"
   ]
  },
  {
   "cell_type": "code",
   "execution_count": 9,
   "id": "9f08c962-65d5-4c96-b721-0a55e9d50f03",
   "metadata": {},
   "outputs": [],
   "source": [
    "forcing_path = path / forcing_sub_path_1 / forcing_sub_path_2 / forcing_sub_path_3 / source"
   ]
  },
  {
   "cell_type": "code",
   "execution_count": 10,
   "id": "36dd6858-ab18-48a3-b6b1-7873e43975f3",
   "metadata": {},
   "outputs": [],
   "source": [
    "sub_dirs_forcing = list(forcing_path.glob(\"*\"))"
   ]
  },
  {
   "cell_type": "code",
   "execution_count": 11,
   "id": "5995d52d-7f5d-416e-b12d-13760b3cd2e6",
   "metadata": {},
   "outputs": [],
   "source": [
    "basin_mean_forcing_files = list(sub_dirs_forcing[0].glob(\"*.txt\"))"
   ]
  },
  {
   "cell_type": "code",
   "execution_count": 12,
   "id": "19a596cf-e5ba-424b-8951-872cb7460bd2",
   "metadata": {},
   "outputs": [],
   "source": [
    "basin_mean_forcing_file = basin_mean_forcing_files[0]\n",
    "basin_id = basin_mean_forcing_file.name[:8]\n",
    "folder_id = basin_mean_forcing_file.parent.name"
   ]
  },
  {
   "cell_type": "code",
   "execution_count": 13,
   "id": "b974b627-2592-4ab3-835a-d07ac0cf5130",
   "metadata": {},
   "outputs": [],
   "source": [
    "catchment_char = characteristics_all.loc[int(basin_id)].copy()"
   ]
  },
  {
   "cell_type": "code",
   "execution_count": 14,
   "id": "b8547d35-f843-4372-b626-8c4d49f97b60",
   "metadata": {},
   "outputs": [
    {
     "data": {
      "text/plain": [
       "671"
      ]
     },
     "execution_count": 14,
     "metadata": {},
     "output_type": "execute_result"
    }
   ],
   "source": [
    "len(list(characteristics_all.index))"
   ]
  },
  {
   "cell_type": "markdown",
   "id": "22547fe7-66a9-4d89-a1ba-9ed2592dc1a8",
   "metadata": {},
   "source": [
    "## retrieve alpha"
   ]
  },
  {
   "cell_type": "markdown",
   "id": "0ddd6dee-f5fb-4811-b906-d123130a59ca",
   "metadata": {},
   "source": [
    "retrieve alpha: not always 1.26"
   ]
  },
  {
   "cell_type": "code",
   "execution_count": 15,
   "id": "7deaa109-4d39-4834-9399-60fdc556c235",
   "metadata": {},
   "outputs": [],
   "source": [
    "model_ouput_path = path / f'basin_timeseries_v1p2_modelOutput_{source}' / f'model_output_{source}' / 'model_output' /'flow_timeseries'/ f'{source}'"
   ]
  },
  {
   "cell_type": "code",
   "execution_count": 16,
   "id": "3b751530-ca44-44d5-97c9-a4ff834ee212",
   "metadata": {},
   "outputs": [
    {
     "data": {
      "text/plain": [
       "PosixPath('/media/davidhaasnoot/files/large_data_sets/CAMELS/basin_timeseries_v1p2_modelOutput_daymet/model_output_daymet/model_output/flow_timeseries/daymet')"
      ]
     },
     "execution_count": 16,
     "metadata": {},
     "output_type": "execute_result"
    }
   ],
   "source": [
    "model_ouput_path"
   ]
  },
  {
   "cell_type": "code",
   "execution_count": 17,
   "id": "8706a33e-7ffb-4e8c-a9d8-be2a1bd52cb9",
   "metadata": {},
   "outputs": [],
   "source": [
    "parameter_files_path = list((model_ouput_path / f'{folder_id}').glob(f'{basin_id}_*_model_parameters.txt'))"
   ]
  },
  {
   "cell_type": "code",
   "execution_count": 18,
   "id": "b3061237-b9a4-42e2-89ae-0a541c4ddd64",
   "metadata": {},
   "outputs": [],
   "source": [
    "line_start = \"pet_coef\"\n",
    "lst_alpha = []\n",
    "for file in parameter_files_path:\n",
    "    with open(file,'r') as lines:\n",
    "        for line in lines:\n",
    "            if line[:len(line_start)] == line_start:\n",
    "                lst_alpha.append(float(line.strip().split(\"\\t\")[-1]))"
   ]
  },
  {
   "cell_type": "code",
   "execution_count": 19,
   "id": "ed9fd125-7639-4525-ba4e-524fe1fa0b59",
   "metadata": {},
   "outputs": [],
   "source": [
    "alpha = np.array(lst_alpha).mean()"
   ]
  },
  {
   "cell_type": "markdown",
   "id": "ca685358-5227-4d86-8bfb-79a654ecfbab",
   "metadata": {},
   "source": [
    "## add streamflow"
   ]
  },
  {
   "cell_type": "code",
   "execution_count": 20,
   "id": "040aa5d0-6248-4fba-b7ef-ed8448b0944a",
   "metadata": {},
   "outputs": [],
   "source": [
    "streamflow_path = path / forcing_sub_path_1 / forcing_sub_path_2 / 'usgs_streamflow'\n",
    "streamflow_file_path = streamflow_path / f'{folder_id}' / f'{basin_id}_streamflow_qc.txt' "
   ]
  },
  {
   "cell_type": "markdown",
   "id": "6c07f5ed-8537-49e8-b978-d2055c374568",
   "metadata": {},
   "source": [
    "# Combine all "
   ]
  },
  {
   "cell_type": "code",
   "execution_count": 21,
   "id": "b1b295d8-433c-4477-89c3-099970665f7e",
   "metadata": {},
   "outputs": [],
   "source": [
    "from read_camels import from_camels_txt, crop_ds, calc_pet"
   ]
  },
  {
   "cell_type": "code",
   "execution_count": 22,
   "id": "0ea870e9-5e14-4436-8689-484bfcd16889",
   "metadata": {},
   "outputs": [],
   "source": [
    "start_date = \"1980-01-01T00:00:00Z\"\n",
    "end_date = \"2014-12-31T00:00:00Z\""
   ]
  },
  {
   "cell_type": "code",
   "execution_count": 23,
   "id": "e8a1a35d-ce20-4349-9ed6-eac53c3b52d8",
   "metadata": {},
   "outputs": [],
   "source": [
    "out_path = path.cwd() / \"Output\" / source\n",
    "out_path.mkdir(exist_ok=True)"
   ]
  },
  {
   "cell_type": "code",
   "execution_count": 24,
   "id": "64d0140a-4ef4-41b1-8458-51d207e7d9ba",
   "metadata": {},
   "outputs": [],
   "source": [
    "ds0 = from_camels_txt(basin_mean_forcing_file, basin_id, source, start_date, end_date, out_path, alpha, catchment_char, streamflow_file_path)"
   ]
  },
  {
   "cell_type": "markdown",
   "id": "0f0fc4a0-e07e-4df7-aaf9-6902c89e72a6",
   "metadata": {},
   "source": [
    "## test merge"
   ]
  },
  {
   "cell_type": "code",
   "execution_count": 25,
   "id": "3cd92447-3e8f-4395-9034-bf662f9a3780",
   "metadata": {},
   "outputs": [],
   "source": [
    "source_lst = ['daymet','maurer','nldas']\n",
    "source = source_lst[0]\n",
    "# Source dependant\n",
    "forcing_sub_path_1 = f'basin_timeseries_v1p2_metForcing_obsFlow'\n",
    "forcing_sub_path_2 = f'basin_dataset_public_v1p2'\n",
    "forcing_sub_path_3 = f'basin_mean_forcing'\n",
    "forcing_path = path / forcing_sub_path_1 / forcing_sub_path_2 / forcing_sub_path_3 / source\n",
    "sub_dirs_forcing = list(forcing_path.glob(\"*\"))\n",
    "model_ouput_path = path / f'basin_timeseries_v1p2_modelOutput_{source}' / f'model_output_{source}' / 'model_output' /'flow_timeseries'/ f'{source}'\n",
    "streamflow_path = path / forcing_sub_path_1 / forcing_sub_path_2 / 'usgs_streamflow'"
   ]
  },
  {
   "cell_type": "code",
   "execution_count": 26,
   "id": "5d4ffb5a-fb9c-4d24-9adc-388748a808c1",
   "metadata": {},
   "outputs": [],
   "source": [
    "# basin dependant\n",
    "basin_mean_forcing_file = basin_mean_forcing_files[1]\n",
    "basin_id = basin_mean_forcing_file.name[:8]\n",
    "folder_id = basin_mean_forcing_file.parent.name\n",
    "catchment_char = characteristics_all.loc[int(basin_id)].copy()\n",
    "parameter_files_path = list((model_ouput_path / f'{folder_id}').glob(f'{basin_id}_*_model_parameters.txt'))\n",
    "line_start = \"pet_coef\"\n",
    "lst_alpha = []\n",
    "for file in parameter_files_path:\n",
    "    with open(file,'r') as lines:\n",
    "        for line in lines:\n",
    "            if line[:len(line_start)] == line_start:\n",
    "                lst_alpha.append(float(line.strip().split(\"\\t\")[-1]))\n",
    "alpha = np.array(lst_alpha).mean()\n",
    "\n",
    "streamflow_file_path = streamflow_path / f'{folder_id}' / f'{basin_id}_streamflow_qc.txt' "
   ]
  },
  {
   "cell_type": "code",
   "execution_count": 27,
   "id": "4fba23b2-979a-48ef-9a54-012e093deb6f",
   "metadata": {},
   "outputs": [],
   "source": [
    "ds1 = from_camels_txt(basin_mean_forcing_file, basin_id, source, start_date, end_date, out_path, alpha, catchment_char, streamflow_file_path)"
   ]
  },
  {
   "cell_type": "code",
   "execution_count": 28,
   "id": "f4803d19-b512-44c8-b412-11feb75aee20",
   "metadata": {},
   "outputs": [
    {
     "data": {
      "text/html": [
       "<div><svg style=\"position: absolute; width: 0; height: 0; overflow: hidden\">\n",
       "<defs>\n",
       "<symbol id=\"icon-database\" viewBox=\"0 0 32 32\">\n",
       "<path d=\"M16 0c-8.837 0-16 2.239-16 5v4c0 2.761 7.163 5 16 5s16-2.239 16-5v-4c0-2.761-7.163-5-16-5z\"></path>\n",
       "<path d=\"M16 17c-8.837 0-16-2.239-16-5v6c0 2.761 7.163 5 16 5s16-2.239 16-5v-6c0 2.761-7.163 5-16 5z\"></path>\n",
       "<path d=\"M16 26c-8.837 0-16-2.239-16-5v6c0 2.761 7.163 5 16 5s16-2.239 16-5v-6c0 2.761-7.163 5-16 5z\"></path>\n",
       "</symbol>\n",
       "<symbol id=\"icon-file-text2\" viewBox=\"0 0 32 32\">\n",
       "<path d=\"M28.681 7.159c-0.694-0.947-1.662-2.053-2.724-3.116s-2.169-2.030-3.116-2.724c-1.612-1.182-2.393-1.319-2.841-1.319h-15.5c-1.378 0-2.5 1.121-2.5 2.5v27c0 1.378 1.122 2.5 2.5 2.5h23c1.378 0 2.5-1.122 2.5-2.5v-19.5c0-0.448-0.137-1.23-1.319-2.841zM24.543 5.457c0.959 0.959 1.712 1.825 2.268 2.543h-4.811v-4.811c0.718 0.556 1.584 1.309 2.543 2.268zM28 29.5c0 0.271-0.229 0.5-0.5 0.5h-23c-0.271 0-0.5-0.229-0.5-0.5v-27c0-0.271 0.229-0.5 0.5-0.5 0 0 15.499-0 15.5 0v7c0 0.552 0.448 1 1 1h7v19.5z\"></path>\n",
       "<path d=\"M23 26h-14c-0.552 0-1-0.448-1-1s0.448-1 1-1h14c0.552 0 1 0.448 1 1s-0.448 1-1 1z\"></path>\n",
       "<path d=\"M23 22h-14c-0.552 0-1-0.448-1-1s0.448-1 1-1h14c0.552 0 1 0.448 1 1s-0.448 1-1 1z\"></path>\n",
       "<path d=\"M23 18h-14c-0.552 0-1-0.448-1-1s0.448-1 1-1h14c0.552 0 1 0.448 1 1s-0.448 1-1 1z\"></path>\n",
       "</symbol>\n",
       "</defs>\n",
       "</svg>\n",
       "<style>/* CSS stylesheet for displaying xarray objects in jupyterlab.\n",
       " *\n",
       " */\n",
       "\n",
       ":root {\n",
       "  --xr-font-color0: var(--jp-content-font-color0, rgba(0, 0, 0, 1));\n",
       "  --xr-font-color2: var(--jp-content-font-color2, rgba(0, 0, 0, 0.54));\n",
       "  --xr-font-color3: var(--jp-content-font-color3, rgba(0, 0, 0, 0.38));\n",
       "  --xr-border-color: var(--jp-border-color2, #e0e0e0);\n",
       "  --xr-disabled-color: var(--jp-layout-color3, #bdbdbd);\n",
       "  --xr-background-color: var(--jp-layout-color0, white);\n",
       "  --xr-background-color-row-even: var(--jp-layout-color1, white);\n",
       "  --xr-background-color-row-odd: var(--jp-layout-color2, #eeeeee);\n",
       "}\n",
       "\n",
       "html[theme=dark],\n",
       "body[data-theme=dark],\n",
       "body.vscode-dark {\n",
       "  --xr-font-color0: rgba(255, 255, 255, 1);\n",
       "  --xr-font-color2: rgba(255, 255, 255, 0.54);\n",
       "  --xr-font-color3: rgba(255, 255, 255, 0.38);\n",
       "  --xr-border-color: #1F1F1F;\n",
       "  --xr-disabled-color: #515151;\n",
       "  --xr-background-color: #111111;\n",
       "  --xr-background-color-row-even: #111111;\n",
       "  --xr-background-color-row-odd: #313131;\n",
       "}\n",
       "\n",
       ".xr-wrap {\n",
       "  display: block !important;\n",
       "  min-width: 300px;\n",
       "  max-width: 700px;\n",
       "}\n",
       "\n",
       ".xr-text-repr-fallback {\n",
       "  /* fallback to plain text repr when CSS is not injected (untrusted notebook) */\n",
       "  display: none;\n",
       "}\n",
       "\n",
       ".xr-header {\n",
       "  padding-top: 6px;\n",
       "  padding-bottom: 6px;\n",
       "  margin-bottom: 4px;\n",
       "  border-bottom: solid 1px var(--xr-border-color);\n",
       "}\n",
       "\n",
       ".xr-header > div,\n",
       ".xr-header > ul {\n",
       "  display: inline;\n",
       "  margin-top: 0;\n",
       "  margin-bottom: 0;\n",
       "}\n",
       "\n",
       ".xr-obj-type,\n",
       ".xr-array-name {\n",
       "  margin-left: 2px;\n",
       "  margin-right: 10px;\n",
       "}\n",
       "\n",
       ".xr-obj-type {\n",
       "  color: var(--xr-font-color2);\n",
       "}\n",
       "\n",
       ".xr-sections {\n",
       "  padding-left: 0 !important;\n",
       "  display: grid;\n",
       "  grid-template-columns: 150px auto auto 1fr 20px 20px;\n",
       "}\n",
       "\n",
       ".xr-section-item {\n",
       "  display: contents;\n",
       "}\n",
       "\n",
       ".xr-section-item input {\n",
       "  display: none;\n",
       "}\n",
       "\n",
       ".xr-section-item input + label {\n",
       "  color: var(--xr-disabled-color);\n",
       "}\n",
       "\n",
       ".xr-section-item input:enabled + label {\n",
       "  cursor: pointer;\n",
       "  color: var(--xr-font-color2);\n",
       "}\n",
       "\n",
       ".xr-section-item input:enabled + label:hover {\n",
       "  color: var(--xr-font-color0);\n",
       "}\n",
       "\n",
       ".xr-section-summary {\n",
       "  grid-column: 1;\n",
       "  color: var(--xr-font-color2);\n",
       "  font-weight: 500;\n",
       "}\n",
       "\n",
       ".xr-section-summary > span {\n",
       "  display: inline-block;\n",
       "  padding-left: 0.5em;\n",
       "}\n",
       "\n",
       ".xr-section-summary-in:disabled + label {\n",
       "  color: var(--xr-font-color2);\n",
       "}\n",
       "\n",
       ".xr-section-summary-in + label:before {\n",
       "  display: inline-block;\n",
       "  content: '►';\n",
       "  font-size: 11px;\n",
       "  width: 15px;\n",
       "  text-align: center;\n",
       "}\n",
       "\n",
       ".xr-section-summary-in:disabled + label:before {\n",
       "  color: var(--xr-disabled-color);\n",
       "}\n",
       "\n",
       ".xr-section-summary-in:checked + label:before {\n",
       "  content: '▼';\n",
       "}\n",
       "\n",
       ".xr-section-summary-in:checked + label > span {\n",
       "  display: none;\n",
       "}\n",
       "\n",
       ".xr-section-summary,\n",
       ".xr-section-inline-details {\n",
       "  padding-top: 4px;\n",
       "  padding-bottom: 4px;\n",
       "}\n",
       "\n",
       ".xr-section-inline-details {\n",
       "  grid-column: 2 / -1;\n",
       "}\n",
       "\n",
       ".xr-section-details {\n",
       "  display: none;\n",
       "  grid-column: 1 / -1;\n",
       "  margin-bottom: 5px;\n",
       "}\n",
       "\n",
       ".xr-section-summary-in:checked ~ .xr-section-details {\n",
       "  display: contents;\n",
       "}\n",
       "\n",
       ".xr-array-wrap {\n",
       "  grid-column: 1 / -1;\n",
       "  display: grid;\n",
       "  grid-template-columns: 20px auto;\n",
       "}\n",
       "\n",
       ".xr-array-wrap > label {\n",
       "  grid-column: 1;\n",
       "  vertical-align: top;\n",
       "}\n",
       "\n",
       ".xr-preview {\n",
       "  color: var(--xr-font-color3);\n",
       "}\n",
       "\n",
       ".xr-array-preview,\n",
       ".xr-array-data {\n",
       "  padding: 0 5px !important;\n",
       "  grid-column: 2;\n",
       "}\n",
       "\n",
       ".xr-array-data,\n",
       ".xr-array-in:checked ~ .xr-array-preview {\n",
       "  display: none;\n",
       "}\n",
       "\n",
       ".xr-array-in:checked ~ .xr-array-data,\n",
       ".xr-array-preview {\n",
       "  display: inline-block;\n",
       "}\n",
       "\n",
       ".xr-dim-list {\n",
       "  display: inline-block !important;\n",
       "  list-style: none;\n",
       "  padding: 0 !important;\n",
       "  margin: 0;\n",
       "}\n",
       "\n",
       ".xr-dim-list li {\n",
       "  display: inline-block;\n",
       "  padding: 0;\n",
       "  margin: 0;\n",
       "}\n",
       "\n",
       ".xr-dim-list:before {\n",
       "  content: '(';\n",
       "}\n",
       "\n",
       ".xr-dim-list:after {\n",
       "  content: ')';\n",
       "}\n",
       "\n",
       ".xr-dim-list li:not(:last-child):after {\n",
       "  content: ',';\n",
       "  padding-right: 5px;\n",
       "}\n",
       "\n",
       ".xr-has-index {\n",
       "  font-weight: bold;\n",
       "}\n",
       "\n",
       ".xr-var-list,\n",
       ".xr-var-item {\n",
       "  display: contents;\n",
       "}\n",
       "\n",
       ".xr-var-item > div,\n",
       ".xr-var-item label,\n",
       ".xr-var-item > .xr-var-name span {\n",
       "  background-color: var(--xr-background-color-row-even);\n",
       "  margin-bottom: 0;\n",
       "}\n",
       "\n",
       ".xr-var-item > .xr-var-name:hover span {\n",
       "  padding-right: 5px;\n",
       "}\n",
       "\n",
       ".xr-var-list > li:nth-child(odd) > div,\n",
       ".xr-var-list > li:nth-child(odd) > label,\n",
       ".xr-var-list > li:nth-child(odd) > .xr-var-name span {\n",
       "  background-color: var(--xr-background-color-row-odd);\n",
       "}\n",
       "\n",
       ".xr-var-name {\n",
       "  grid-column: 1;\n",
       "}\n",
       "\n",
       ".xr-var-dims {\n",
       "  grid-column: 2;\n",
       "}\n",
       "\n",
       ".xr-var-dtype {\n",
       "  grid-column: 3;\n",
       "  text-align: right;\n",
       "  color: var(--xr-font-color2);\n",
       "}\n",
       "\n",
       ".xr-var-preview {\n",
       "  grid-column: 4;\n",
       "}\n",
       "\n",
       ".xr-index-preview {\n",
       "  grid-column: 2 / 5;\n",
       "  color: var(--xr-font-color2);\n",
       "}\n",
       "\n",
       ".xr-var-name,\n",
       ".xr-var-dims,\n",
       ".xr-var-dtype,\n",
       ".xr-preview,\n",
       ".xr-attrs dt {\n",
       "  white-space: nowrap;\n",
       "  overflow: hidden;\n",
       "  text-overflow: ellipsis;\n",
       "  padding-right: 10px;\n",
       "}\n",
       "\n",
       ".xr-var-name:hover,\n",
       ".xr-var-dims:hover,\n",
       ".xr-var-dtype:hover,\n",
       ".xr-attrs dt:hover {\n",
       "  overflow: visible;\n",
       "  width: auto;\n",
       "  z-index: 1;\n",
       "}\n",
       "\n",
       ".xr-var-attrs,\n",
       ".xr-var-data,\n",
       ".xr-index-data {\n",
       "  display: none;\n",
       "  background-color: var(--xr-background-color) !important;\n",
       "  padding-bottom: 5px !important;\n",
       "}\n",
       "\n",
       ".xr-var-attrs-in:checked ~ .xr-var-attrs,\n",
       ".xr-var-data-in:checked ~ .xr-var-data,\n",
       ".xr-index-data-in:checked ~ .xr-index-data {\n",
       "  display: block;\n",
       "}\n",
       "\n",
       ".xr-var-data > table {\n",
       "  float: right;\n",
       "}\n",
       "\n",
       ".xr-var-name span,\n",
       ".xr-var-data,\n",
       ".xr-index-name div,\n",
       ".xr-index-data,\n",
       ".xr-attrs {\n",
       "  padding-left: 25px !important;\n",
       "}\n",
       "\n",
       ".xr-attrs,\n",
       ".xr-var-attrs,\n",
       ".xr-var-data,\n",
       ".xr-index-data {\n",
       "  grid-column: 1 / -1;\n",
       "}\n",
       "\n",
       "dl.xr-attrs {\n",
       "  padding: 0;\n",
       "  margin: 0;\n",
       "  display: grid;\n",
       "  grid-template-columns: 125px auto;\n",
       "}\n",
       "\n",
       ".xr-attrs dt,\n",
       ".xr-attrs dd {\n",
       "  padding: 0;\n",
       "  margin: 0;\n",
       "  float: left;\n",
       "  padding-right: 10px;\n",
       "  width: auto;\n",
       "}\n",
       "\n",
       ".xr-attrs dt {\n",
       "  font-weight: normal;\n",
       "  grid-column: 1;\n",
       "}\n",
       "\n",
       ".xr-attrs dt:hover span {\n",
       "  display: inline-block;\n",
       "  background: var(--xr-background-color);\n",
       "  padding-right: 10px;\n",
       "}\n",
       "\n",
       ".xr-attrs dd {\n",
       "  grid-column: 2;\n",
       "  white-space: pre-wrap;\n",
       "  word-break: break-all;\n",
       "}\n",
       "\n",
       ".xr-icon-database,\n",
       ".xr-icon-file-text2,\n",
       ".xr-no-icon {\n",
       "  display: inline-block;\n",
       "  vertical-align: middle;\n",
       "  width: 1em;\n",
       "  height: 1.5em !important;\n",
       "  stroke-width: 0;\n",
       "  stroke: currentColor;\n",
       "  fill: currentColor;\n",
       "}\n",
       "</style><pre class='xr-text-repr-fallback'>&lt;xarray.Dataset&gt; Size: 2MB\n",
       "Dimensions:               (time: 12784, data_source: 1, basin_id: 2)\n",
       "Coordinates:\n",
       "  * time                  (time) datetime64[ns] 102kB 1980-01-01 ... 2014-12-31\n",
       "  * data_source           (data_source) |S64 64B b&#x27;daymet&#x27;\n",
       "  * basin_id              (basin_id) |S64 128B b&#x27;01013500&#x27; b&#x27;01134500&#x27;\n",
       "Data variables: (12/69)\n",
       "    dayl                  (basin_id, data_source, time) float64 205kB 3.017e+...\n",
       "    pr                    (basin_id, data_source, time) float64 205kB 0.0 ......\n",
       "    srad                  (basin_id, data_source, time) float64 205kB 153.4 ....\n",
       "    swe                   (basin_id, data_source, time) float64 205kB 0.0 ......\n",
       "    tasmax                (basin_id, data_source, time) float64 205kB -6.54 ....\n",
       "    tasmin                (basin_id, data_source, time) float64 205kB -16.3 ....\n",
       "    ...                    ...\n",
       "    gauge_lat             (basin_id) float64 16B 47.24 44.51\n",
       "    gauge_lon             (basin_id) float64 16B -68.58 -71.84\n",
       "    elev_mean             (basin_id) float64 16B 250.3 450.5\n",
       "    slope_mean            (basin_id) float64 16B 21.64 47.54\n",
       "    area_gages2           (basin_id) float64 16B 2.253e+03 195.1\n",
       "    area_geospa_fabric    (basin_id) float64 16B 2.304e+03 209.5\n",
       "Attributes:\n",
       "    title:            Basin mean forcing data\n",
       "    history:          Created by David Haasnoot for eWatercycle using CAMELS ...\n",
       "    data_source:      CAMELS was compiled by A. Newman et al. `A large-sample...\n",
       "    url_source_data:  https://dx.doi.org/10.5065/D6MW2F4D\n",
       "    units:            daylight(s), precipitation(mm/day), mean radiation(W/m2...\n",
       "    alpha:            1.2617\n",
       "    lat:              44.49\n",
       "    elevation(m):     529.0\n",
       "    area basin(m^2):  194683851.0</pre><div class='xr-wrap' style='display:none'><div class='xr-header'><div class='xr-obj-type'>xarray.Dataset</div></div><ul class='xr-sections'><li class='xr-section-item'><input id='section-38ff5e75-2122-4045-b046-1ade6d98aff6' class='xr-section-summary-in' type='checkbox' disabled ><label for='section-38ff5e75-2122-4045-b046-1ade6d98aff6' class='xr-section-summary'  title='Expand/collapse section'>Dimensions:</label><div class='xr-section-inline-details'><ul class='xr-dim-list'><li><span class='xr-has-index'>time</span>: 12784</li><li><span class='xr-has-index'>data_source</span>: 1</li><li><span class='xr-has-index'>basin_id</span>: 2</li></ul></div><div class='xr-section-details'></div></li><li class='xr-section-item'><input id='section-14f61807-97b2-47bb-ab8b-f010eb52d4d1' class='xr-section-summary-in' type='checkbox'  checked><label for='section-14f61807-97b2-47bb-ab8b-f010eb52d4d1' class='xr-section-summary' >Coordinates: <span>(3)</span></label><div class='xr-section-inline-details'></div><div class='xr-section-details'><ul class='xr-var-list'><li class='xr-var-item'><div class='xr-var-name'><span class='xr-has-index'>time</span></div><div class='xr-var-dims'>(time)</div><div class='xr-var-dtype'>datetime64[ns]</div><div class='xr-var-preview xr-preview'>1980-01-01 ... 2014-12-31</div><input id='attrs-08d98587-0731-47e9-b81e-18b067254099' class='xr-var-attrs-in' type='checkbox' disabled><label for='attrs-08d98587-0731-47e9-b81e-18b067254099' title='Show/Hide attributes'><svg class='icon xr-icon-file-text2'><use xlink:href='#icon-file-text2'></use></svg></label><input id='data-f9964edc-cc1d-42ea-9572-52a90450cbfb' class='xr-var-data-in' type='checkbox'><label for='data-f9964edc-cc1d-42ea-9572-52a90450cbfb' title='Show/Hide data repr'><svg class='icon xr-icon-database'><use xlink:href='#icon-database'></use></svg></label><div class='xr-var-attrs'><dl class='xr-attrs'></dl></div><div class='xr-var-data'><pre>array([&#x27;1980-01-01T00:00:00.000000000&#x27;, &#x27;1980-01-02T00:00:00.000000000&#x27;,\n",
       "       &#x27;1980-01-03T00:00:00.000000000&#x27;, ..., &#x27;2014-12-29T00:00:00.000000000&#x27;,\n",
       "       &#x27;2014-12-30T00:00:00.000000000&#x27;, &#x27;2014-12-31T00:00:00.000000000&#x27;],\n",
       "      dtype=&#x27;datetime64[ns]&#x27;)</pre></div></li><li class='xr-var-item'><div class='xr-var-name'><span class='xr-has-index'>data_source</span></div><div class='xr-var-dims'>(data_source)</div><div class='xr-var-dtype'>|S64</div><div class='xr-var-preview xr-preview'>b&#x27;daymet&#x27;</div><input id='attrs-c52ccedb-9eb2-4b11-a0d9-3bad4a9de275' class='xr-var-attrs-in' type='checkbox' disabled><label for='attrs-c52ccedb-9eb2-4b11-a0d9-3bad4a9de275' title='Show/Hide attributes'><svg class='icon xr-icon-file-text2'><use xlink:href='#icon-file-text2'></use></svg></label><input id='data-40e9739e-e5f9-419b-98f3-9621f4e3e85e' class='xr-var-data-in' type='checkbox'><label for='data-40e9739e-e5f9-419b-98f3-9621f4e3e85e' title='Show/Hide data repr'><svg class='icon xr-icon-database'><use xlink:href='#icon-database'></use></svg></label><div class='xr-var-attrs'><dl class='xr-attrs'></dl></div><div class='xr-var-data'><pre>array([b&#x27;daymet&#x27;], dtype=&#x27;|S64&#x27;)</pre></div></li><li class='xr-var-item'><div class='xr-var-name'><span class='xr-has-index'>basin_id</span></div><div class='xr-var-dims'>(basin_id)</div><div class='xr-var-dtype'>|S64</div><div class='xr-var-preview xr-preview'>b&#x27;01013500&#x27; b&#x27;01134500&#x27;</div><input id='attrs-09dc816b-ee68-44aa-b91e-10da44c0b3f7' class='xr-var-attrs-in' type='checkbox' disabled><label for='attrs-09dc816b-ee68-44aa-b91e-10da44c0b3f7' title='Show/Hide attributes'><svg class='icon xr-icon-file-text2'><use xlink:href='#icon-file-text2'></use></svg></label><input id='data-a0633409-b582-4da7-8748-50c0782f2d67' class='xr-var-data-in' type='checkbox'><label for='data-a0633409-b582-4da7-8748-50c0782f2d67' title='Show/Hide data repr'><svg class='icon xr-icon-database'><use xlink:href='#icon-database'></use></svg></label><div class='xr-var-attrs'><dl class='xr-attrs'></dl></div><div class='xr-var-data'><pre>array([b&#x27;01013500&#x27;, b&#x27;01134500&#x27;], dtype=&#x27;|S64&#x27;)</pre></div></li></ul></div></li><li class='xr-section-item'><input id='section-f3ded5f5-7ca4-45ea-9d77-e331b5defb52' class='xr-section-summary-in' type='checkbox'  ><label for='section-f3ded5f5-7ca4-45ea-9d77-e331b5defb52' class='xr-section-summary' >Data variables: <span>(69)</span></label><div class='xr-section-inline-details'></div><div class='xr-section-details'><ul class='xr-var-list'><li class='xr-var-item'><div class='xr-var-name'><span>dayl</span></div><div class='xr-var-dims'>(basin_id, data_source, time)</div><div class='xr-var-dtype'>float64</div><div class='xr-var-preview xr-preview'>3.017e+04 3.025e+04 ... 3.131e+04</div><input id='attrs-18003e14-313d-4dc7-b098-177cc76f9362' class='xr-var-attrs-in' type='checkbox' disabled><label for='attrs-18003e14-313d-4dc7-b098-177cc76f9362' title='Show/Hide attributes'><svg class='icon xr-icon-file-text2'><use xlink:href='#icon-file-text2'></use></svg></label><input id='data-450e2373-d6c3-4f4a-ab89-fe8438135030' class='xr-var-data-in' type='checkbox'><label for='data-450e2373-d6c3-4f4a-ab89-fe8438135030' title='Show/Hide data repr'><svg class='icon xr-icon-database'><use xlink:href='#icon-database'></use></svg></label><div class='xr-var-attrs'><dl class='xr-attrs'></dl></div><div class='xr-var-data'><pre>array([[[30172.51, 30253.1 , 30344.18, ..., 30067.2 , 30067.89,\n",
       "         30107.3 ]],\n",
       "\n",
       "       [[31449.22, 31449.61, 31449.61, ..., 31104.  , 31149.39,\n",
       "         31310.07]]])</pre></div></li><li class='xr-var-item'><div class='xr-var-name'><span>pr</span></div><div class='xr-var-dims'>(basin_id, data_source, time)</div><div class='xr-var-dtype'>float64</div><div class='xr-var-preview xr-preview'>0.0 0.0 0.0 0.0 ... 0.02 0.0 0.0</div><input id='attrs-7a8e9049-e755-45dd-93e1-026fac9f6cbb' class='xr-var-attrs-in' type='checkbox' disabled><label for='attrs-7a8e9049-e755-45dd-93e1-026fac9f6cbb' title='Show/Hide attributes'><svg class='icon xr-icon-file-text2'><use xlink:href='#icon-file-text2'></use></svg></label><input id='data-b1bf72e3-eb04-43b5-b78f-83e7450344f4' class='xr-var-data-in' type='checkbox'><label for='data-b1bf72e3-eb04-43b5-b78f-83e7450344f4' title='Show/Hide data repr'><svg class='icon xr-icon-database'><use xlink:href='#icon-database'></use></svg></label><div class='xr-var-attrs'><dl class='xr-attrs'></dl></div><div class='xr-var-data'><pre>array([[[0.  , 0.  , 0.  , ..., 0.02, 0.  , 0.  ]],\n",
       "\n",
       "       [[0.  , 0.  , 0.  , ..., 0.02, 0.  , 0.  ]]])</pre></div></li><li class='xr-var-item'><div class='xr-var-name'><span>srad</span></div><div class='xr-var-dims'>(basin_id, data_source, time)</div><div class='xr-var-dtype'>float64</div><div class='xr-var-preview xr-preview'>153.4 145.3 147.0 ... 223.6 193.1</div><input id='attrs-225e3652-48e6-4b97-ae27-15b155cf6df5' class='xr-var-attrs-in' type='checkbox' disabled><label for='attrs-225e3652-48e6-4b97-ae27-15b155cf6df5' title='Show/Hide attributes'><svg class='icon xr-icon-file-text2'><use xlink:href='#icon-file-text2'></use></svg></label><input id='data-867f50b8-8267-48d0-9e86-87fcbff9a0d7' class='xr-var-data-in' type='checkbox'><label for='data-867f50b8-8267-48d0-9e86-87fcbff9a0d7' title='Show/Hide data repr'><svg class='icon xr-icon-database'><use xlink:href='#icon-database'></use></svg></label><div class='xr-var-attrs'><dl class='xr-attrs'></dl></div><div class='xr-var-data'><pre>array([[[153.4 , 145.27, 146.96, ..., 193.62, 180.57, 185.32]],\n",
       "\n",
       "       [[191.95, 110.46, 210.1 , ..., 195.08, 223.57, 193.07]]])</pre></div></li><li class='xr-var-item'><div class='xr-var-name'><span>swe</span></div><div class='xr-var-dims'>(basin_id, data_source, time)</div><div class='xr-var-dtype'>float64</div><div class='xr-var-preview xr-preview'>0.0 0.0 0.0 0.0 ... 0.0 0.0 0.0 0.0</div><input id='attrs-6fde3d31-2671-4f1b-a5f9-21bc7ee5f035' class='xr-var-attrs-in' type='checkbox' disabled><label for='attrs-6fde3d31-2671-4f1b-a5f9-21bc7ee5f035' title='Show/Hide attributes'><svg class='icon xr-icon-file-text2'><use xlink:href='#icon-file-text2'></use></svg></label><input id='data-20c794f8-2bd1-4160-acd8-5438c55bc0e0' class='xr-var-data-in' type='checkbox'><label for='data-20c794f8-2bd1-4160-acd8-5438c55bc0e0' title='Show/Hide data repr'><svg class='icon xr-icon-database'><use xlink:href='#icon-database'></use></svg></label><div class='xr-var-attrs'><dl class='xr-attrs'></dl></div><div class='xr-var-data'><pre>array([[[0., 0., 0., ..., 0., 0., 0.]],\n",
       "\n",
       "       [[0., 0., 0., ..., 0., 0., 0.]]])</pre></div></li><li class='xr-var-item'><div class='xr-var-name'><span>tasmax</span></div><div class='xr-var-dims'>(basin_id, data_source, time)</div><div class='xr-var-dtype'>float64</div><div class='xr-var-preview xr-preview'>-6.54 -6.18 -9.89 ... -5.51 -10.84</div><input id='attrs-63286945-240a-439a-af90-11014873339e' class='xr-var-attrs-in' type='checkbox' disabled><label for='attrs-63286945-240a-439a-af90-11014873339e' title='Show/Hide attributes'><svg class='icon xr-icon-file-text2'><use xlink:href='#icon-file-text2'></use></svg></label><input id='data-2fdedbcb-a92b-4166-b5ff-564e2fcc1290' class='xr-var-data-in' type='checkbox'><label for='data-2fdedbcb-a92b-4166-b5ff-564e2fcc1290' title='Show/Hide data repr'><svg class='icon xr-icon-database'><use xlink:href='#icon-database'></use></svg></label><div class='xr-var-attrs'><dl class='xr-attrs'></dl></div><div class='xr-var-data'><pre>array([[[ -6.54,  -6.18,  -9.89, ...,  -0.76, -13.31, -14.84]],\n",
       "\n",
       "       [[ -4.42,  -3.32,  -4.9 , ...,   2.6 ,  -5.51, -10.84]]])</pre></div></li><li class='xr-var-item'><div class='xr-var-name'><span>tasmin</span></div><div class='xr-var-dims'>(basin_id, data_source, time)</div><div class='xr-var-dtype'>float64</div><div class='xr-var-preview xr-preview'>-16.3 -15.22 ... -17.12 -19.3</div><input id='attrs-916d5d4d-0fc8-4d11-8be8-3cbb4e431db9' class='xr-var-attrs-in' type='checkbox' disabled><label for='attrs-916d5d4d-0fc8-4d11-8be8-3cbb4e431db9' title='Show/Hide attributes'><svg class='icon xr-icon-file-text2'><use xlink:href='#icon-file-text2'></use></svg></label><input id='data-8145a017-1906-454a-ab3e-d9a016132f83' class='xr-var-data-in' type='checkbox'><label for='data-8145a017-1906-454a-ab3e-d9a016132f83' title='Show/Hide data repr'><svg class='icon xr-icon-database'><use xlink:href='#icon-database'></use></svg></label><div class='xr-var-attrs'><dl class='xr-attrs'></dl></div><div class='xr-var-data'><pre>array([[[-16.3 , -15.22, -18.86, ..., -16.03, -23.54, -25.6 ]],\n",
       "\n",
       "       [[-13.56,  -8.04, -15.39, ...,  -6.48, -17.12, -19.3 ]]])</pre></div></li><li class='xr-var-item'><div class='xr-var-name'><span>vp</span></div><div class='xr-var-dims'>(basin_id, data_source, time)</div><div class='xr-var-dtype'>float64</div><div class='xr-var-preview xr-preview'>171.7 185.9 138.4 ... 158.6 129.5</div><input id='attrs-c0a33a25-56d8-4047-8827-0579f1a7f803' class='xr-var-attrs-in' type='checkbox' disabled><label for='attrs-c0a33a25-56d8-4047-8827-0579f1a7f803' title='Show/Hide attributes'><svg class='icon xr-icon-file-text2'><use xlink:href='#icon-file-text2'></use></svg></label><input id='data-dbd31b05-446e-4d93-8068-8e0f5f2c4e3b' class='xr-var-data-in' type='checkbox'><label for='data-dbd31b05-446e-4d93-8068-8e0f5f2c4e3b' title='Show/Hide data repr'><svg class='icon xr-icon-database'><use xlink:href='#icon-database'></use></svg></label><div class='xr-var-attrs'><dl class='xr-attrs'></dl></div><div class='xr-var-data'><pre>array([[[171.69, 185.94, 138.39, ..., 175.39,  90.01,  80.  ]],\n",
       "\n",
       "       [[204.18, 334.18, 189.95, ..., 374.66, 158.64, 129.48]]])</pre></div></li><li class='xr-var-item'><div class='xr-var-name'><span>evspsblpot</span></div><div class='xr-var-dims'>(basin_id, data_source, time)</div><div class='xr-var-dtype'>float64</div><div class='xr-var-preview xr-preview'>-0.1135 -0.102 ... -6.771e-05</div><input id='attrs-fb6fa1d8-b825-4c7b-9887-7a566611ff77' class='xr-var-attrs-in' type='checkbox' disabled><label for='attrs-fb6fa1d8-b825-4c7b-9887-7a566611ff77' title='Show/Hide attributes'><svg class='icon xr-icon-file-text2'><use xlink:href='#icon-file-text2'></use></svg></label><input id='data-3cbc81eb-f8be-4825-b26d-89ffd5ad11a5' class='xr-var-data-in' type='checkbox'><label for='data-3cbc81eb-f8be-4825-b26d-89ffd5ad11a5' title='Show/Hide data repr'><svg class='icon xr-icon-database'><use xlink:href='#icon-database'></use></svg></label><div class='xr-var-attrs'><dl class='xr-attrs'></dl></div><div class='xr-var-data'><pre>array([[[-1.13495351e-01, -1.01957807e-01, -6.86716178e-02, ...,\n",
       "         -2.65621661e-01, -8.05813929e-02, -6.60863134e-02]],\n",
       "\n",
       "       [[-2.86770088e-02,  5.57143782e-02, -3.19505178e-02, ...,\n",
       "         -8.80436134e-02, -5.56053151e-02, -6.77086164e-05]]])</pre></div></li><li class='xr-var-item'><div class='xr-var-name'><span>tas</span></div><div class='xr-var-dims'>(basin_id, data_source, time)</div><div class='xr-var-dtype'>float64</div><div class='xr-var-preview xr-preview'>-11.42 -10.7 ... -11.32 -15.07</div><input id='attrs-ce9ee595-e425-418a-ad34-fad45573481a' class='xr-var-attrs-in' type='checkbox' disabled><label for='attrs-ce9ee595-e425-418a-ad34-fad45573481a' title='Show/Hide attributes'><svg class='icon xr-icon-file-text2'><use xlink:href='#icon-file-text2'></use></svg></label><input id='data-a72fa4dc-5dbf-4b05-9f83-83c22c0a03a4' class='xr-var-data-in' type='checkbox'><label for='data-a72fa4dc-5dbf-4b05-9f83-83c22c0a03a4' title='Show/Hide data repr'><svg class='icon xr-icon-database'><use xlink:href='#icon-database'></use></svg></label><div class='xr-var-attrs'><dl class='xr-attrs'></dl></div><div class='xr-var-data'><pre>array([[[-11.42 , -10.7  , -14.375, ...,  -8.395, -18.425, -20.22 ]],\n",
       "\n",
       "       [[ -8.99 ,  -5.68 , -10.145, ...,  -1.94 , -11.315, -15.07 ]]])</pre></div></li><li class='xr-var-item'><div class='xr-var-name'><span>streamflow</span></div><div class='xr-var-dims'>(basin_id, time)</div><div class='xr-var-dtype'>float64</div><div class='xr-var-preview xr-preview'>0.709 0.6928 0.6766 ... 12.55 12.55</div><input id='attrs-eb03093a-1919-4e85-9553-4a01897c17b2' class='xr-var-attrs-in' type='checkbox' disabled><label for='attrs-eb03093a-1919-4e85-9553-4a01897c17b2' title='Show/Hide attributes'><svg class='icon xr-icon-file-text2'><use xlink:href='#icon-file-text2'></use></svg></label><input id='data-b63e3782-8d6a-4a8f-a5e9-84768e554e0f' class='xr-var-data-in' type='checkbox'><label for='data-b63e3782-8d6a-4a8f-a5e9-84768e554e0f' title='Show/Hide data repr'><svg class='icon xr-icon-database'><use xlink:href='#icon-database'></use></svg></label><div class='xr-var-attrs'><dl class='xr-attrs'></dl></div><div class='xr-var-data'><pre>array([[ 0.70904467,  0.69280701,  0.67656934, ...,         nan,\n",
       "                nan,         nan],\n",
       "       [ 1.05562092,  0.92995176,  0.80428261, ..., 12.5543488 ,\n",
       "        12.5543488 , 12.5543488 ]])</pre></div></li><li class='xr-var-item'><div class='xr-var-name'><span>geol_1st_class</span></div><div class='xr-var-dims'>(basin_id)</div><div class='xr-var-dtype'>object</div><div class='xr-var-preview xr-preview'>&#x27;Siliciclastic sedimentary rocks...</div><input id='attrs-ac470459-ce75-43b8-963b-d0b05497499a' class='xr-var-attrs-in' type='checkbox' disabled><label for='attrs-ac470459-ce75-43b8-963b-d0b05497499a' title='Show/Hide attributes'><svg class='icon xr-icon-file-text2'><use xlink:href='#icon-file-text2'></use></svg></label><input id='data-498cbbf6-3525-4c62-bf62-a16e68c58a20' class='xr-var-data-in' type='checkbox'><label for='data-498cbbf6-3525-4c62-bf62-a16e68c58a20' title='Show/Hide data repr'><svg class='icon xr-icon-database'><use xlink:href='#icon-database'></use></svg></label><div class='xr-var-attrs'><dl class='xr-attrs'></dl></div><div class='xr-var-data'><pre>array([&#x27;Siliciclastic sedimentary rocks&#x27;, &#x27;Metamorphics&#x27;], dtype=object)</pre></div></li><li class='xr-var-item'><div class='xr-var-name'><span>glim_1st_class_frac</span></div><div class='xr-var-dims'>(basin_id)</div><div class='xr-var-dtype'>float64</div><div class='xr-var-preview xr-preview'>0.8159 0.6224</div><input id='attrs-083efd09-32cb-495c-b0c7-549b5f72a9be' class='xr-var-attrs-in' type='checkbox' disabled><label for='attrs-083efd09-32cb-495c-b0c7-549b5f72a9be' title='Show/Hide attributes'><svg class='icon xr-icon-file-text2'><use xlink:href='#icon-file-text2'></use></svg></label><input id='data-362a20b8-3608-4d61-ae5a-5774f735a1db' class='xr-var-data-in' type='checkbox'><label for='data-362a20b8-3608-4d61-ae5a-5774f735a1db' title='Show/Hide data repr'><svg class='icon xr-icon-database'><use xlink:href='#icon-database'></use></svg></label><div class='xr-var-attrs'><dl class='xr-attrs'></dl></div><div class='xr-var-data'><pre>array([0.81590445, 0.62242064])</pre></div></li><li class='xr-var-item'><div class='xr-var-name'><span>geol_2nd_class</span></div><div class='xr-var-dims'>(basin_id)</div><div class='xr-var-dtype'>object</div><div class='xr-var-preview xr-preview'>&#x27;Basic volcanic rocks&#x27; &#x27;Acid plu...</div><input id='attrs-2c9869ad-2db1-4a0a-908b-910107e89b3b' class='xr-var-attrs-in' type='checkbox' disabled><label for='attrs-2c9869ad-2db1-4a0a-908b-910107e89b3b' title='Show/Hide attributes'><svg class='icon xr-icon-file-text2'><use xlink:href='#icon-file-text2'></use></svg></label><input id='data-01bef27e-4025-447a-90f4-1e64ea0a98fe' class='xr-var-data-in' type='checkbox'><label for='data-01bef27e-4025-447a-90f4-1e64ea0a98fe' title='Show/Hide data repr'><svg class='icon xr-icon-database'><use xlink:href='#icon-database'></use></svg></label><div class='xr-var-attrs'><dl class='xr-attrs'></dl></div><div class='xr-var-data'><pre>array([&#x27;Basic volcanic rocks&#x27;, &#x27;Acid plutonic rocks&#x27;], dtype=object)</pre></div></li><li class='xr-var-item'><div class='xr-var-name'><span>glim_2nd_class_frac</span></div><div class='xr-var-dims'>(basin_id)</div><div class='xr-var-dtype'>float64</div><div class='xr-var-preview xr-preview'>0.1797 0.3693</div><input id='attrs-48f57008-6e65-4f34-91cc-b7674d6819c5' class='xr-var-attrs-in' type='checkbox' disabled><label for='attrs-48f57008-6e65-4f34-91cc-b7674d6819c5' title='Show/Hide attributes'><svg class='icon xr-icon-file-text2'><use xlink:href='#icon-file-text2'></use></svg></label><input id='data-626e2184-bbca-4cb6-a7a4-60edf4013a30' class='xr-var-data-in' type='checkbox'><label for='data-626e2184-bbca-4cb6-a7a4-60edf4013a30' title='Show/Hide data repr'><svg class='icon xr-icon-database'><use xlink:href='#icon-database'></use></svg></label><div class='xr-var-attrs'><dl class='xr-attrs'></dl></div><div class='xr-var-data'><pre>array([0.17972945, 0.3693336 ])</pre></div></li><li class='xr-var-item'><div class='xr-var-name'><span>carbonate_rocks_frac</span></div><div class='xr-var-dims'>(basin_id)</div><div class='xr-var-dtype'>float64</div><div class='xr-var-preview xr-preview'>0.0 0.0</div><input id='attrs-7e7c46f1-a924-4726-a2ff-ea1398829350' class='xr-var-attrs-in' type='checkbox' disabled><label for='attrs-7e7c46f1-a924-4726-a2ff-ea1398829350' title='Show/Hide attributes'><svg class='icon xr-icon-file-text2'><use xlink:href='#icon-file-text2'></use></svg></label><input id='data-adf36015-0107-487c-a273-8cdb330e9673' class='xr-var-data-in' type='checkbox'><label for='data-adf36015-0107-487c-a273-8cdb330e9673' title='Show/Hide data repr'><svg class='icon xr-icon-database'><use xlink:href='#icon-database'></use></svg></label><div class='xr-var-attrs'><dl class='xr-attrs'></dl></div><div class='xr-var-data'><pre>array([0., 0.])</pre></div></li><li class='xr-var-item'><div class='xr-var-name'><span>geol_porostiy</span></div><div class='xr-var-dims'>(basin_id)</div><div class='xr-var-dtype'>float64</div><div class='xr-var-preview xr-preview'>0.1714 0.0109</div><input id='attrs-6b2f03e9-55f4-4498-b955-836357ff3844' class='xr-var-attrs-in' type='checkbox' disabled><label for='attrs-6b2f03e9-55f4-4498-b955-836357ff3844' title='Show/Hide attributes'><svg class='icon xr-icon-file-text2'><use xlink:href='#icon-file-text2'></use></svg></label><input id='data-7f852722-c17e-4ae7-9983-0aeeb81afac3' class='xr-var-data-in' type='checkbox'><label for='data-7f852722-c17e-4ae7-9983-0aeeb81afac3' title='Show/Hide data repr'><svg class='icon xr-icon-database'><use xlink:href='#icon-database'></use></svg></label><div class='xr-var-attrs'><dl class='xr-attrs'></dl></div><div class='xr-var-data'><pre>array([0.1714, 0.0109])</pre></div></li><li class='xr-var-item'><div class='xr-var-name'><span>geol_permeability</span></div><div class='xr-var-dims'>(basin_id)</div><div class='xr-var-dtype'>float64</div><div class='xr-var-preview xr-preview'>-14.7 -14.12</div><input id='attrs-0c8d33e9-3466-4fc5-a07e-1cd9675c340e' class='xr-var-attrs-in' type='checkbox' disabled><label for='attrs-0c8d33e9-3466-4fc5-a07e-1cd9675c340e' title='Show/Hide attributes'><svg class='icon xr-icon-file-text2'><use xlink:href='#icon-file-text2'></use></svg></label><input id='data-16765b72-fe6d-4591-b765-f7fe62b1573c' class='xr-var-data-in' type='checkbox'><label for='data-16765b72-fe6d-4591-b765-f7fe62b1573c' title='Show/Hide data repr'><svg class='icon xr-icon-database'><use xlink:href='#icon-database'></use></svg></label><div class='xr-var-attrs'><dl class='xr-attrs'></dl></div><div class='xr-var-data'><pre>array([-14.7019, -14.1198])</pre></div></li><li class='xr-var-item'><div class='xr-var-name'><span>p_mean</span></div><div class='xr-var-dims'>(basin_id)</div><div class='xr-var-dtype'>float64</div><div class='xr-var-preview xr-preview'>3.127 3.467</div><input id='attrs-44ff45f7-9fda-4071-b9ab-717e755538a3' class='xr-var-attrs-in' type='checkbox' disabled><label for='attrs-44ff45f7-9fda-4071-b9ab-717e755538a3' title='Show/Hide attributes'><svg class='icon xr-icon-file-text2'><use xlink:href='#icon-file-text2'></use></svg></label><input id='data-f08e63ee-52f2-426b-a699-15ada46f1a73' class='xr-var-data-in' type='checkbox'><label for='data-f08e63ee-52f2-426b-a699-15ada46f1a73' title='Show/Hide data repr'><svg class='icon xr-icon-database'><use xlink:href='#icon-database'></use></svg></label><div class='xr-var-attrs'><dl class='xr-attrs'></dl></div><div class='xr-var-data'><pre>array([3.12667899, 3.46741273])</pre></div></li><li class='xr-var-item'><div class='xr-var-name'><span>pet_mean</span></div><div class='xr-var-dims'>(basin_id)</div><div class='xr-var-dtype'>float64</div><div class='xr-var-preview xr-preview'>1.972 2.092</div><input id='attrs-6e670e3d-96ed-4149-9d47-f2c905f74c99' class='xr-var-attrs-in' type='checkbox' disabled><label for='attrs-6e670e3d-96ed-4149-9d47-f2c905f74c99' title='Show/Hide attributes'><svg class='icon xr-icon-file-text2'><use xlink:href='#icon-file-text2'></use></svg></label><input id='data-e8149a81-86c6-478f-8766-702793d7b09e' class='xr-var-data-in' type='checkbox'><label for='data-e8149a81-86c6-478f-8766-702793d7b09e' title='Show/Hide data repr'><svg class='icon xr-icon-database'><use xlink:href='#icon-database'></use></svg></label><div class='xr-var-attrs'><dl class='xr-attrs'></dl></div><div class='xr-var-data'><pre>array([1.97155451, 2.09169808])</pre></div></li><li class='xr-var-item'><div class='xr-var-name'><span>p_seasonality</span></div><div class='xr-var-dims'>(basin_id)</div><div class='xr-var-dtype'>float64</div><div class='xr-var-preview xr-preview'>0.1879 0.2287</div><input id='attrs-32b49405-1701-4b48-ab05-32e1d0fdc509' class='xr-var-attrs-in' type='checkbox' disabled><label for='attrs-32b49405-1701-4b48-ab05-32e1d0fdc509' title='Show/Hide attributes'><svg class='icon xr-icon-file-text2'><use xlink:href='#icon-file-text2'></use></svg></label><input id='data-c42524c8-76b4-410f-8567-2485504e9d81' class='xr-var-data-in' type='checkbox'><label for='data-c42524c8-76b4-410f-8567-2485504e9d81' title='Show/Hide data repr'><svg class='icon xr-icon-database'><use xlink:href='#icon-database'></use></svg></label><div class='xr-var-attrs'><dl class='xr-attrs'></dl></div><div class='xr-var-data'><pre>array([0.18794026, 0.22867235])</pre></div></li><li class='xr-var-item'><div class='xr-var-name'><span>frac_snow</span></div><div class='xr-var-dims'>(basin_id)</div><div class='xr-var-dtype'>float64</div><div class='xr-var-preview xr-preview'>0.3134 0.2806</div><input id='attrs-38e4801d-ff3d-4cb7-8f35-a98d3069305d' class='xr-var-attrs-in' type='checkbox' disabled><label for='attrs-38e4801d-ff3d-4cb7-8f35-a98d3069305d' title='Show/Hide attributes'><svg class='icon xr-icon-file-text2'><use xlink:href='#icon-file-text2'></use></svg></label><input id='data-fd0c55f2-e026-4637-9691-bb2d2dc34824' class='xr-var-data-in' type='checkbox'><label for='data-fd0c55f2-e026-4637-9691-bb2d2dc34824' title='Show/Hide data repr'><svg class='icon xr-icon-database'><use xlink:href='#icon-database'></use></svg></label><div class='xr-var-attrs'><dl class='xr-attrs'></dl></div><div class='xr-var-data'><pre>array([0.31344036, 0.28058209])</pre></div></li><li class='xr-var-item'><div class='xr-var-name'><span>aridity</span></div><div class='xr-var-dims'>(basin_id)</div><div class='xr-var-dtype'>float64</div><div class='xr-var-preview xr-preview'>0.6306 0.6032</div><input id='attrs-185ca68c-fcb3-4d24-8c64-0100e9c9117e' class='xr-var-attrs-in' type='checkbox' disabled><label for='attrs-185ca68c-fcb3-4d24-8c64-0100e9c9117e' title='Show/Hide attributes'><svg class='icon xr-icon-file-text2'><use xlink:href='#icon-file-text2'></use></svg></label><input id='data-d31bd5c3-4108-48de-b94c-b713e4ca894e' class='xr-var-data-in' type='checkbox'><label for='data-d31bd5c3-4108-48de-b94c-b713e4ca894e' title='Show/Hide data repr'><svg class='icon xr-icon-database'><use xlink:href='#icon-database'></use></svg></label><div class='xr-var-attrs'><dl class='xr-attrs'></dl></div><div class='xr-var-data'><pre>array([0.63055866, 0.60324462])</pre></div></li><li class='xr-var-item'><div class='xr-var-name'><span>high_prec_freq</span></div><div class='xr-var-dims'>(basin_id)</div><div class='xr-var-dtype'>float64</div><div class='xr-var-preview xr-preview'>12.95 15.85</div><input id='attrs-ebea2dee-bc21-4e5b-a5e7-d0f72c065a12' class='xr-var-attrs-in' type='checkbox' disabled><label for='attrs-ebea2dee-bc21-4e5b-a5e7-d0f72c065a12' title='Show/Hide attributes'><svg class='icon xr-icon-file-text2'><use xlink:href='#icon-file-text2'></use></svg></label><input id='data-674441fb-8e86-44ff-887c-188f926bd779' class='xr-var-data-in' type='checkbox'><label for='data-674441fb-8e86-44ff-887c-188f926bd779' title='Show/Hide data repr'><svg class='icon xr-icon-database'><use xlink:href='#icon-database'></use></svg></label><div class='xr-var-attrs'><dl class='xr-attrs'></dl></div><div class='xr-var-data'><pre>array([12.95, 15.85])</pre></div></li><li class='xr-var-item'><div class='xr-var-name'><span>high_prec_dur</span></div><div class='xr-var-dims'>(basin_id)</div><div class='xr-var-dtype'>float64</div><div class='xr-var-preview xr-preview'>1.349 1.153</div><input id='attrs-4aabbffc-2abe-4629-8c14-00cad0095f06' class='xr-var-attrs-in' type='checkbox' disabled><label for='attrs-4aabbffc-2abe-4629-8c14-00cad0095f06' title='Show/Hide attributes'><svg class='icon xr-icon-file-text2'><use xlink:href='#icon-file-text2'></use></svg></label><input id='data-5df17967-39a6-4cda-b64a-a25410920441' class='xr-var-data-in' type='checkbox'><label for='data-5df17967-39a6-4cda-b64a-a25410920441' title='Show/Hide data repr'><svg class='icon xr-icon-database'><use xlink:href='#icon-database'></use></svg></label><div class='xr-var-attrs'><dl class='xr-attrs'></dl></div><div class='xr-var-data'><pre>array([1.34895833, 1.15272727])</pre></div></li><li class='xr-var-item'><div class='xr-var-name'><span>high_prec_timing</span></div><div class='xr-var-dims'>(basin_id)</div><div class='xr-var-dtype'>object</div><div class='xr-var-preview xr-preview'>&#x27;son&#x27; &#x27;jja&#x27;</div><input id='attrs-2e8b992a-dd59-4eb5-89c9-50c8012a5ba8' class='xr-var-attrs-in' type='checkbox' disabled><label for='attrs-2e8b992a-dd59-4eb5-89c9-50c8012a5ba8' title='Show/Hide attributes'><svg class='icon xr-icon-file-text2'><use xlink:href='#icon-file-text2'></use></svg></label><input id='data-dbb54072-f033-4df2-b93f-ea5add07f93e' class='xr-var-data-in' type='checkbox'><label for='data-dbb54072-f033-4df2-b93f-ea5add07f93e' title='Show/Hide data repr'><svg class='icon xr-icon-database'><use xlink:href='#icon-database'></use></svg></label><div class='xr-var-attrs'><dl class='xr-attrs'></dl></div><div class='xr-var-data'><pre>array([&#x27;son&#x27;, &#x27;jja&#x27;], dtype=object)</pre></div></li><li class='xr-var-item'><div class='xr-var-name'><span>low_prec_freq</span></div><div class='xr-var-dims'>(basin_id)</div><div class='xr-var-dtype'>float64</div><div class='xr-var-preview xr-preview'>202.2 201.1</div><input id='attrs-48a080c9-a8da-4f61-af4b-55d60a7b2f2d' class='xr-var-attrs-in' type='checkbox' disabled><label for='attrs-48a080c9-a8da-4f61-af4b-55d60a7b2f2d' title='Show/Hide attributes'><svg class='icon xr-icon-file-text2'><use xlink:href='#icon-file-text2'></use></svg></label><input id='data-0722f709-b0e1-4479-ba93-c6d148c027fd' class='xr-var-data-in' type='checkbox'><label for='data-0722f709-b0e1-4479-ba93-c6d148c027fd' title='Show/Hide data repr'><svg class='icon xr-icon-database'><use xlink:href='#icon-database'></use></svg></label><div class='xr-var-attrs'><dl class='xr-attrs'></dl></div><div class='xr-var-data'><pre>array([202.2, 201.1])</pre></div></li><li class='xr-var-item'><div class='xr-var-name'><span>low_prec_dur</span></div><div class='xr-var-dims'>(basin_id)</div><div class='xr-var-dtype'>float64</div><div class='xr-var-preview xr-preview'>3.427 2.842</div><input id='attrs-ca2b8d4f-35d7-494a-8fe5-1455fed8ccec' class='xr-var-attrs-in' type='checkbox' disabled><label for='attrs-ca2b8d4f-35d7-494a-8fe5-1455fed8ccec' title='Show/Hide attributes'><svg class='icon xr-icon-file-text2'><use xlink:href='#icon-file-text2'></use></svg></label><input id='data-bb17d2dc-a328-44c9-a1c3-f291bc6c1efe' class='xr-var-data-in' type='checkbox'><label for='data-bb17d2dc-a328-44c9-a1c3-f291bc6c1efe' title='Show/Hide data repr'><svg class='icon xr-icon-database'><use xlink:href='#icon-database'></use></svg></label><div class='xr-var-attrs'><dl class='xr-attrs'></dl></div><div class='xr-var-data'><pre>array([3.42711864, 2.84240283])</pre></div></li><li class='xr-var-item'><div class='xr-var-name'><span>low_prec_timing</span></div><div class='xr-var-dims'>(basin_id)</div><div class='xr-var-dtype'>object</div><div class='xr-var-preview xr-preview'>&#x27;mam&#x27; &#x27;mam&#x27;</div><input id='attrs-06a6103c-6b01-4c22-a7cd-df7da8277f85' class='xr-var-attrs-in' type='checkbox' disabled><label for='attrs-06a6103c-6b01-4c22-a7cd-df7da8277f85' title='Show/Hide attributes'><svg class='icon xr-icon-file-text2'><use xlink:href='#icon-file-text2'></use></svg></label><input id='data-d69f28d0-d66f-4cad-9914-d5a414d746c8' class='xr-var-data-in' type='checkbox'><label for='data-d69f28d0-d66f-4cad-9914-d5a414d746c8' title='Show/Hide data repr'><svg class='icon xr-icon-database'><use xlink:href='#icon-database'></use></svg></label><div class='xr-var-attrs'><dl class='xr-attrs'></dl></div><div class='xr-var-data'><pre>array([&#x27;mam&#x27;, &#x27;mam&#x27;], dtype=object)</pre></div></li><li class='xr-var-item'><div class='xr-var-name'><span>q_mean</span></div><div class='xr-var-dims'>(basin_id)</div><div class='xr-var-dtype'>float64</div><div class='xr-var-preview xr-preview'>1.699 2.078</div><input id='attrs-aa11264e-1761-4c3f-9308-68b79ad0423a' class='xr-var-attrs-in' type='checkbox' disabled><label for='attrs-aa11264e-1761-4c3f-9308-68b79ad0423a' title='Show/Hide attributes'><svg class='icon xr-icon-file-text2'><use xlink:href='#icon-file-text2'></use></svg></label><input id='data-a1e78364-bebd-427c-8da4-8b0ef1b434c6' class='xr-var-data-in' type='checkbox'><label for='data-a1e78364-bebd-427c-8da4-8b0ef1b434c6' title='Show/Hide data repr'><svg class='icon xr-icon-database'><use xlink:href='#icon-database'></use></svg></label><div class='xr-var-attrs'><dl class='xr-attrs'></dl></div><div class='xr-var-data'><pre>array([1.69915451, 2.07757924])</pre></div></li><li class='xr-var-item'><div class='xr-var-name'><span>runoff_ratio</span></div><div class='xr-var-dims'>(basin_id)</div><div class='xr-var-dtype'>float64</div><div class='xr-var-preview xr-preview'>0.5434 0.5992</div><input id='attrs-2dc8c1bc-1cfe-44c3-a93c-93aeba0d676b' class='xr-var-attrs-in' type='checkbox' disabled><label for='attrs-2dc8c1bc-1cfe-44c3-a93c-93aeba0d676b' title='Show/Hide attributes'><svg class='icon xr-icon-file-text2'><use xlink:href='#icon-file-text2'></use></svg></label><input id='data-794a854a-1bf8-459c-b3ba-feadb0ea096f' class='xr-var-data-in' type='checkbox'><label for='data-794a854a-1bf8-459c-b3ba-feadb0ea096f' title='Show/Hide data repr'><svg class='icon xr-icon-database'><use xlink:href='#icon-database'></use></svg></label><div class='xr-var-attrs'><dl class='xr-attrs'></dl></div><div class='xr-var-data'><pre>array([0.54343747, 0.59917275])</pre></div></li><li class='xr-var-item'><div class='xr-var-name'><span>slope_fdc</span></div><div class='xr-var-dims'>(basin_id)</div><div class='xr-var-dtype'>float64</div><div class='xr-var-preview xr-preview'>1.528 1.408</div><input id='attrs-b00ad028-fcb7-493f-bb5a-a8cbc0096e7d' class='xr-var-attrs-in' type='checkbox' disabled><label for='attrs-b00ad028-fcb7-493f-bb5a-a8cbc0096e7d' title='Show/Hide attributes'><svg class='icon xr-icon-file-text2'><use xlink:href='#icon-file-text2'></use></svg></label><input id='data-7fa1f28b-4e9a-409b-b934-0bb4abff8388' class='xr-var-data-in' type='checkbox'><label for='data-7fa1f28b-4e9a-409b-b934-0bb4abff8388' title='Show/Hide data repr'><svg class='icon xr-icon-database'><use xlink:href='#icon-database'></use></svg></label><div class='xr-var-attrs'><dl class='xr-attrs'></dl></div><div class='xr-var-data'><pre>array([1.52821854, 1.40816574])</pre></div></li><li class='xr-var-item'><div class='xr-var-name'><span>baseflow_index</span></div><div class='xr-var-dims'>(basin_id)</div><div class='xr-var-dtype'>float64</div><div class='xr-var-preview xr-preview'>0.5852 0.4876</div><input id='attrs-f059a36b-6401-445e-935f-f7d923857b90' class='xr-var-attrs-in' type='checkbox' disabled><label for='attrs-f059a36b-6401-445e-935f-f7d923857b90' title='Show/Hide attributes'><svg class='icon xr-icon-file-text2'><use xlink:href='#icon-file-text2'></use></svg></label><input id='data-083a45e1-023b-43a3-9361-e811a883cf83' class='xr-var-data-in' type='checkbox'><label for='data-083a45e1-023b-43a3-9361-e811a883cf83' title='Show/Hide data repr'><svg class='icon xr-icon-database'><use xlink:href='#icon-database'></use></svg></label><div class='xr-var-attrs'><dl class='xr-attrs'></dl></div><div class='xr-var-data'><pre>array([0.58522596, 0.48759832])</pre></div></li><li class='xr-var-item'><div class='xr-var-name'><span>stream_elas</span></div><div class='xr-var-dims'>(basin_id)</div><div class='xr-var-dtype'>float64</div><div class='xr-var-preview xr-preview'>1.845 1.108</div><input id='attrs-2b7a69c4-c595-4094-b567-5d3f2f2b017c' class='xr-var-attrs-in' type='checkbox' disabled><label for='attrs-2b7a69c4-c595-4094-b567-5d3f2f2b017c' title='Show/Hide attributes'><svg class='icon xr-icon-file-text2'><use xlink:href='#icon-file-text2'></use></svg></label><input id='data-d58c80ea-183a-4774-9ca6-9c088d23e5f6' class='xr-var-data-in' type='checkbox'><label for='data-d58c80ea-183a-4774-9ca6-9c088d23e5f6' title='Show/Hide data repr'><svg class='icon xr-icon-database'><use xlink:href='#icon-database'></use></svg></label><div class='xr-var-attrs'><dl class='xr-attrs'></dl></div><div class='xr-var-data'><pre>array([1.84532416, 1.10787465])</pre></div></li><li class='xr-var-item'><div class='xr-var-name'><span>q5</span></div><div class='xr-var-dims'>(basin_id)</div><div class='xr-var-dtype'>float64</div><div class='xr-var-preview xr-preview'>0.2411 0.2382</div><input id='attrs-af20b83f-1cef-4560-8105-6ff57f0546fe' class='xr-var-attrs-in' type='checkbox' disabled><label for='attrs-af20b83f-1cef-4560-8105-6ff57f0546fe' title='Show/Hide attributes'><svg class='icon xr-icon-file-text2'><use xlink:href='#icon-file-text2'></use></svg></label><input id='data-96d9ffff-2e59-4269-b142-1273440a7d56' class='xr-var-data-in' type='checkbox'><label for='data-96d9ffff-2e59-4269-b142-1273440a7d56' title='Show/Hide data repr'><svg class='icon xr-icon-database'><use xlink:href='#icon-database'></use></svg></label><div class='xr-var-attrs'><dl class='xr-attrs'></dl></div><div class='xr-var-data'><pre>array([0.24110613, 0.23822547])</pre></div></li><li class='xr-var-item'><div class='xr-var-name'><span>q95</span></div><div class='xr-var-dims'>(basin_id)</div><div class='xr-var-dtype'>float64</div><div class='xr-var-preview xr-preview'>6.373 7.097</div><input id='attrs-04a7c377-27ec-4649-9442-d2fa476eac41' class='xr-var-attrs-in' type='checkbox' disabled><label for='attrs-04a7c377-27ec-4649-9442-d2fa476eac41' title='Show/Hide attributes'><svg class='icon xr-icon-file-text2'><use xlink:href='#icon-file-text2'></use></svg></label><input id='data-68ff971b-f1a1-4619-9e82-cfa299c710bf' class='xr-var-data-in' type='checkbox'><label for='data-68ff971b-f1a1-4619-9e82-cfa299c710bf' title='Show/Hide data repr'><svg class='icon xr-icon-database'><use xlink:href='#icon-database'></use></svg></label><div class='xr-var-attrs'><dl class='xr-attrs'></dl></div><div class='xr-var-data'><pre>array([6.3730214 , 7.09661128])</pre></div></li><li class='xr-var-item'><div class='xr-var-name'><span>high_q_freq</span></div><div class='xr-var-dims'>(basin_id)</div><div class='xr-var-dtype'>float64</div><div class='xr-var-preview xr-preview'>6.1 9.05</div><input id='attrs-42cbecb7-474d-47b7-bdfa-194635746368' class='xr-var-attrs-in' type='checkbox' disabled><label for='attrs-42cbecb7-474d-47b7-bdfa-194635746368' title='Show/Hide attributes'><svg class='icon xr-icon-file-text2'><use xlink:href='#icon-file-text2'></use></svg></label><input id='data-c1a13662-1afc-42d1-b968-d17c767e38a2' class='xr-var-data-in' type='checkbox'><label for='data-c1a13662-1afc-42d1-b968-d17c767e38a2' title='Show/Hide data repr'><svg class='icon xr-icon-database'><use xlink:href='#icon-database'></use></svg></label><div class='xr-var-attrs'><dl class='xr-attrs'></dl></div><div class='xr-var-data'><pre>array([6.1 , 9.05])</pre></div></li><li class='xr-var-item'><div class='xr-var-name'><span>high_q_dur</span></div><div class='xr-var-dims'>(basin_id)</div><div class='xr-var-dtype'>float64</div><div class='xr-var-preview xr-preview'>8.714 2.155</div><input id='attrs-0751fbcf-6321-477c-aeb9-6dcb2ccfe173' class='xr-var-attrs-in' type='checkbox' disabled><label for='attrs-0751fbcf-6321-477c-aeb9-6dcb2ccfe173' title='Show/Hide attributes'><svg class='icon xr-icon-file-text2'><use xlink:href='#icon-file-text2'></use></svg></label><input id='data-84dc7394-1547-406d-93db-a751b199cc8f' class='xr-var-data-in' type='checkbox'><label for='data-84dc7394-1547-406d-93db-a751b199cc8f' title='Show/Hide data repr'><svg class='icon xr-icon-database'><use xlink:href='#icon-database'></use></svg></label><div class='xr-var-attrs'><dl class='xr-attrs'></dl></div><div class='xr-var-data'><pre>array([8.71428571, 2.1547619 ])</pre></div></li><li class='xr-var-item'><div class='xr-var-name'><span>low_q_freq</span></div><div class='xr-var-dims'>(basin_id)</div><div class='xr-var-dtype'>float64</div><div class='xr-var-preview xr-preview'>41.35 46.15</div><input id='attrs-5f21991d-730e-4c22-9ea0-5fee179c830d' class='xr-var-attrs-in' type='checkbox' disabled><label for='attrs-5f21991d-730e-4c22-9ea0-5fee179c830d' title='Show/Hide attributes'><svg class='icon xr-icon-file-text2'><use xlink:href='#icon-file-text2'></use></svg></label><input id='data-4351e831-b42d-4994-ae28-ad5e0b5b77ed' class='xr-var-data-in' type='checkbox'><label for='data-4351e831-b42d-4994-ae28-ad5e0b5b77ed' title='Show/Hide data repr'><svg class='icon xr-icon-database'><use xlink:href='#icon-database'></use></svg></label><div class='xr-var-attrs'><dl class='xr-attrs'></dl></div><div class='xr-var-data'><pre>array([41.35, 46.15])</pre></div></li><li class='xr-var-item'><div class='xr-var-name'><span>low_q_dur</span></div><div class='xr-var-dims'>(basin_id)</div><div class='xr-var-dtype'>float64</div><div class='xr-var-preview xr-preview'>20.17 6.888</div><input id='attrs-772945c7-c32d-4a74-8bf5-cac630429471' class='xr-var-attrs-in' type='checkbox' disabled><label for='attrs-772945c7-c32d-4a74-8bf5-cac630429471' title='Show/Hide attributes'><svg class='icon xr-icon-file-text2'><use xlink:href='#icon-file-text2'></use></svg></label><input id='data-9b9aadbb-2790-457c-8f5a-2beac9158eaa' class='xr-var-data-in' type='checkbox'><label for='data-9b9aadbb-2790-457c-8f5a-2beac9158eaa' title='Show/Hide data repr'><svg class='icon xr-icon-database'><use xlink:href='#icon-database'></use></svg></label><div class='xr-var-attrs'><dl class='xr-attrs'></dl></div><div class='xr-var-data'><pre>array([20.17073171,  6.8880597 ])</pre></div></li><li class='xr-var-item'><div class='xr-var-name'><span>zero_q_freq</span></div><div class='xr-var-dims'>(basin_id)</div><div class='xr-var-dtype'>float64</div><div class='xr-var-preview xr-preview'>0.0 0.0</div><input id='attrs-9a6f4a25-cead-4eb7-8b34-895ffdf43e21' class='xr-var-attrs-in' type='checkbox' disabled><label for='attrs-9a6f4a25-cead-4eb7-8b34-895ffdf43e21' title='Show/Hide attributes'><svg class='icon xr-icon-file-text2'><use xlink:href='#icon-file-text2'></use></svg></label><input id='data-2cfca4d9-0cfb-4ae4-a094-edc212205982' class='xr-var-data-in' type='checkbox'><label for='data-2cfca4d9-0cfb-4ae4-a094-edc212205982' title='Show/Hide data repr'><svg class='icon xr-icon-database'><use xlink:href='#icon-database'></use></svg></label><div class='xr-var-attrs'><dl class='xr-attrs'></dl></div><div class='xr-var-data'><pre>array([0., 0.])</pre></div></li><li class='xr-var-item'><div class='xr-var-name'><span>hfd_mean</span></div><div class='xr-var-dims'>(basin_id)</div><div class='xr-var-dtype'>float64</div><div class='xr-var-preview xr-preview'>207.2 187.6</div><input id='attrs-6b8e28c0-799d-4c20-a586-c92167b79817' class='xr-var-attrs-in' type='checkbox' disabled><label for='attrs-6b8e28c0-799d-4c20-a586-c92167b79817' title='Show/Hide attributes'><svg class='icon xr-icon-file-text2'><use xlink:href='#icon-file-text2'></use></svg></label><input id='data-27daedf7-e24d-4df2-bdfc-92cf2ee870b3' class='xr-var-data-in' type='checkbox'><label for='data-27daedf7-e24d-4df2-bdfc-92cf2ee870b3' title='Show/Hide data repr'><svg class='icon xr-icon-database'><use xlink:href='#icon-database'></use></svg></label><div class='xr-var-attrs'><dl class='xr-attrs'></dl></div><div class='xr-var-data'><pre>array([207.25, 187.55])</pre></div></li><li class='xr-var-item'><div class='xr-var-name'><span>huc_02</span></div><div class='xr-var-dims'>(basin_id)</div><div class='xr-var-dtype'>float64</div><div class='xr-var-preview xr-preview'>1.0 1.0</div><input id='attrs-fa9c7d11-033f-4909-82e2-98884ff1e6ec' class='xr-var-attrs-in' type='checkbox' disabled><label for='attrs-fa9c7d11-033f-4909-82e2-98884ff1e6ec' title='Show/Hide attributes'><svg class='icon xr-icon-file-text2'><use xlink:href='#icon-file-text2'></use></svg></label><input id='data-28646974-43f7-408c-9c32-f54868e13254' class='xr-var-data-in' type='checkbox'><label for='data-28646974-43f7-408c-9c32-f54868e13254' title='Show/Hide data repr'><svg class='icon xr-icon-database'><use xlink:href='#icon-database'></use></svg></label><div class='xr-var-attrs'><dl class='xr-attrs'></dl></div><div class='xr-var-data'><pre>array([1., 1.])</pre></div></li><li class='xr-var-item'><div class='xr-var-name'><span>gauge_name</span></div><div class='xr-var-dims'>(basin_id)</div><div class='xr-var-dtype'>object</div><div class='xr-var-preview xr-preview'>&#x27;Fish River near Fort Kent, Main...</div><input id='attrs-66e30b8e-9a65-4cb7-8473-ab7c55b5f7eb' class='xr-var-attrs-in' type='checkbox' disabled><label for='attrs-66e30b8e-9a65-4cb7-8473-ab7c55b5f7eb' title='Show/Hide attributes'><svg class='icon xr-icon-file-text2'><use xlink:href='#icon-file-text2'></use></svg></label><input id='data-8ab68981-ee68-45f7-b80d-e88864134671' class='xr-var-data-in' type='checkbox'><label for='data-8ab68981-ee68-45f7-b80d-e88864134671' title='Show/Hide data repr'><svg class='icon xr-icon-database'><use xlink:href='#icon-database'></use></svg></label><div class='xr-var-attrs'><dl class='xr-attrs'></dl></div><div class='xr-var-data'><pre>array([&#x27;Fish River near Fort Kent, Maine&#x27;, &#x27;MOOSE RIVER AT VICTORY, VT&#x27;],\n",
       "      dtype=object)</pre></div></li><li class='xr-var-item'><div class='xr-var-name'><span>soil_depth_pelletier</span></div><div class='xr-var-dims'>(basin_id)</div><div class='xr-var-dtype'>float64</div><div class='xr-var-preview xr-preview'>7.405 4.074</div><input id='attrs-576a3e17-b3ec-41ff-809f-f5486243ae86' class='xr-var-attrs-in' type='checkbox' disabled><label for='attrs-576a3e17-b3ec-41ff-809f-f5486243ae86' title='Show/Hide attributes'><svg class='icon xr-icon-file-text2'><use xlink:href='#icon-file-text2'></use></svg></label><input id='data-cc7a908f-f819-4ac5-b114-df0408a21b09' class='xr-var-data-in' type='checkbox'><label for='data-cc7a908f-f819-4ac5-b114-df0408a21b09' title='Show/Hide data repr'><svg class='icon xr-icon-database'><use xlink:href='#icon-database'></use></svg></label><div class='xr-var-attrs'><dl class='xr-attrs'></dl></div><div class='xr-var-data'><pre>array([7.4047619 , 4.07407407])</pre></div></li><li class='xr-var-item'><div class='xr-var-name'><span>soil_depth_statsgo</span></div><div class='xr-var-dims'>(basin_id)</div><div class='xr-var-dtype'>float64</div><div class='xr-var-preview xr-preview'>1.248 1.144</div><input id='attrs-70036e58-cb04-4d5b-b4f9-feddfafa305e' class='xr-var-attrs-in' type='checkbox' disabled><label for='attrs-70036e58-cb04-4d5b-b4f9-feddfafa305e' title='Show/Hide attributes'><svg class='icon xr-icon-file-text2'><use xlink:href='#icon-file-text2'></use></svg></label><input id='data-0b37606e-56e4-43ef-8f06-fa6915441a78' class='xr-var-data-in' type='checkbox'><label for='data-0b37606e-56e4-43ef-8f06-fa6915441a78' title='Show/Hide data repr'><svg class='icon xr-icon-database'><use xlink:href='#icon-database'></use></svg></label><div class='xr-var-attrs'><dl class='xr-attrs'></dl></div><div class='xr-var-data'><pre>array([1.24840792, 1.14386   ])</pre></div></li><li class='xr-var-item'><div class='xr-var-name'><span>soil_porosity</span></div><div class='xr-var-dims'>(basin_id)</div><div class='xr-var-dtype'>float64</div><div class='xr-var-preview xr-preview'>0.4611 0.4392</div><input id='attrs-3d9586ff-6650-4e02-80ae-43ce220b6940' class='xr-var-attrs-in' type='checkbox' disabled><label for='attrs-3d9586ff-6650-4e02-80ae-43ce220b6940' title='Show/Hide attributes'><svg class='icon xr-icon-file-text2'><use xlink:href='#icon-file-text2'></use></svg></label><input id='data-f63bd011-ce48-4aae-92b6-225eca906cee' class='xr-var-data-in' type='checkbox'><label for='data-f63bd011-ce48-4aae-92b6-225eca906cee' title='Show/Hide data repr'><svg class='icon xr-icon-database'><use xlink:href='#icon-database'></use></svg></label><div class='xr-var-attrs'><dl class='xr-attrs'></dl></div><div class='xr-var-data'><pre>array([0.46114875, 0.43922736])</pre></div></li><li class='xr-var-item'><div class='xr-var-name'><span>soil_conductivity</span></div><div class='xr-var-dims'>(basin_id)</div><div class='xr-var-dtype'>float64</div><div class='xr-var-preview xr-preview'>1.107 1.756</div><input id='attrs-2a6536c5-5e07-493b-91fa-136778088082' class='xr-var-attrs-in' type='checkbox' disabled><label for='attrs-2a6536c5-5e07-493b-91fa-136778088082' title='Show/Hide attributes'><svg class='icon xr-icon-file-text2'><use xlink:href='#icon-file-text2'></use></svg></label><input id='data-b18d223a-1aee-468d-a161-bb7d5df8b96f' class='xr-var-data-in' type='checkbox'><label for='data-b18d223a-1aee-468d-a161-bb7d5df8b96f' title='Show/Hide data repr'><svg class='icon xr-icon-database'><use xlink:href='#icon-database'></use></svg></label><div class='xr-var-attrs'><dl class='xr-attrs'></dl></div><div class='xr-var-data'><pre>array([1.10652248, 1.75595307])</pre></div></li><li class='xr-var-item'><div class='xr-var-name'><span>max_water_content</span></div><div class='xr-var-dims'>(basin_id)</div><div class='xr-var-dtype'>float64</div><div class='xr-var-preview xr-preview'>0.5581 0.4768</div><input id='attrs-c4d1906e-fff5-4ae0-be12-1e2e02643211' class='xr-var-attrs-in' type='checkbox' disabled><label for='attrs-c4d1906e-fff5-4ae0-be12-1e2e02643211' title='Show/Hide attributes'><svg class='icon xr-icon-file-text2'><use xlink:href='#icon-file-text2'></use></svg></label><input id='data-2c6ddff8-45fd-4d16-be51-20b98f817dfc' class='xr-var-data-in' type='checkbox'><label for='data-2c6ddff8-45fd-4d16-be51-20b98f817dfc' title='Show/Hide data repr'><svg class='icon xr-icon-database'><use xlink:href='#icon-database'></use></svg></label><div class='xr-var-attrs'><dl class='xr-attrs'></dl></div><div class='xr-var-data'><pre>array([0.55805483, 0.47676676])</pre></div></li><li class='xr-var-item'><div class='xr-var-name'><span>sand_frac</span></div><div class='xr-var-dims'>(basin_id)</div><div class='xr-var-dtype'>float64</div><div class='xr-var-preview xr-preview'>27.84 42.59</div><input id='attrs-cca2bf76-bed8-4089-929f-4be1b955c381' class='xr-var-attrs-in' type='checkbox' disabled><label for='attrs-cca2bf76-bed8-4089-929f-4be1b955c381' title='Show/Hide attributes'><svg class='icon xr-icon-file-text2'><use xlink:href='#icon-file-text2'></use></svg></label><input id='data-27dbae7c-bd6a-41bd-93af-193d99b8aa54' class='xr-var-data-in' type='checkbox'><label for='data-27dbae7c-bd6a-41bd-93af-193d99b8aa54' title='Show/Hide data repr'><svg class='icon xr-icon-database'><use xlink:href='#icon-database'></use></svg></label><div class='xr-var-attrs'><dl class='xr-attrs'></dl></div><div class='xr-var-data'><pre>array([27.84182729, 42.58599324])</pre></div></li><li class='xr-var-item'><div class='xr-var-name'><span>silt_frac</span></div><div class='xr-var-dims'>(basin_id)</div><div class='xr-var-dtype'>float64</div><div class='xr-var-preview xr-preview'>55.16 43.34</div><input id='attrs-8c0b4333-7fa2-4211-80c0-ecd8a8d62eaa' class='xr-var-attrs-in' type='checkbox' disabled><label for='attrs-8c0b4333-7fa2-4211-80c0-ecd8a8d62eaa' title='Show/Hide attributes'><svg class='icon xr-icon-file-text2'><use xlink:href='#icon-file-text2'></use></svg></label><input id='data-95ee597d-9f0c-4630-8dac-798eb9032180' class='xr-var-data-in' type='checkbox'><label for='data-95ee597d-9f0c-4630-8dac-798eb9032180' title='Show/Hide data repr'><svg class='icon xr-icon-database'><use xlink:href='#icon-database'></use></svg></label><div class='xr-var-attrs'><dl class='xr-attrs'></dl></div><div class='xr-var-data'><pre>array([55.15694003, 43.33541291])</pre></div></li><li class='xr-var-item'><div class='xr-var-name'><span>clay_frac</span></div><div class='xr-var-dims'>(basin_id)</div><div class='xr-var-dtype'>float64</div><div class='xr-var-preview xr-preview'>16.28 12.72</div><input id='attrs-972b3404-3813-4952-be70-5d6b435fd149' class='xr-var-attrs-in' type='checkbox' disabled><label for='attrs-972b3404-3813-4952-be70-5d6b435fd149' title='Show/Hide attributes'><svg class='icon xr-icon-file-text2'><use xlink:href='#icon-file-text2'></use></svg></label><input id='data-ea10355d-8637-4c28-9462-cd7d46d54ec0' class='xr-var-data-in' type='checkbox'><label for='data-ea10355d-8637-4c28-9462-cd7d46d54ec0' title='Show/Hide data repr'><svg class='icon xr-icon-database'><use xlink:href='#icon-database'></use></svg></label><div class='xr-var-attrs'><dl class='xr-attrs'></dl></div><div class='xr-var-data'><pre>array([16.27573172, 12.7242065 ])</pre></div></li><li class='xr-var-item'><div class='xr-var-name'><span>water_frac</span></div><div class='xr-var-dims'>(basin_id)</div><div class='xr-var-dtype'>float64</div><div class='xr-var-preview xr-preview'>5.377 0.0</div><input id='attrs-fc7fc7fd-d523-498c-b3c0-a6178d322b4e' class='xr-var-attrs-in' type='checkbox' disabled><label for='attrs-fc7fc7fd-d523-498c-b3c0-a6178d322b4e' title='Show/Hide attributes'><svg class='icon xr-icon-file-text2'><use xlink:href='#icon-file-text2'></use></svg></label><input id='data-122d2ccc-0ac3-4eff-b23f-614df1b5717c' class='xr-var-data-in' type='checkbox'><label for='data-122d2ccc-0ac3-4eff-b23f-614df1b5717c' title='Show/Hide data repr'><svg class='icon xr-icon-database'><use xlink:href='#icon-database'></use></svg></label><div class='xr-var-attrs'><dl class='xr-attrs'></dl></div><div class='xr-var-data'><pre>array([5.37669779, 0.        ])</pre></div></li><li class='xr-var-item'><div class='xr-var-name'><span>organic_frac</span></div><div class='xr-var-dims'>(basin_id)</div><div class='xr-var-dtype'>float64</div><div class='xr-var-preview xr-preview'>0.4087 0.0</div><input id='attrs-b9f50d16-2c73-464e-a7a8-f2b5e1501477' class='xr-var-attrs-in' type='checkbox' disabled><label for='attrs-b9f50d16-2c73-464e-a7a8-f2b5e1501477' title='Show/Hide attributes'><svg class='icon xr-icon-file-text2'><use xlink:href='#icon-file-text2'></use></svg></label><input id='data-7dba1a22-042a-4fe6-9d4d-03eecd8f997f' class='xr-var-data-in' type='checkbox'><label for='data-7dba1a22-042a-4fe6-9d4d-03eecd8f997f' title='Show/Hide data repr'><svg class='icon xr-icon-database'><use xlink:href='#icon-database'></use></svg></label><div class='xr-var-attrs'><dl class='xr-attrs'></dl></div><div class='xr-var-data'><pre>array([0.40871676, 0.        ])</pre></div></li><li class='xr-var-item'><div class='xr-var-name'><span>other_frac</span></div><div class='xr-var-dims'>(basin_id)</div><div class='xr-var-dtype'>float64</div><div class='xr-var-preview xr-preview'>0.0 1.096</div><input id='attrs-d989553b-f1c7-47a1-a632-4a219df26bfb' class='xr-var-attrs-in' type='checkbox' disabled><label for='attrs-d989553b-f1c7-47a1-a632-4a219df26bfb' title='Show/Hide attributes'><svg class='icon xr-icon-file-text2'><use xlink:href='#icon-file-text2'></use></svg></label><input id='data-49505d7c-6921-4cd3-97e7-e3d55d60b084' class='xr-var-data-in' type='checkbox'><label for='data-49505d7c-6921-4cd3-97e7-e3d55d60b084' title='Show/Hide data repr'><svg class='icon xr-icon-database'><use xlink:href='#icon-database'></use></svg></label><div class='xr-var-attrs'><dl class='xr-attrs'></dl></div><div class='xr-var-data'><pre>array([0.        , 1.09608661])</pre></div></li><li class='xr-var-item'><div class='xr-var-name'><span>frac_forest</span></div><div class='xr-var-dims'>(basin_id)</div><div class='xr-var-dtype'>float64</div><div class='xr-var-preview xr-preview'>0.9063 0.9963</div><input id='attrs-4396647b-2bfd-4468-ac41-92962e6c8e7e' class='xr-var-attrs-in' type='checkbox' disabled><label for='attrs-4396647b-2bfd-4468-ac41-92962e6c8e7e' title='Show/Hide attributes'><svg class='icon xr-icon-file-text2'><use xlink:href='#icon-file-text2'></use></svg></label><input id='data-34fba343-f440-4506-8ca8-343d9cf1ddf4' class='xr-var-data-in' type='checkbox'><label for='data-34fba343-f440-4506-8ca8-343d9cf1ddf4' title='Show/Hide data repr'><svg class='icon xr-icon-database'><use xlink:href='#icon-database'></use></svg></label><div class='xr-var-attrs'><dl class='xr-attrs'></dl></div><div class='xr-var-data'><pre>array([0.9063, 0.9963])</pre></div></li><li class='xr-var-item'><div class='xr-var-name'><span>lai_max</span></div><div class='xr-var-dims'>(basin_id)</div><div class='xr-var-dtype'>float64</div><div class='xr-var-preview xr-preview'>4.167 4.931</div><input id='attrs-1991cc03-bf23-45ba-aa1e-5ecac6d8ecaf' class='xr-var-attrs-in' type='checkbox' disabled><label for='attrs-1991cc03-bf23-45ba-aa1e-5ecac6d8ecaf' title='Show/Hide attributes'><svg class='icon xr-icon-file-text2'><use xlink:href='#icon-file-text2'></use></svg></label><input id='data-24f3e833-3579-4733-8248-198b74a2ed60' class='xr-var-data-in' type='checkbox'><label for='data-24f3e833-3579-4733-8248-198b74a2ed60' title='Show/Hide data repr'><svg class='icon xr-icon-database'><use xlink:href='#icon-database'></use></svg></label><div class='xr-var-attrs'><dl class='xr-attrs'></dl></div><div class='xr-var-data'><pre>array([4.16730395, 4.93055038])</pre></div></li><li class='xr-var-item'><div class='xr-var-name'><span>lai_diff</span></div><div class='xr-var-dims'>(basin_id)</div><div class='xr-var-dtype'>float64</div><div class='xr-var-preview xr-preview'>3.341 4.274</div><input id='attrs-9db07207-de86-42b3-ac09-e496b2fc5373' class='xr-var-attrs-in' type='checkbox' disabled><label for='attrs-9db07207-de86-42b3-ac09-e496b2fc5373' title='Show/Hide attributes'><svg class='icon xr-icon-file-text2'><use xlink:href='#icon-file-text2'></use></svg></label><input id='data-051d11db-adc0-462d-bc75-1dabe4a643f2' class='xr-var-data-in' type='checkbox'><label for='data-051d11db-adc0-462d-bc75-1dabe4a643f2' title='Show/Hide data repr'><svg class='icon xr-icon-database'><use xlink:href='#icon-database'></use></svg></label><div class='xr-var-attrs'><dl class='xr-attrs'></dl></div><div class='xr-var-data'><pre>array([3.34073186, 4.27360673])</pre></div></li><li class='xr-var-item'><div class='xr-var-name'><span>gvf_max</span></div><div class='xr-var-dims'>(basin_id)</div><div class='xr-var-dtype'>float64</div><div class='xr-var-preview xr-preview'>0.8046 0.8862</div><input id='attrs-2f997336-bb4c-4581-a28d-e5b754aa447c' class='xr-var-attrs-in' type='checkbox' disabled><label for='attrs-2f997336-bb4c-4581-a28d-e5b754aa447c' title='Show/Hide attributes'><svg class='icon xr-icon-file-text2'><use xlink:href='#icon-file-text2'></use></svg></label><input id='data-bd770d0b-4121-4f60-8654-7d4cdb2ec504' class='xr-var-data-in' type='checkbox'><label for='data-bd770d0b-4121-4f60-8654-7d4cdb2ec504' title='Show/Hide data repr'><svg class='icon xr-icon-database'><use xlink:href='#icon-database'></use></svg></label><div class='xr-var-attrs'><dl class='xr-attrs'></dl></div><div class='xr-var-data'><pre>array([0.80456742, 0.88621625])</pre></div></li><li class='xr-var-item'><div class='xr-var-name'><span>gvf_diff</span></div><div class='xr-var-dims'>(basin_id)</div><div class='xr-var-dtype'>float64</div><div class='xr-var-preview xr-preview'>0.3716 0.4768</div><input id='attrs-6383bf45-6cc2-4185-b14c-51977f19be20' class='xr-var-attrs-in' type='checkbox' disabled><label for='attrs-6383bf45-6cc2-4185-b14c-51977f19be20' title='Show/Hide attributes'><svg class='icon xr-icon-file-text2'><use xlink:href='#icon-file-text2'></use></svg></label><input id='data-62eec2cd-3573-418f-b046-72afa9a63024' class='xr-var-data-in' type='checkbox'><label for='data-62eec2cd-3573-418f-b046-72afa9a63024' title='Show/Hide data repr'><svg class='icon xr-icon-database'><use xlink:href='#icon-database'></use></svg></label><div class='xr-var-attrs'><dl class='xr-attrs'></dl></div><div class='xr-var-data'><pre>array([0.37164816, 0.47679408])</pre></div></li><li class='xr-var-item'><div class='xr-var-name'><span>dom_land_cover_frac</span></div><div class='xr-var-dims'>(basin_id)</div><div class='xr-var-dtype'>float64</div><div class='xr-var-preview xr-preview'>0.8835 0.6038</div><input id='attrs-b1ad37a3-1a39-4f12-964b-63b02e8d7066' class='xr-var-attrs-in' type='checkbox' disabled><label for='attrs-b1ad37a3-1a39-4f12-964b-63b02e8d7066' title='Show/Hide attributes'><svg class='icon xr-icon-file-text2'><use xlink:href='#icon-file-text2'></use></svg></label><input id='data-1e86d82f-0e5b-4ecf-bdff-032062451425' class='xr-var-data-in' type='checkbox'><label for='data-1e86d82f-0e5b-4ecf-bdff-032062451425' title='Show/Hide data repr'><svg class='icon xr-icon-database'><use xlink:href='#icon-database'></use></svg></label><div class='xr-var-attrs'><dl class='xr-attrs'></dl></div><div class='xr-var-data'><pre>array([0.88345192, 0.60380405])</pre></div></li><li class='xr-var-item'><div class='xr-var-name'><span>dom_land_cover</span></div><div class='xr-var-dims'>(basin_id)</div><div class='xr-var-dtype'>object</div><div class='xr-var-preview xr-preview'>&#x27;Mixed Forests&#x27; &#x27;Deciduous Broad...</div><input id='attrs-4102770c-5a3d-4cd8-ba56-c0852b27cdd9' class='xr-var-attrs-in' type='checkbox' disabled><label for='attrs-4102770c-5a3d-4cd8-ba56-c0852b27cdd9' title='Show/Hide attributes'><svg class='icon xr-icon-file-text2'><use xlink:href='#icon-file-text2'></use></svg></label><input id='data-93932672-6a97-4f96-a2aa-730b03d4d0bb' class='xr-var-data-in' type='checkbox'><label for='data-93932672-6a97-4f96-a2aa-730b03d4d0bb' title='Show/Hide data repr'><svg class='icon xr-icon-database'><use xlink:href='#icon-database'></use></svg></label><div class='xr-var-attrs'><dl class='xr-attrs'></dl></div><div class='xr-var-data'><pre>array([&#x27;Mixed Forests&#x27;, &#x27;Deciduous Broadleaf Forest&#x27;], dtype=object)</pre></div></li><li class='xr-var-item'><div class='xr-var-name'><span>root_depth_50</span></div><div class='xr-var-dims'>(basin_id)</div><div class='xr-var-dtype'>float64</div><div class='xr-var-preview xr-preview'>nan 0.2135</div><input id='attrs-3264d945-5acd-453a-b9a8-149b1d1ebbaa' class='xr-var-attrs-in' type='checkbox' disabled><label for='attrs-3264d945-5acd-453a-b9a8-149b1d1ebbaa' title='Show/Hide attributes'><svg class='icon xr-icon-file-text2'><use xlink:href='#icon-file-text2'></use></svg></label><input id='data-9aca796a-b209-4615-9c3e-94d0e71590ca' class='xr-var-data-in' type='checkbox'><label for='data-9aca796a-b209-4615-9c3e-94d0e71590ca' title='Show/Hide data repr'><svg class='icon xr-icon-database'><use xlink:href='#icon-database'></use></svg></label><div class='xr-var-attrs'><dl class='xr-attrs'></dl></div><div class='xr-var-data'><pre>array([       nan, 0.21348874])</pre></div></li><li class='xr-var-item'><div class='xr-var-name'><span>root_depth_99</span></div><div class='xr-var-dims'>(basin_id)</div><div class='xr-var-dtype'>float64</div><div class='xr-var-preview xr-preview'>nan 2.155</div><input id='attrs-cb27246c-18f9-497f-b4b0-0656def0fca3' class='xr-var-attrs-in' type='checkbox' disabled><label for='attrs-cb27246c-18f9-497f-b4b0-0656def0fca3' title='Show/Hide attributes'><svg class='icon xr-icon-file-text2'><use xlink:href='#icon-file-text2'></use></svg></label><input id='data-3b8fe1bf-119b-4ef1-818b-97ab1732905b' class='xr-var-data-in' type='checkbox'><label for='data-3b8fe1bf-119b-4ef1-818b-97ab1732905b' title='Show/Hide data repr'><svg class='icon xr-icon-database'><use xlink:href='#icon-database'></use></svg></label><div class='xr-var-attrs'><dl class='xr-attrs'></dl></div><div class='xr-var-data'><pre>array([       nan, 2.15483953])</pre></div></li><li class='xr-var-item'><div class='xr-var-name'><span>gauge_lat</span></div><div class='xr-var-dims'>(basin_id)</div><div class='xr-var-dtype'>float64</div><div class='xr-var-preview xr-preview'>47.24 44.51</div><input id='attrs-9ca3766d-4d48-49af-b45f-447670177a10' class='xr-var-attrs-in' type='checkbox' disabled><label for='attrs-9ca3766d-4d48-49af-b45f-447670177a10' title='Show/Hide attributes'><svg class='icon xr-icon-file-text2'><use xlink:href='#icon-file-text2'></use></svg></label><input id='data-0ce61677-a8e8-411a-a39e-2c11f12f7a6f' class='xr-var-data-in' type='checkbox'><label for='data-0ce61677-a8e8-411a-a39e-2c11f12f7a6f' title='Show/Hide data repr'><svg class='icon xr-icon-database'><use xlink:href='#icon-database'></use></svg></label><div class='xr-var-attrs'><dl class='xr-attrs'></dl></div><div class='xr-var-data'><pre>array([47.23739, 44.51172])</pre></div></li><li class='xr-var-item'><div class='xr-var-name'><span>gauge_lon</span></div><div class='xr-var-dims'>(basin_id)</div><div class='xr-var-dtype'>float64</div><div class='xr-var-preview xr-preview'>-68.58 -71.84</div><input id='attrs-5e3d4e9a-cfda-40ae-8681-ad5842f49110' class='xr-var-attrs-in' type='checkbox' disabled><label for='attrs-5e3d4e9a-cfda-40ae-8681-ad5842f49110' title='Show/Hide attributes'><svg class='icon xr-icon-file-text2'><use xlink:href='#icon-file-text2'></use></svg></label><input id='data-e9c5a6ba-a3e9-40d9-98e9-42136477e5b5' class='xr-var-data-in' type='checkbox'><label for='data-e9c5a6ba-a3e9-40d9-98e9-42136477e5b5' title='Show/Hide data repr'><svg class='icon xr-icon-database'><use xlink:href='#icon-database'></use></svg></label><div class='xr-var-attrs'><dl class='xr-attrs'></dl></div><div class='xr-var-data'><pre>array([-68.58264, -71.83731])</pre></div></li><li class='xr-var-item'><div class='xr-var-name'><span>elev_mean</span></div><div class='xr-var-dims'>(basin_id)</div><div class='xr-var-dtype'>float64</div><div class='xr-var-preview xr-preview'>250.3 450.5</div><input id='attrs-503e9dde-aca7-4700-adea-80428b89241b' class='xr-var-attrs-in' type='checkbox' disabled><label for='attrs-503e9dde-aca7-4700-adea-80428b89241b' title='Show/Hide attributes'><svg class='icon xr-icon-file-text2'><use xlink:href='#icon-file-text2'></use></svg></label><input id='data-074880ff-ce99-4b97-a020-8d5f15e12c2d' class='xr-var-data-in' type='checkbox'><label for='data-074880ff-ce99-4b97-a020-8d5f15e12c2d' title='Show/Hide data repr'><svg class='icon xr-icon-database'><use xlink:href='#icon-database'></use></svg></label><div class='xr-var-attrs'><dl class='xr-attrs'></dl></div><div class='xr-var-data'><pre>array([250.31, 450.54])</pre></div></li><li class='xr-var-item'><div class='xr-var-name'><span>slope_mean</span></div><div class='xr-var-dims'>(basin_id)</div><div class='xr-var-dtype'>float64</div><div class='xr-var-preview xr-preview'>21.64 47.54</div><input id='attrs-6aec2f8d-8cca-47ee-b400-71a290afd039' class='xr-var-attrs-in' type='checkbox' disabled><label for='attrs-6aec2f8d-8cca-47ee-b400-71a290afd039' title='Show/Hide attributes'><svg class='icon xr-icon-file-text2'><use xlink:href='#icon-file-text2'></use></svg></label><input id='data-80484583-0fb7-445a-b688-34f71d65e414' class='xr-var-data-in' type='checkbox'><label for='data-80484583-0fb7-445a-b688-34f71d65e414' title='Show/Hide data repr'><svg class='icon xr-icon-database'><use xlink:href='#icon-database'></use></svg></label><div class='xr-var-attrs'><dl class='xr-attrs'></dl></div><div class='xr-var-data'><pre>array([21.64152, 47.54354])</pre></div></li><li class='xr-var-item'><div class='xr-var-name'><span>area_gages2</span></div><div class='xr-var-dims'>(basin_id)</div><div class='xr-var-dtype'>float64</div><div class='xr-var-preview xr-preview'>2.253e+03 195.1</div><input id='attrs-f6effa17-9512-473b-923b-950f67e9b665' class='xr-var-attrs-in' type='checkbox' disabled><label for='attrs-f6effa17-9512-473b-923b-950f67e9b665' title='Show/Hide attributes'><svg class='icon xr-icon-file-text2'><use xlink:href='#icon-file-text2'></use></svg></label><input id='data-360f22ec-f88e-43cf-8fbe-1cf0b430ee85' class='xr-var-data-in' type='checkbox'><label for='data-360f22ec-f88e-43cf-8fbe-1cf0b430ee85' title='Show/Hide data repr'><svg class='icon xr-icon-database'><use xlink:href='#icon-database'></use></svg></label><div class='xr-var-attrs'><dl class='xr-attrs'></dl></div><div class='xr-var-data'><pre>array([2252.7 ,  195.13])</pre></div></li><li class='xr-var-item'><div class='xr-var-name'><span>area_geospa_fabric</span></div><div class='xr-var-dims'>(basin_id)</div><div class='xr-var-dtype'>float64</div><div class='xr-var-preview xr-preview'>2.304e+03 209.5</div><input id='attrs-604d1f17-5810-4a46-b572-02d5c5311bc3' class='xr-var-attrs-in' type='checkbox' disabled><label for='attrs-604d1f17-5810-4a46-b572-02d5c5311bc3' title='Show/Hide attributes'><svg class='icon xr-icon-file-text2'><use xlink:href='#icon-file-text2'></use></svg></label><input id='data-c5f71c81-a776-46f7-bc08-49b2061a27e9' class='xr-var-data-in' type='checkbox'><label for='data-c5f71c81-a776-46f7-bc08-49b2061a27e9' title='Show/Hide data repr'><svg class='icon xr-icon-database'><use xlink:href='#icon-database'></use></svg></label><div class='xr-var-attrs'><dl class='xr-attrs'></dl></div><div class='xr-var-data'><pre>array([2303.95,  209.5 ])</pre></div></li></ul></div></li><li class='xr-section-item'><input id='section-9d84c333-17af-4eb6-9e37-dce50613496b' class='xr-section-summary-in' type='checkbox'  ><label for='section-9d84c333-17af-4eb6-9e37-dce50613496b' class='xr-section-summary' >Indexes: <span>(3)</span></label><div class='xr-section-inline-details'></div><div class='xr-section-details'><ul class='xr-var-list'><li class='xr-var-item'><div class='xr-index-name'><div>time</div></div><div class='xr-index-preview'>PandasIndex</div><div></div><input id='index-1f60694e-711c-4c4b-8967-966689e21f98' class='xr-index-data-in' type='checkbox'/><label for='index-1f60694e-711c-4c4b-8967-966689e21f98' title='Show/Hide index repr'><svg class='icon xr-icon-database'><use xlink:href='#icon-database'></use></svg></label><div class='xr-index-data'><pre>PandasIndex(DatetimeIndex([&#x27;1980-01-01&#x27;, &#x27;1980-01-02&#x27;, &#x27;1980-01-03&#x27;, &#x27;1980-01-04&#x27;,\n",
       "               &#x27;1980-01-05&#x27;, &#x27;1980-01-06&#x27;, &#x27;1980-01-07&#x27;, &#x27;1980-01-08&#x27;,\n",
       "               &#x27;1980-01-09&#x27;, &#x27;1980-01-10&#x27;,\n",
       "               ...\n",
       "               &#x27;2014-12-22&#x27;, &#x27;2014-12-23&#x27;, &#x27;2014-12-24&#x27;, &#x27;2014-12-25&#x27;,\n",
       "               &#x27;2014-12-26&#x27;, &#x27;2014-12-27&#x27;, &#x27;2014-12-28&#x27;, &#x27;2014-12-29&#x27;,\n",
       "               &#x27;2014-12-30&#x27;, &#x27;2014-12-31&#x27;],\n",
       "              dtype=&#x27;datetime64[ns]&#x27;, name=&#x27;time&#x27;, length=12784, freq=None))</pre></div></li><li class='xr-var-item'><div class='xr-index-name'><div>data_source</div></div><div class='xr-index-preview'>PandasIndex</div><div></div><input id='index-1f2cbfe0-c147-4330-b7ce-2a536e12ae14' class='xr-index-data-in' type='checkbox'/><label for='index-1f2cbfe0-c147-4330-b7ce-2a536e12ae14' title='Show/Hide index repr'><svg class='icon xr-icon-database'><use xlink:href='#icon-database'></use></svg></label><div class='xr-index-data'><pre>PandasIndex(Index([b&#x27;daymet&#x27;], dtype=&#x27;object&#x27;, name=&#x27;data_source&#x27;))</pre></div></li><li class='xr-var-item'><div class='xr-index-name'><div>basin_id</div></div><div class='xr-index-preview'>PandasIndex</div><div></div><input id='index-cebd61d2-60e0-46f3-a998-419e4a80f537' class='xr-index-data-in' type='checkbox'/><label for='index-cebd61d2-60e0-46f3-a998-419e4a80f537' title='Show/Hide index repr'><svg class='icon xr-icon-database'><use xlink:href='#icon-database'></use></svg></label><div class='xr-index-data'><pre>PandasIndex(Index([b&#x27;01013500&#x27;, b&#x27;01134500&#x27;], dtype=&#x27;object&#x27;, name=&#x27;basin_id&#x27;))</pre></div></li></ul></div></li><li class='xr-section-item'><input id='section-3db2b746-0658-496a-a6ff-e14bdf7c86d1' class='xr-section-summary-in' type='checkbox'  checked><label for='section-3db2b746-0658-496a-a6ff-e14bdf7c86d1' class='xr-section-summary' >Attributes: <span>(9)</span></label><div class='xr-section-inline-details'></div><div class='xr-section-details'><dl class='xr-attrs'><dt><span>title :</span></dt><dd>Basin mean forcing data</dd><dt><span>history :</span></dt><dd>Created by David Haasnoot for eWatercycle using CAMELS dataset</dd><dt><span>data_source :</span></dt><dd>CAMELS was compiled by A. Newman et al. `A large-sample watershed-scale hydrometeorological dataset for the contiguous USA`</dd><dt><span>url_source_data :</span></dt><dd>https://dx.doi.org/10.5065/D6MW2F4D</dd><dt><span>units :</span></dt><dd>daylight(s), precipitation(mm/day), mean radiation(W/m2), snow water equivalen(mm), temperature max(C), temperature min(C), temperature mean(c), vapour pressure(Pa), streamflow(mm/day)</dd><dt><span>alpha :</span></dt><dd>1.2617</dd><dt><span>lat :</span></dt><dd>44.49</dd><dt><span>elevation(m) :</span></dt><dd>529.0</dd><dt><span>area basin(m^2) :</span></dt><dd>194683851.0</dd></dl></div></li></ul></div></div>"
      ],
      "text/plain": [
       "<xarray.Dataset> Size: 2MB\n",
       "Dimensions:               (time: 12784, data_source: 1, basin_id: 2)\n",
       "Coordinates:\n",
       "  * time                  (time) datetime64[ns] 102kB 1980-01-01 ... 2014-12-31\n",
       "  * data_source           (data_source) |S64 64B b'daymet'\n",
       "  * basin_id              (basin_id) |S64 128B b'01013500' b'01134500'\n",
       "Data variables: (12/69)\n",
       "    dayl                  (basin_id, data_source, time) float64 205kB 3.017e+...\n",
       "    pr                    (basin_id, data_source, time) float64 205kB 0.0 ......\n",
       "    srad                  (basin_id, data_source, time) float64 205kB 153.4 ....\n",
       "    swe                   (basin_id, data_source, time) float64 205kB 0.0 ......\n",
       "    tasmax                (basin_id, data_source, time) float64 205kB -6.54 ....\n",
       "    tasmin                (basin_id, data_source, time) float64 205kB -16.3 ....\n",
       "    ...                    ...\n",
       "    gauge_lat             (basin_id) float64 16B 47.24 44.51\n",
       "    gauge_lon             (basin_id) float64 16B -68.58 -71.84\n",
       "    elev_mean             (basin_id) float64 16B 250.3 450.5\n",
       "    slope_mean            (basin_id) float64 16B 21.64 47.54\n",
       "    area_gages2           (basin_id) float64 16B 2.253e+03 195.1\n",
       "    area_geospa_fabric    (basin_id) float64 16B 2.304e+03 209.5\n",
       "Attributes:\n",
       "    title:            Basin mean forcing data\n",
       "    history:          Created by David Haasnoot for eWatercycle using CAMELS ...\n",
       "    data_source:      CAMELS was compiled by A. Newman et al. `A large-sample...\n",
       "    url_source_data:  https://dx.doi.org/10.5065/D6MW2F4D\n",
       "    units:            daylight(s), precipitation(mm/day), mean radiation(W/m2...\n",
       "    alpha:            1.2617\n",
       "    lat:              44.49\n",
       "    elevation(m):     529.0\n",
       "    area basin(m^2):  194683851.0"
      ]
     },
     "execution_count": 28,
     "metadata": {},
     "output_type": "execute_result"
    }
   ],
   "source": [
    "xr.merge([ds0,ds1])"
   ]
  },
  {
   "cell_type": "markdown",
   "id": "76fb1bbb-c0e8-4e90-82b4-d23f57b3bd5e",
   "metadata": {},
   "source": [
    "# loop"
   ]
  },
  {
   "cell_type": "markdown",
   "id": "4a3b92ad-bcd6-47d7-b9d6-5ca6a2b7d372",
   "metadata": {},
   "source": [
    "not found 1150900, 6775500, 6846500 in `catchment_char = characteristics_all.loc[int(basin_id)].copy()`\n",
    "\n",
    "error in 02108000, 05120500: wrong header daymet"
   ]
  },
  {
   "cell_type": "code",
   "execution_count": 29,
   "id": "7c147922-a358-41c6-b15f-067170f6446b",
   "metadata": {},
   "outputs": [],
   "source": [
    "skip_ids = [2081113, 3448942, 9535100, 1150900, 6775500, 6846500]"
   ]
  },
  {
   "cell_type": "code",
   "execution_count": null,
   "id": "018b8dfa-459d-48cc-bbac-4d1ebc4a4745",
   "metadata": {},
   "outputs": [],
   "source": [
    "source_lst = ['daymet','maurer','nldas']\n",
    "for source in source_lst[1:]:\n",
    "    # Source dependant\n",
    "    out_path = path.cwd() / \"Output\" / source\n",
    "    out_path.mkdir(exist_ok=True)\n",
    "    forcing_sub_path_1 = f'basin_timeseries_v1p2_metForcing_obsFlow'\n",
    "    forcing_sub_path_2 = f'basin_dataset_public_v1p2'\n",
    "    forcing_sub_path_3 = f'basin_mean_forcing'\n",
    "    forcing_path = path / forcing_sub_path_1 / forcing_sub_path_2 / forcing_sub_path_3 / source\n",
    "    sub_dirs_forcing = list(forcing_path.glob(\"*\"))\n",
    "    model_ouput_path = path / f'basin_timeseries_v1p2_modelOutput_{source}' / f'model_output_{source}' / 'model_output' /'flow_timeseries'/ f'{source}'\n",
    "    streamflow_path = path / forcing_sub_path_1 / forcing_sub_path_2 / 'usgs_streamflow'\n",
    "    \n",
    "    for sub_dirs in sub_dirs_forcing:\n",
    "        basin_mean_forcing_files = list(sub_dirs.glob(\"*.txt\"))\n",
    "        for basin_mean_forcing_file in basin_mean_forcing_files:\n",
    "            basin_id = basin_mean_forcing_file.name[:8]\n",
    "            if int(basin_id) in skip_ids:\n",
    "                pass \n",
    "            else:\n",
    "                folder_id = basin_mean_forcing_file.parent.name\n",
    "                catchment_char = characteristics_all.loc[int(basin_id)].copy()\n",
    "                parameter_files_path = list((model_ouput_path / f'{folder_id}').glob(f'{basin_id}_*_model_parameters.txt'))\n",
    "                \n",
    "                if source == \"daymet\":\n",
    "                    line_start = \"pet_coef\"\n",
    "                elif source != 'daymet':\n",
    "                    line_start = \"PT_COEF\"\n",
    "                lst_alpha = []    \n",
    "                for file in parameter_files_path:\n",
    "                    with open(file,'r') as lines:\n",
    "                        for line in lines:\n",
    "                            if line[:len(line_start)] == line_start:\n",
    "                                lst_alpha.append(float(line.strip().split(\"\\t\")[-1]))\n",
    "                alpha = np.array(lst_alpha).mean()\n",
    "                \n",
    "                streamflow_file_path = streamflow_path / f'{folder_id}' / f'{basin_id}_streamflow_qc.txt' \n",
    "                ds = from_camels_txt(basin_mean_forcing_file, \n",
    "                                     basin_id, \n",
    "                                     source, \n",
    "                                     start_date, \n",
    "                                     end_date, \n",
    "                                     out_path, \n",
    "                                     alpha, \n",
    "                                     catchment_char, \n",
    "                                     streamflow_file_path)\n",
    "                ds.close()"
   ]
  },
  {
   "cell_type": "code",
   "execution_count": 46,
   "id": "e37bf00c-dc56-4380-95ad-d0daff2b8211",
   "metadata": {},
   "outputs": [],
   "source": [
    "files_daymet = list((path.cwd() / \"Output\" / \"daymet\").glob(\"*nc\"))"
   ]
  },
  {
   "cell_type": "code",
   "execution_count": 47,
   "id": "e0c046c1-be00-4c73-b813-2ea712262975",
   "metadata": {},
   "outputs": [
    {
     "data": {
      "text/plain": [
       "671"
      ]
     },
     "execution_count": 47,
     "metadata": {},
     "output_type": "execute_result"
    }
   ],
   "source": [
    "len(files_daymet)"
   ]
  },
  {
   "cell_type": "code",
   "execution_count": 48,
   "id": "7ebd6547-bac6-4283-9f23-f81a0d3abcdf",
   "metadata": {},
   "outputs": [],
   "source": [
    "files_maurer = list(( path.cwd() / \"Output\" / \"maurer\").glob(\"*nc\"))"
   ]
  },
  {
   "cell_type": "code",
   "execution_count": 49,
   "id": "609b7547-930b-4b76-b5ae-2de068de8476",
   "metadata": {},
   "outputs": [
    {
     "data": {
      "text/plain": [
       "156"
      ]
     },
     "execution_count": 49,
     "metadata": {},
     "output_type": "execute_result"
    }
   ],
   "source": [
    "len(files_maurer)"
   ]
  },
  {
   "cell_type": "code",
   "execution_count": null,
   "id": "c662c9ab-067f-4ec0-b54b-ae4f7767ca66",
   "metadata": {},
   "outputs": [],
   "source": []
  }
 ],
 "metadata": {
  "kernelspec": {
   "display_name": "Python 3 (ipykernel)",
   "language": "python",
   "name": "python3"
  },
  "language_info": {
   "codemirror_mode": {
    "name": "ipython",
    "version": 3
   },
   "file_extension": ".py",
   "mimetype": "text/x-python",
   "name": "python",
   "nbconvert_exporter": "python",
   "pygments_lexer": "ipython3",
   "version": "3.10.14"
  }
 },
 "nbformat": 4,
 "nbformat_minor": 5
}
