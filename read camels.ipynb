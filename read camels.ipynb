{
 "cells": [
  {
   "cell_type": "code",
   "execution_count": 1,
   "id": "242b7cd1-6cb2-4cba-a359-aa13883da9fc",
   "metadata": {},
   "outputs": [],
   "source": [
    "import numpy as np\n",
    "from pathlib import Path, PosixPath\n",
    "import pandas as pd\n",
    "import matplotlib.pyplot as plt\n",
    "from datetime import datetime\n",
    "import xarray as xr"
   ]
  },
  {
   "cell_type": "markdown",
   "id": "f70bec50-b92d-48b4-9d2a-9d40f289e99f",
   "metadata": {},
   "source": [
    "Path to dataset"
   ]
  },
  {
   "cell_type": "code",
   "execution_count": 2,
   "id": "f9bdd146-e128-48cc-9a8f-d91cf185ca81",
   "metadata": {},
   "outputs": [],
   "source": [
    "path = PosixPath('/media/davidhaasnoot/files/large_data_sets/CAMELS')"
   ]
  },
  {
   "cell_type": "code",
   "execution_count": 3,
   "id": "20b0e236-ac0a-4cc5-89c7-2cc48d7916bf",
   "metadata": {},
   "outputs": [
    {
     "data": {
      "text/plain": [
       "PosixPath('/media/davidhaasnoot/files/large_data_sets/CAMELS')"
      ]
     },
     "execution_count": 3,
     "metadata": {},
     "output_type": "execute_result"
    }
   ],
   "source": [
    "path"
   ]
  },
  {
   "cell_type": "markdown",
   "id": "29615e28-62b8-434c-9353-aa3fcd97a3d7",
   "metadata": {},
   "source": [
    "# load characteristics "
   ]
  },
  {
   "cell_type": "code",
   "execution_count": 4,
   "id": "f2c68387-6929-43da-acb8-ed75fe4dcab8",
   "metadata": {},
   "outputs": [],
   "source": [
    "indicator_files = list(path.glob('*.txt'))"
   ]
  },
  {
   "cell_type": "code",
   "execution_count": 5,
   "id": "48f2eb70-5181-4333-a07b-8adcb3893fbc",
   "metadata": {},
   "outputs": [],
   "source": [
    "df_clim_indicators = pd.read_csv(indicator_files[0],delimiter=\";\")\n",
    "df_geol_indicators = pd.read_csv(indicator_files[1],delimiter=\";\")\n",
    "df_hydro_indicators = pd.read_csv(indicator_files[2],delimiter=\";\")\n",
    "df_catchment_names = pd.read_csv(indicator_files[3],delimiter=\";\")\n",
    "df_soil_indicators = pd.read_csv(indicator_files[4],delimiter=\";\")\n",
    "df_topo_indicators = pd.read_csv(indicator_files[5],delimiter=\";\")\n",
    "df_vege_indicators = pd.read_csv(indicator_files[6],delimiter=\";\")\n",
    "df_vege_indicators['dom_land_cover'] = df_vege_indicators['dom_land_cover'].apply(lambda x: x.strip())"
   ]
  },
  {
   "cell_type": "code",
   "execution_count": 6,
   "id": "e827c2ef-3c51-421a-af56-51d01ca5e770",
   "metadata": {},
   "outputs": [],
   "source": [
    "df_char_lst = [df_geol_indicators,\n",
    "                df_clim_indicators,\n",
    "                df_hydro_indicators,\n",
    "                df_catchment_names,\n",
    "                df_soil_indicators,\n",
    "                df_vege_indicators, \n",
    "                df_topo_indicators]\n",
    "for index, df in enumerate(df_char_lst):\n",
    "    df_char_lst[index] = df.set_index('gauge_id')"
   ]
  },
  {
   "cell_type": "code",
   "execution_count": 7,
   "id": "e1c53b71-0a90-4438-9b30-3fef6f3a0f7d",
   "metadata": {},
   "outputs": [],
   "source": [
    "characteristics_all = pd.concat(df_char_lst,axis=1)"
   ]
  },
  {
   "cell_type": "markdown",
   "id": "17f9acda-475e-40c4-98ff-7873853f8a55",
   "metadata": {},
   "source": [
    "## Forcing path"
   ]
  },
  {
   "cell_type": "code",
   "execution_count": 8,
   "id": "2a06c2bb-fdbd-4abd-9849-cf9edf4c96e6",
   "metadata": {},
   "outputs": [],
   "source": [
    "source_lst = ['daymet','maurer','nldas']\n",
    "source = source_lst[0]\n",
    "forcing_sub_path_1 = f'basin_timeseries_v1p2_metForcing_obsFlow'\n",
    "forcing_sub_path_2 = f'basin_dataset_public_v1p2'\n",
    "forcing_sub_path_3 = f'basin_mean_forcing'"
   ]
  },
  {
   "cell_type": "code",
   "execution_count": 9,
   "id": "9f08c962-65d5-4c96-b721-0a55e9d50f03",
   "metadata": {},
   "outputs": [],
   "source": [
    "forcing_path = path / forcing_sub_path_1 / forcing_sub_path_2 / forcing_sub_path_3 / source"
   ]
  },
  {
   "cell_type": "code",
   "execution_count": 10,
   "id": "36dd6858-ab18-48a3-b6b1-7873e43975f3",
   "metadata": {},
   "outputs": [],
   "source": [
    "sub_dirs_forcing = list(forcing_path.glob(\"*\"))"
   ]
  },
  {
   "cell_type": "code",
   "execution_count": 11,
   "id": "5995d52d-7f5d-416e-b12d-13760b3cd2e6",
   "metadata": {},
   "outputs": [],
   "source": [
    "basin_mean_forcing_files = list(sub_dirs_forcing[0].glob(\"*.txt\"))"
   ]
  },
  {
   "cell_type": "code",
   "execution_count": 12,
   "id": "19a596cf-e5ba-424b-8951-872cb7460bd2",
   "metadata": {},
   "outputs": [],
   "source": [
    "basin_mean_forcing_file = basin_mean_forcing_files[0]\n",
    "basin_id = basin_mean_forcing_file.name[:8]\n",
    "folder_id = basin_mean_forcing_file.parent.name"
   ]
  },
  {
   "cell_type": "code",
   "execution_count": 13,
   "id": "b974b627-2592-4ab3-835a-d07ac0cf5130",
   "metadata": {},
   "outputs": [],
   "source": [
    "catchment_char = characteristics_all.loc[int(basin_id)].copy()"
   ]
  },
  {
   "cell_type": "code",
   "execution_count": 47,
   "id": "b8547d35-f843-4372-b626-8c4d49f97b60",
   "metadata": {},
   "outputs": [
    {
     "data": {
      "text/plain": [
       "671"
      ]
     },
     "execution_count": 47,
     "metadata": {},
     "output_type": "execute_result"
    }
   ],
   "source": [
    "len(list(characteristics_all.index))"
   ]
  },
  {
   "cell_type": "markdown",
   "id": "22547fe7-66a9-4d89-a1ba-9ed2592dc1a8",
   "metadata": {},
   "source": [
    "## retrieve alpha"
   ]
  },
  {
   "cell_type": "markdown",
   "id": "0ddd6dee-f5fb-4811-b906-d123130a59ca",
   "metadata": {},
   "source": [
    "retrieve alpha: not always 1.26"
   ]
  },
  {
   "cell_type": "code",
   "execution_count": 14,
   "id": "7deaa109-4d39-4834-9399-60fdc556c235",
   "metadata": {},
   "outputs": [],
   "source": [
    "model_ouput_path = path / f'basin_timeseries_v1p2_modelOutput_{source}' / f'model_output_{source}' / 'model_output' /'flow_timeseries'/ f'{source}'"
   ]
  },
  {
   "cell_type": "code",
   "execution_count": 15,
   "id": "3b751530-ca44-44d5-97c9-a4ff834ee212",
   "metadata": {},
   "outputs": [
    {
     "data": {
      "text/plain": [
       "PosixPath('/media/davidhaasnoot/files/large_data_sets/CAMELS/basin_timeseries_v1p2_modelOutput_daymet/model_output_daymet/model_output/flow_timeseries/daymet')"
      ]
     },
     "execution_count": 15,
     "metadata": {},
     "output_type": "execute_result"
    }
   ],
   "source": [
    "model_ouput_path"
   ]
  },
  {
   "cell_type": "code",
   "execution_count": 16,
   "id": "8706a33e-7ffb-4e8c-a9d8-be2a1bd52cb9",
   "metadata": {},
   "outputs": [],
   "source": [
    "parameter_files_path = list((model_ouput_path / f'{folder_id}').glob(f'{basin_id}_*_model_parameters.txt'))"
   ]
  },
  {
   "cell_type": "code",
   "execution_count": 17,
   "id": "b3061237-b9a4-42e2-89ae-0a541c4ddd64",
   "metadata": {},
   "outputs": [],
   "source": [
    "line_start = \"pet_coef\"\n",
    "lst_alpha = []\n",
    "for file in parameter_files_path:\n",
    "    with open(file,'r') as lines:\n",
    "        for line in lines:\n",
    "            if line[:len(line_start)] == line_start:\n",
    "                lst_alpha.append(float(line.strip().split(\"\\t\")[-1]))"
   ]
  },
  {
   "cell_type": "code",
   "execution_count": 18,
   "id": "ed9fd125-7639-4525-ba4e-524fe1fa0b59",
   "metadata": {},
   "outputs": [],
   "source": [
    "alpha = np.array(lst_alpha).mean()"
   ]
  },
  {
   "cell_type": "markdown",
   "id": "ca685358-5227-4d86-8bfb-79a654ecfbab",
   "metadata": {},
   "source": [
    "## add streamflow"
   ]
  },
  {
   "cell_type": "code",
   "execution_count": 19,
   "id": "040aa5d0-6248-4fba-b7ef-ed8448b0944a",
   "metadata": {},
   "outputs": [],
   "source": [
    "streamflow_path = path / forcing_sub_path_1 / forcing_sub_path_2 / 'usgs_streamflow'\n",
    "streamflow_file_path = streamflow_path / f'{folder_id}' / f'{basin_id}_streamflow_qc.txt' "
   ]
  },
  {
   "cell_type": "markdown",
   "id": "6c07f5ed-8537-49e8-b978-d2055c374568",
   "metadata": {},
   "source": [
    "# Combine all "
   ]
  },
  {
   "cell_type": "code",
   "execution_count": 20,
   "id": "b1b295d8-433c-4477-89c3-099970665f7e",
   "metadata": {},
   "outputs": [],
   "source": [
    "from read_camels import from_camels_txt, crop_ds, calc_pet"
   ]
  },
  {
   "cell_type": "code",
   "execution_count": 21,
   "id": "0ea870e9-5e14-4436-8689-484bfcd16889",
   "metadata": {},
   "outputs": [],
   "source": [
    "start_date = \"1980-01-01T00:00:00Z\"\n",
    "end_date = \"2014-12-31T00:00:00Z\""
   ]
  },
  {
   "cell_type": "code",
   "execution_count": 22,
   "id": "e8a1a35d-ce20-4349-9ed6-eac53c3b52d8",
   "metadata": {},
   "outputs": [],
   "source": [
    "out_path = path.cwd() / \"Output\" / source\n",
    "out_path.mkdir(exist_ok=True)"
   ]
  },
  {
   "cell_type": "code",
   "execution_count": 23,
   "id": "64d0140a-4ef4-41b1-8458-51d207e7d9ba",
   "metadata": {},
   "outputs": [],
   "source": [
    "ds0 = from_camels_txt(basin_mean_forcing_file, basin_id, source, start_date, end_date, out_path, alpha, catchment_char, streamflow_file_path)"
   ]
  },
  {
   "cell_type": "markdown",
   "id": "0f0fc4a0-e07e-4df7-aaf9-6902c89e72a6",
   "metadata": {},
   "source": [
    "## test merge"
   ]
  },
  {
   "cell_type": "code",
   "execution_count": 24,
   "id": "3cd92447-3e8f-4395-9034-bf662f9a3780",
   "metadata": {},
   "outputs": [],
   "source": [
    "source_lst = ['daymet','maurer','nldas']\n",
    "source = source_lst[0]\n",
    "# Source dependant\n",
    "forcing_sub_path_1 = f'basin_timeseries_v1p2_metForcing_obsFlow'\n",
    "forcing_sub_path_2 = f'basin_dataset_public_v1p2'\n",
    "forcing_sub_path_3 = f'basin_mean_forcing'\n",
    "forcing_path = path / forcing_sub_path_1 / forcing_sub_path_2 / forcing_sub_path_3 / source\n",
    "sub_dirs_forcing = list(forcing_path.glob(\"*\"))\n",
    "model_ouput_path = path / f'basin_timeseries_v1p2_modelOutput_{source}' / f'model_output_{source}' / 'model_output' /'flow_timeseries'/ f'{source}'\n",
    "streamflow_path = path / forcing_sub_path_1 / forcing_sub_path_2 / 'usgs_streamflow'"
   ]
  },
  {
   "cell_type": "code",
   "execution_count": 25,
   "id": "5d4ffb5a-fb9c-4d24-9adc-388748a808c1",
   "metadata": {},
   "outputs": [],
   "source": [
    "# basin dependant\n",
    "basin_mean_forcing_file = basin_mean_forcing_files[1]\n",
    "basin_id = basin_mean_forcing_file.name[:8]\n",
    "folder_id = basin_mean_forcing_file.parent.name\n",
    "catchment_char = characteristics_all.loc[int(basin_id)].copy()\n",
    "parameter_files_path = list((model_ouput_path / f'{folder_id}').glob(f'{basin_id}_*_model_parameters.txt'))\n",
    "line_start = \"pet_coef\"\n",
    "lst_alpha = []\n",
    "for file in parameter_files_path:\n",
    "    with open(file,'r') as lines:\n",
    "        for line in lines:\n",
    "            if line[:len(line_start)] == line_start:\n",
    "                lst_alpha.append(float(line.strip().split(\"\\t\")[-1]))\n",
    "alpha = np.array(lst_alpha).mean()\n",
    "\n",
    "streamflow_file_path = streamflow_path / f'{folder_id}' / f'{basin_id}_streamflow_qc.txt' "
   ]
  },
  {
   "cell_type": "code",
   "execution_count": 26,
   "id": "4fba23b2-979a-48ef-9a54-012e093deb6f",
   "metadata": {},
   "outputs": [],
   "source": [
    "ds1 = from_camels_txt(basin_mean_forcing_file, basin_id, source, start_date, end_date, out_path, alpha, catchment_char, streamflow_file_path)"
   ]
  },
  {
   "cell_type": "code",
   "execution_count": 35,
   "id": "f4803d19-b512-44c8-b412-11feb75aee20",
   "metadata": {},
   "outputs": [
    {
     "data": {
      "text/html": [
       "<div><svg style=\"position: absolute; width: 0; height: 0; overflow: hidden\">\n",
       "<defs>\n",
       "<symbol id=\"icon-database\" viewBox=\"0 0 32 32\">\n",
       "<path d=\"M16 0c-8.837 0-16 2.239-16 5v4c0 2.761 7.163 5 16 5s16-2.239 16-5v-4c0-2.761-7.163-5-16-5z\"></path>\n",
       "<path d=\"M16 17c-8.837 0-16-2.239-16-5v6c0 2.761 7.163 5 16 5s16-2.239 16-5v-6c0 2.761-7.163 5-16 5z\"></path>\n",
       "<path d=\"M16 26c-8.837 0-16-2.239-16-5v6c0 2.761 7.163 5 16 5s16-2.239 16-5v-6c0 2.761-7.163 5-16 5z\"></path>\n",
       "</symbol>\n",
       "<symbol id=\"icon-file-text2\" viewBox=\"0 0 32 32\">\n",
       "<path d=\"M28.681 7.159c-0.694-0.947-1.662-2.053-2.724-3.116s-2.169-2.030-3.116-2.724c-1.612-1.182-2.393-1.319-2.841-1.319h-15.5c-1.378 0-2.5 1.121-2.5 2.5v27c0 1.378 1.122 2.5 2.5 2.5h23c1.378 0 2.5-1.122 2.5-2.5v-19.5c0-0.448-0.137-1.23-1.319-2.841zM24.543 5.457c0.959 0.959 1.712 1.825 2.268 2.543h-4.811v-4.811c0.718 0.556 1.584 1.309 2.543 2.268zM28 29.5c0 0.271-0.229 0.5-0.5 0.5h-23c-0.271 0-0.5-0.229-0.5-0.5v-27c0-0.271 0.229-0.5 0.5-0.5 0 0 15.499-0 15.5 0v7c0 0.552 0.448 1 1 1h7v19.5z\"></path>\n",
       "<path d=\"M23 26h-14c-0.552 0-1-0.448-1-1s0.448-1 1-1h14c0.552 0 1 0.448 1 1s-0.448 1-1 1z\"></path>\n",
       "<path d=\"M23 22h-14c-0.552 0-1-0.448-1-1s0.448-1 1-1h14c0.552 0 1 0.448 1 1s-0.448 1-1 1z\"></path>\n",
       "<path d=\"M23 18h-14c-0.552 0-1-0.448-1-1s0.448-1 1-1h14c0.552 0 1 0.448 1 1s-0.448 1-1 1z\"></path>\n",
       "</symbol>\n",
       "</defs>\n",
       "</svg>\n",
       "<style>/* CSS stylesheet for displaying xarray objects in jupyterlab.\n",
       " *\n",
       " */\n",
       "\n",
       ":root {\n",
       "  --xr-font-color0: var(--jp-content-font-color0, rgba(0, 0, 0, 1));\n",
       "  --xr-font-color2: var(--jp-content-font-color2, rgba(0, 0, 0, 0.54));\n",
       "  --xr-font-color3: var(--jp-content-font-color3, rgba(0, 0, 0, 0.38));\n",
       "  --xr-border-color: var(--jp-border-color2, #e0e0e0);\n",
       "  --xr-disabled-color: var(--jp-layout-color3, #bdbdbd);\n",
       "  --xr-background-color: var(--jp-layout-color0, white);\n",
       "  --xr-background-color-row-even: var(--jp-layout-color1, white);\n",
       "  --xr-background-color-row-odd: var(--jp-layout-color2, #eeeeee);\n",
       "}\n",
       "\n",
       "html[theme=dark],\n",
       "body[data-theme=dark],\n",
       "body.vscode-dark {\n",
       "  --xr-font-color0: rgba(255, 255, 255, 1);\n",
       "  --xr-font-color2: rgba(255, 255, 255, 0.54);\n",
       "  --xr-font-color3: rgba(255, 255, 255, 0.38);\n",
       "  --xr-border-color: #1F1F1F;\n",
       "  --xr-disabled-color: #515151;\n",
       "  --xr-background-color: #111111;\n",
       "  --xr-background-color-row-even: #111111;\n",
       "  --xr-background-color-row-odd: #313131;\n",
       "}\n",
       "\n",
       ".xr-wrap {\n",
       "  display: block !important;\n",
       "  min-width: 300px;\n",
       "  max-width: 700px;\n",
       "}\n",
       "\n",
       ".xr-text-repr-fallback {\n",
       "  /* fallback to plain text repr when CSS is not injected (untrusted notebook) */\n",
       "  display: none;\n",
       "}\n",
       "\n",
       ".xr-header {\n",
       "  padding-top: 6px;\n",
       "  padding-bottom: 6px;\n",
       "  margin-bottom: 4px;\n",
       "  border-bottom: solid 1px var(--xr-border-color);\n",
       "}\n",
       "\n",
       ".xr-header > div,\n",
       ".xr-header > ul {\n",
       "  display: inline;\n",
       "  margin-top: 0;\n",
       "  margin-bottom: 0;\n",
       "}\n",
       "\n",
       ".xr-obj-type,\n",
       ".xr-array-name {\n",
       "  margin-left: 2px;\n",
       "  margin-right: 10px;\n",
       "}\n",
       "\n",
       ".xr-obj-type {\n",
       "  color: var(--xr-font-color2);\n",
       "}\n",
       "\n",
       ".xr-sections {\n",
       "  padding-left: 0 !important;\n",
       "  display: grid;\n",
       "  grid-template-columns: 150px auto auto 1fr 20px 20px;\n",
       "}\n",
       "\n",
       ".xr-section-item {\n",
       "  display: contents;\n",
       "}\n",
       "\n",
       ".xr-section-item input {\n",
       "  display: none;\n",
       "}\n",
       "\n",
       ".xr-section-item input + label {\n",
       "  color: var(--xr-disabled-color);\n",
       "}\n",
       "\n",
       ".xr-section-item input:enabled + label {\n",
       "  cursor: pointer;\n",
       "  color: var(--xr-font-color2);\n",
       "}\n",
       "\n",
       ".xr-section-item input:enabled + label:hover {\n",
       "  color: var(--xr-font-color0);\n",
       "}\n",
       "\n",
       ".xr-section-summary {\n",
       "  grid-column: 1;\n",
       "  color: var(--xr-font-color2);\n",
       "  font-weight: 500;\n",
       "}\n",
       "\n",
       ".xr-section-summary > span {\n",
       "  display: inline-block;\n",
       "  padding-left: 0.5em;\n",
       "}\n",
       "\n",
       ".xr-section-summary-in:disabled + label {\n",
       "  color: var(--xr-font-color2);\n",
       "}\n",
       "\n",
       ".xr-section-summary-in + label:before {\n",
       "  display: inline-block;\n",
       "  content: '►';\n",
       "  font-size: 11px;\n",
       "  width: 15px;\n",
       "  text-align: center;\n",
       "}\n",
       "\n",
       ".xr-section-summary-in:disabled + label:before {\n",
       "  color: var(--xr-disabled-color);\n",
       "}\n",
       "\n",
       ".xr-section-summary-in:checked + label:before {\n",
       "  content: '▼';\n",
       "}\n",
       "\n",
       ".xr-section-summary-in:checked + label > span {\n",
       "  display: none;\n",
       "}\n",
       "\n",
       ".xr-section-summary,\n",
       ".xr-section-inline-details {\n",
       "  padding-top: 4px;\n",
       "  padding-bottom: 4px;\n",
       "}\n",
       "\n",
       ".xr-section-inline-details {\n",
       "  grid-column: 2 / -1;\n",
       "}\n",
       "\n",
       ".xr-section-details {\n",
       "  display: none;\n",
       "  grid-column: 1 / -1;\n",
       "  margin-bottom: 5px;\n",
       "}\n",
       "\n",
       ".xr-section-summary-in:checked ~ .xr-section-details {\n",
       "  display: contents;\n",
       "}\n",
       "\n",
       ".xr-array-wrap {\n",
       "  grid-column: 1 / -1;\n",
       "  display: grid;\n",
       "  grid-template-columns: 20px auto;\n",
       "}\n",
       "\n",
       ".xr-array-wrap > label {\n",
       "  grid-column: 1;\n",
       "  vertical-align: top;\n",
       "}\n",
       "\n",
       ".xr-preview {\n",
       "  color: var(--xr-font-color3);\n",
       "}\n",
       "\n",
       ".xr-array-preview,\n",
       ".xr-array-data {\n",
       "  padding: 0 5px !important;\n",
       "  grid-column: 2;\n",
       "}\n",
       "\n",
       ".xr-array-data,\n",
       ".xr-array-in:checked ~ .xr-array-preview {\n",
       "  display: none;\n",
       "}\n",
       "\n",
       ".xr-array-in:checked ~ .xr-array-data,\n",
       ".xr-array-preview {\n",
       "  display: inline-block;\n",
       "}\n",
       "\n",
       ".xr-dim-list {\n",
       "  display: inline-block !important;\n",
       "  list-style: none;\n",
       "  padding: 0 !important;\n",
       "  margin: 0;\n",
       "}\n",
       "\n",
       ".xr-dim-list li {\n",
       "  display: inline-block;\n",
       "  padding: 0;\n",
       "  margin: 0;\n",
       "}\n",
       "\n",
       ".xr-dim-list:before {\n",
       "  content: '(';\n",
       "}\n",
       "\n",
       ".xr-dim-list:after {\n",
       "  content: ')';\n",
       "}\n",
       "\n",
       ".xr-dim-list li:not(:last-child):after {\n",
       "  content: ',';\n",
       "  padding-right: 5px;\n",
       "}\n",
       "\n",
       ".xr-has-index {\n",
       "  font-weight: bold;\n",
       "}\n",
       "\n",
       ".xr-var-list,\n",
       ".xr-var-item {\n",
       "  display: contents;\n",
       "}\n",
       "\n",
       ".xr-var-item > div,\n",
       ".xr-var-item label,\n",
       ".xr-var-item > .xr-var-name span {\n",
       "  background-color: var(--xr-background-color-row-even);\n",
       "  margin-bottom: 0;\n",
       "}\n",
       "\n",
       ".xr-var-item > .xr-var-name:hover span {\n",
       "  padding-right: 5px;\n",
       "}\n",
       "\n",
       ".xr-var-list > li:nth-child(odd) > div,\n",
       ".xr-var-list > li:nth-child(odd) > label,\n",
       ".xr-var-list > li:nth-child(odd) > .xr-var-name span {\n",
       "  background-color: var(--xr-background-color-row-odd);\n",
       "}\n",
       "\n",
       ".xr-var-name {\n",
       "  grid-column: 1;\n",
       "}\n",
       "\n",
       ".xr-var-dims {\n",
       "  grid-column: 2;\n",
       "}\n",
       "\n",
       ".xr-var-dtype {\n",
       "  grid-column: 3;\n",
       "  text-align: right;\n",
       "  color: var(--xr-font-color2);\n",
       "}\n",
       "\n",
       ".xr-var-preview {\n",
       "  grid-column: 4;\n",
       "}\n",
       "\n",
       ".xr-index-preview {\n",
       "  grid-column: 2 / 5;\n",
       "  color: var(--xr-font-color2);\n",
       "}\n",
       "\n",
       ".xr-var-name,\n",
       ".xr-var-dims,\n",
       ".xr-var-dtype,\n",
       ".xr-preview,\n",
       ".xr-attrs dt {\n",
       "  white-space: nowrap;\n",
       "  overflow: hidden;\n",
       "  text-overflow: ellipsis;\n",
       "  padding-right: 10px;\n",
       "}\n",
       "\n",
       ".xr-var-name:hover,\n",
       ".xr-var-dims:hover,\n",
       ".xr-var-dtype:hover,\n",
       ".xr-attrs dt:hover {\n",
       "  overflow: visible;\n",
       "  width: auto;\n",
       "  z-index: 1;\n",
       "}\n",
       "\n",
       ".xr-var-attrs,\n",
       ".xr-var-data,\n",
       ".xr-index-data {\n",
       "  display: none;\n",
       "  background-color: var(--xr-background-color) !important;\n",
       "  padding-bottom: 5px !important;\n",
       "}\n",
       "\n",
       ".xr-var-attrs-in:checked ~ .xr-var-attrs,\n",
       ".xr-var-data-in:checked ~ .xr-var-data,\n",
       ".xr-index-data-in:checked ~ .xr-index-data {\n",
       "  display: block;\n",
       "}\n",
       "\n",
       ".xr-var-data > table {\n",
       "  float: right;\n",
       "}\n",
       "\n",
       ".xr-var-name span,\n",
       ".xr-var-data,\n",
       ".xr-index-name div,\n",
       ".xr-index-data,\n",
       ".xr-attrs {\n",
       "  padding-left: 25px !important;\n",
       "}\n",
       "\n",
       ".xr-attrs,\n",
       ".xr-var-attrs,\n",
       ".xr-var-data,\n",
       ".xr-index-data {\n",
       "  grid-column: 1 / -1;\n",
       "}\n",
       "\n",
       "dl.xr-attrs {\n",
       "  padding: 0;\n",
       "  margin: 0;\n",
       "  display: grid;\n",
       "  grid-template-columns: 125px auto;\n",
       "}\n",
       "\n",
       ".xr-attrs dt,\n",
       ".xr-attrs dd {\n",
       "  padding: 0;\n",
       "  margin: 0;\n",
       "  float: left;\n",
       "  padding-right: 10px;\n",
       "  width: auto;\n",
       "}\n",
       "\n",
       ".xr-attrs dt {\n",
       "  font-weight: normal;\n",
       "  grid-column: 1;\n",
       "}\n",
       "\n",
       ".xr-attrs dt:hover span {\n",
       "  display: inline-block;\n",
       "  background: var(--xr-background-color);\n",
       "  padding-right: 10px;\n",
       "}\n",
       "\n",
       ".xr-attrs dd {\n",
       "  grid-column: 2;\n",
       "  white-space: pre-wrap;\n",
       "  word-break: break-all;\n",
       "}\n",
       "\n",
       ".xr-icon-database,\n",
       ".xr-icon-file-text2,\n",
       ".xr-no-icon {\n",
       "  display: inline-block;\n",
       "  vertical-align: middle;\n",
       "  width: 1em;\n",
       "  height: 1.5em !important;\n",
       "  stroke-width: 0;\n",
       "  stroke: currentColor;\n",
       "  fill: currentColor;\n",
       "}\n",
       "</style><pre class='xr-text-repr-fallback'>&lt;xarray.Dataset&gt; Size: 2MB\n",
       "Dimensions:               (time: 12784, data_source: 1, basin_id: 2)\n",
       "Coordinates:\n",
       "  * time                  (time) datetime64[ns] 102kB 1980-01-01 ... 2014-12-31\n",
       "  * data_source           (data_source) |S64 64B b&#x27;daymet&#x27;\n",
       "  * basin_id              (basin_id) |S64 128B b&#x27;01013500&#x27; b&#x27;01134500&#x27;\n",
       "Data variables: (12/69)\n",
       "    dayl                  (basin_id, data_source, time) float64 205kB 3.017e+...\n",
       "    pr                    (basin_id, data_source, time) float64 205kB 0.0 ......\n",
       "    srad                  (basin_id, data_source, time) float64 205kB 153.4 ....\n",
       "    swe                   (basin_id, data_source, time) float64 205kB 0.0 ......\n",
       "    tasmax                (basin_id, data_source, time) float64 205kB -6.54 ....\n",
       "    tasmin                (basin_id, data_source, time) float64 205kB -16.3 ....\n",
       "    ...                    ...\n",
       "    gauge_lat             (basin_id) float64 16B 47.24 44.51\n",
       "    gauge_lon             (basin_id) float64 16B -68.58 -71.84\n",
       "    elev_mean             (basin_id) float64 16B 250.3 450.5\n",
       "    slope_mean            (basin_id) float64 16B 21.64 47.54\n",
       "    area_gages2           (basin_id) float64 16B 2.253e+03 195.1\n",
       "    area_geospa_fabric    (basin_id) float64 16B 2.304e+03 209.5\n",
       "Attributes:\n",
       "    title:            Basin mean forcing data\n",
       "    history:          Created by David Haasnoot for eWatercycle using CAMELS ...\n",
       "    data_source:      CAMELS was compiled by A. Newman et al. `A large-sample...\n",
       "    url_source_data:  https://dx.doi.org/10.5065/D6MW2F4D\n",
       "    units:            daylight(s), precipitation(mm/day), mean radiation(W/m2...\n",
       "    alpha:            1.2617\n",
       "    lat:              44.49\n",
       "    elevation(m):     529.0\n",
       "    area basin(m^2):  194683851.0</pre><div class='xr-wrap' style='display:none'><div class='xr-header'><div class='xr-obj-type'>xarray.Dataset</div></div><ul class='xr-sections'><li class='xr-section-item'><input id='section-01261124-2c13-48b6-9557-2e7826811761' class='xr-section-summary-in' type='checkbox' disabled ><label for='section-01261124-2c13-48b6-9557-2e7826811761' class='xr-section-summary'  title='Expand/collapse section'>Dimensions:</label><div class='xr-section-inline-details'><ul class='xr-dim-list'><li><span class='xr-has-index'>time</span>: 12784</li><li><span class='xr-has-index'>data_source</span>: 1</li><li><span class='xr-has-index'>basin_id</span>: 2</li></ul></div><div class='xr-section-details'></div></li><li class='xr-section-item'><input id='section-3e7c5139-dde1-45f7-a2c8-0e22b64e01e2' class='xr-section-summary-in' type='checkbox'  checked><label for='section-3e7c5139-dde1-45f7-a2c8-0e22b64e01e2' class='xr-section-summary' >Coordinates: <span>(3)</span></label><div class='xr-section-inline-details'></div><div class='xr-section-details'><ul class='xr-var-list'><li class='xr-var-item'><div class='xr-var-name'><span class='xr-has-index'>time</span></div><div class='xr-var-dims'>(time)</div><div class='xr-var-dtype'>datetime64[ns]</div><div class='xr-var-preview xr-preview'>1980-01-01 ... 2014-12-31</div><input id='attrs-7fc9c79b-94ba-4a64-b863-de16d6f69a58' class='xr-var-attrs-in' type='checkbox' disabled><label for='attrs-7fc9c79b-94ba-4a64-b863-de16d6f69a58' title='Show/Hide attributes'><svg class='icon xr-icon-file-text2'><use xlink:href='#icon-file-text2'></use></svg></label><input id='data-d5ebbc55-efe5-43e8-b74b-ba20e3bc9ca5' class='xr-var-data-in' type='checkbox'><label for='data-d5ebbc55-efe5-43e8-b74b-ba20e3bc9ca5' title='Show/Hide data repr'><svg class='icon xr-icon-database'><use xlink:href='#icon-database'></use></svg></label><div class='xr-var-attrs'><dl class='xr-attrs'></dl></div><div class='xr-var-data'><pre>array([&#x27;1980-01-01T00:00:00.000000000&#x27;, &#x27;1980-01-02T00:00:00.000000000&#x27;,\n",
       "       &#x27;1980-01-03T00:00:00.000000000&#x27;, ..., &#x27;2014-12-29T00:00:00.000000000&#x27;,\n",
       "       &#x27;2014-12-30T00:00:00.000000000&#x27;, &#x27;2014-12-31T00:00:00.000000000&#x27;],\n",
       "      dtype=&#x27;datetime64[ns]&#x27;)</pre></div></li><li class='xr-var-item'><div class='xr-var-name'><span class='xr-has-index'>data_source</span></div><div class='xr-var-dims'>(data_source)</div><div class='xr-var-dtype'>|S64</div><div class='xr-var-preview xr-preview'>b&#x27;daymet&#x27;</div><input id='attrs-7b49e8bf-a438-4ad2-bc46-8c2ca2a34814' class='xr-var-attrs-in' type='checkbox' disabled><label for='attrs-7b49e8bf-a438-4ad2-bc46-8c2ca2a34814' title='Show/Hide attributes'><svg class='icon xr-icon-file-text2'><use xlink:href='#icon-file-text2'></use></svg></label><input id='data-626f3a22-bd6c-4fac-853d-77e5e12768ee' class='xr-var-data-in' type='checkbox'><label for='data-626f3a22-bd6c-4fac-853d-77e5e12768ee' title='Show/Hide data repr'><svg class='icon xr-icon-database'><use xlink:href='#icon-database'></use></svg></label><div class='xr-var-attrs'><dl class='xr-attrs'></dl></div><div class='xr-var-data'><pre>array([b&#x27;daymet&#x27;], dtype=&#x27;|S64&#x27;)</pre></div></li><li class='xr-var-item'><div class='xr-var-name'><span class='xr-has-index'>basin_id</span></div><div class='xr-var-dims'>(basin_id)</div><div class='xr-var-dtype'>|S64</div><div class='xr-var-preview xr-preview'>b&#x27;01013500&#x27; b&#x27;01134500&#x27;</div><input id='attrs-46414a36-5ec3-43a7-bb3e-075cd1e3d30f' class='xr-var-attrs-in' type='checkbox' disabled><label for='attrs-46414a36-5ec3-43a7-bb3e-075cd1e3d30f' title='Show/Hide attributes'><svg class='icon xr-icon-file-text2'><use xlink:href='#icon-file-text2'></use></svg></label><input id='data-09fa776d-a998-4321-a834-ef4d1c4056d8' class='xr-var-data-in' type='checkbox'><label for='data-09fa776d-a998-4321-a834-ef4d1c4056d8' title='Show/Hide data repr'><svg class='icon xr-icon-database'><use xlink:href='#icon-database'></use></svg></label><div class='xr-var-attrs'><dl class='xr-attrs'></dl></div><div class='xr-var-data'><pre>array([b&#x27;01013500&#x27;, b&#x27;01134500&#x27;], dtype=&#x27;|S64&#x27;)</pre></div></li></ul></div></li><li class='xr-section-item'><input id='section-09195520-685a-4ed5-8021-c63598d86c81' class='xr-section-summary-in' type='checkbox'  ><label for='section-09195520-685a-4ed5-8021-c63598d86c81' class='xr-section-summary' >Data variables: <span>(69)</span></label><div class='xr-section-inline-details'></div><div class='xr-section-details'><ul class='xr-var-list'><li class='xr-var-item'><div class='xr-var-name'><span>dayl</span></div><div class='xr-var-dims'>(basin_id, data_source, time)</div><div class='xr-var-dtype'>float64</div><div class='xr-var-preview xr-preview'>3.017e+04 3.025e+04 ... 3.131e+04</div><input id='attrs-fcd74551-beff-40f8-8d9f-c0576dc2e0d1' class='xr-var-attrs-in' type='checkbox' disabled><label for='attrs-fcd74551-beff-40f8-8d9f-c0576dc2e0d1' title='Show/Hide attributes'><svg class='icon xr-icon-file-text2'><use xlink:href='#icon-file-text2'></use></svg></label><input id='data-f51a5620-d75b-40f6-b68f-fb392af994e6' class='xr-var-data-in' type='checkbox'><label for='data-f51a5620-d75b-40f6-b68f-fb392af994e6' title='Show/Hide data repr'><svg class='icon xr-icon-database'><use xlink:href='#icon-database'></use></svg></label><div class='xr-var-attrs'><dl class='xr-attrs'></dl></div><div class='xr-var-data'><pre>array([[[30172.51, 30253.1 , 30344.18, ..., 30067.2 , 30067.89,\n",
       "         30107.3 ]],\n",
       "\n",
       "       [[31449.22, 31449.61, 31449.61, ..., 31104.  , 31149.39,\n",
       "         31310.07]]])</pre></div></li><li class='xr-var-item'><div class='xr-var-name'><span>pr</span></div><div class='xr-var-dims'>(basin_id, data_source, time)</div><div class='xr-var-dtype'>float64</div><div class='xr-var-preview xr-preview'>0.0 0.0 0.0 0.0 ... 0.02 0.0 0.0</div><input id='attrs-8726fb7e-096a-4411-a4e8-5994a161424b' class='xr-var-attrs-in' type='checkbox' disabled><label for='attrs-8726fb7e-096a-4411-a4e8-5994a161424b' title='Show/Hide attributes'><svg class='icon xr-icon-file-text2'><use xlink:href='#icon-file-text2'></use></svg></label><input id='data-666a168b-127e-414a-87f1-3162bdf5e129' class='xr-var-data-in' type='checkbox'><label for='data-666a168b-127e-414a-87f1-3162bdf5e129' title='Show/Hide data repr'><svg class='icon xr-icon-database'><use xlink:href='#icon-database'></use></svg></label><div class='xr-var-attrs'><dl class='xr-attrs'></dl></div><div class='xr-var-data'><pre>array([[[0.  , 0.  , 0.  , ..., 0.02, 0.  , 0.  ]],\n",
       "\n",
       "       [[0.  , 0.  , 0.  , ..., 0.02, 0.  , 0.  ]]])</pre></div></li><li class='xr-var-item'><div class='xr-var-name'><span>srad</span></div><div class='xr-var-dims'>(basin_id, data_source, time)</div><div class='xr-var-dtype'>float64</div><div class='xr-var-preview xr-preview'>153.4 145.3 147.0 ... 223.6 193.1</div><input id='attrs-c21d1374-ddf5-4f72-a288-5a4033b26aaf' class='xr-var-attrs-in' type='checkbox' disabled><label for='attrs-c21d1374-ddf5-4f72-a288-5a4033b26aaf' title='Show/Hide attributes'><svg class='icon xr-icon-file-text2'><use xlink:href='#icon-file-text2'></use></svg></label><input id='data-3b2929fa-695c-4d81-a50b-bf7e7ef79bf8' class='xr-var-data-in' type='checkbox'><label for='data-3b2929fa-695c-4d81-a50b-bf7e7ef79bf8' title='Show/Hide data repr'><svg class='icon xr-icon-database'><use xlink:href='#icon-database'></use></svg></label><div class='xr-var-attrs'><dl class='xr-attrs'></dl></div><div class='xr-var-data'><pre>array([[[153.4 , 145.27, 146.96, ..., 193.62, 180.57, 185.32]],\n",
       "\n",
       "       [[191.95, 110.46, 210.1 , ..., 195.08, 223.57, 193.07]]])</pre></div></li><li class='xr-var-item'><div class='xr-var-name'><span>swe</span></div><div class='xr-var-dims'>(basin_id, data_source, time)</div><div class='xr-var-dtype'>float64</div><div class='xr-var-preview xr-preview'>0.0 0.0 0.0 0.0 ... 0.0 0.0 0.0 0.0</div><input id='attrs-c7275445-113d-4db0-828f-98599779aa13' class='xr-var-attrs-in' type='checkbox' disabled><label for='attrs-c7275445-113d-4db0-828f-98599779aa13' title='Show/Hide attributes'><svg class='icon xr-icon-file-text2'><use xlink:href='#icon-file-text2'></use></svg></label><input id='data-ce53abc5-8a0e-47af-b7a2-d5ecd66667ae' class='xr-var-data-in' type='checkbox'><label for='data-ce53abc5-8a0e-47af-b7a2-d5ecd66667ae' title='Show/Hide data repr'><svg class='icon xr-icon-database'><use xlink:href='#icon-database'></use></svg></label><div class='xr-var-attrs'><dl class='xr-attrs'></dl></div><div class='xr-var-data'><pre>array([[[0., 0., 0., ..., 0., 0., 0.]],\n",
       "\n",
       "       [[0., 0., 0., ..., 0., 0., 0.]]])</pre></div></li><li class='xr-var-item'><div class='xr-var-name'><span>tasmax</span></div><div class='xr-var-dims'>(basin_id, data_source, time)</div><div class='xr-var-dtype'>float64</div><div class='xr-var-preview xr-preview'>-6.54 -6.18 -9.89 ... -5.51 -10.84</div><input id='attrs-74d96b21-b485-496c-860f-9f09cd62dd64' class='xr-var-attrs-in' type='checkbox' disabled><label for='attrs-74d96b21-b485-496c-860f-9f09cd62dd64' title='Show/Hide attributes'><svg class='icon xr-icon-file-text2'><use xlink:href='#icon-file-text2'></use></svg></label><input id='data-6d5e952f-fd75-47b3-8605-948b864bb732' class='xr-var-data-in' type='checkbox'><label for='data-6d5e952f-fd75-47b3-8605-948b864bb732' title='Show/Hide data repr'><svg class='icon xr-icon-database'><use xlink:href='#icon-database'></use></svg></label><div class='xr-var-attrs'><dl class='xr-attrs'></dl></div><div class='xr-var-data'><pre>array([[[ -6.54,  -6.18,  -9.89, ...,  -0.76, -13.31, -14.84]],\n",
       "\n",
       "       [[ -4.42,  -3.32,  -4.9 , ...,   2.6 ,  -5.51, -10.84]]])</pre></div></li><li class='xr-var-item'><div class='xr-var-name'><span>tasmin</span></div><div class='xr-var-dims'>(basin_id, data_source, time)</div><div class='xr-var-dtype'>float64</div><div class='xr-var-preview xr-preview'>-16.3 -15.22 ... -17.12 -19.3</div><input id='attrs-c5f63ad4-9c00-40f2-b7c1-e30ad001e0f9' class='xr-var-attrs-in' type='checkbox' disabled><label for='attrs-c5f63ad4-9c00-40f2-b7c1-e30ad001e0f9' title='Show/Hide attributes'><svg class='icon xr-icon-file-text2'><use xlink:href='#icon-file-text2'></use></svg></label><input id='data-e8d5a600-fe85-4e29-b0a1-a01b707416e1' class='xr-var-data-in' type='checkbox'><label for='data-e8d5a600-fe85-4e29-b0a1-a01b707416e1' title='Show/Hide data repr'><svg class='icon xr-icon-database'><use xlink:href='#icon-database'></use></svg></label><div class='xr-var-attrs'><dl class='xr-attrs'></dl></div><div class='xr-var-data'><pre>array([[[-16.3 , -15.22, -18.86, ..., -16.03, -23.54, -25.6 ]],\n",
       "\n",
       "       [[-13.56,  -8.04, -15.39, ...,  -6.48, -17.12, -19.3 ]]])</pre></div></li><li class='xr-var-item'><div class='xr-var-name'><span>vp</span></div><div class='xr-var-dims'>(basin_id, data_source, time)</div><div class='xr-var-dtype'>float64</div><div class='xr-var-preview xr-preview'>171.7 185.9 138.4 ... 158.6 129.5</div><input id='attrs-b3e023a3-1107-4e08-bff0-6788bbca066c' class='xr-var-attrs-in' type='checkbox' disabled><label for='attrs-b3e023a3-1107-4e08-bff0-6788bbca066c' title='Show/Hide attributes'><svg class='icon xr-icon-file-text2'><use xlink:href='#icon-file-text2'></use></svg></label><input id='data-c766db1d-7341-414d-99b1-f7c4dc311b62' class='xr-var-data-in' type='checkbox'><label for='data-c766db1d-7341-414d-99b1-f7c4dc311b62' title='Show/Hide data repr'><svg class='icon xr-icon-database'><use xlink:href='#icon-database'></use></svg></label><div class='xr-var-attrs'><dl class='xr-attrs'></dl></div><div class='xr-var-data'><pre>array([[[171.69, 185.94, 138.39, ..., 175.39,  90.01,  80.  ]],\n",
       "\n",
       "       [[204.18, 334.18, 189.95, ..., 374.66, 158.64, 129.48]]])</pre></div></li><li class='xr-var-item'><div class='xr-var-name'><span>evspsblpot</span></div><div class='xr-var-dims'>(basin_id, data_source, time)</div><div class='xr-var-dtype'>float64</div><div class='xr-var-preview xr-preview'>-0.1135 -0.102 ... -6.771e-05</div><input id='attrs-e4db5b77-65ac-480a-872d-fe80292b7fc0' class='xr-var-attrs-in' type='checkbox' disabled><label for='attrs-e4db5b77-65ac-480a-872d-fe80292b7fc0' title='Show/Hide attributes'><svg class='icon xr-icon-file-text2'><use xlink:href='#icon-file-text2'></use></svg></label><input id='data-8b914f0a-b481-4637-addf-2a56ad55e756' class='xr-var-data-in' type='checkbox'><label for='data-8b914f0a-b481-4637-addf-2a56ad55e756' title='Show/Hide data repr'><svg class='icon xr-icon-database'><use xlink:href='#icon-database'></use></svg></label><div class='xr-var-attrs'><dl class='xr-attrs'></dl></div><div class='xr-var-data'><pre>array([[[-1.13495351e-01, -1.01957807e-01, -6.86716178e-02, ...,\n",
       "         -2.65621661e-01, -8.05813929e-02, -6.60863134e-02]],\n",
       "\n",
       "       [[-2.86770088e-02,  5.57143782e-02, -3.19505178e-02, ...,\n",
       "         -8.80436134e-02, -5.56053151e-02, -6.77086164e-05]]])</pre></div></li><li class='xr-var-item'><div class='xr-var-name'><span>tas</span></div><div class='xr-var-dims'>(basin_id, data_source, time)</div><div class='xr-var-dtype'>float64</div><div class='xr-var-preview xr-preview'>-11.42 -10.7 ... -11.32 -15.07</div><input id='attrs-729e8ed5-19b8-437f-85ba-3f65dc185174' class='xr-var-attrs-in' type='checkbox' disabled><label for='attrs-729e8ed5-19b8-437f-85ba-3f65dc185174' title='Show/Hide attributes'><svg class='icon xr-icon-file-text2'><use xlink:href='#icon-file-text2'></use></svg></label><input id='data-a0b3b2a6-0ebb-4da3-82ea-041d8e1d6321' class='xr-var-data-in' type='checkbox'><label for='data-a0b3b2a6-0ebb-4da3-82ea-041d8e1d6321' title='Show/Hide data repr'><svg class='icon xr-icon-database'><use xlink:href='#icon-database'></use></svg></label><div class='xr-var-attrs'><dl class='xr-attrs'></dl></div><div class='xr-var-data'><pre>array([[[-11.42 , -10.7  , -14.375, ...,  -8.395, -18.425, -20.22 ]],\n",
       "\n",
       "       [[ -8.99 ,  -5.68 , -10.145, ...,  -1.94 , -11.315, -15.07 ]]])</pre></div></li><li class='xr-var-item'><div class='xr-var-name'><span>streamflow</span></div><div class='xr-var-dims'>(basin_id, time)</div><div class='xr-var-dtype'>float64</div><div class='xr-var-preview xr-preview'>0.709 0.6928 0.6766 ... 12.55 12.55</div><input id='attrs-fc8990fa-f97c-4ae4-9297-7f4c53a7bb2a' class='xr-var-attrs-in' type='checkbox' disabled><label for='attrs-fc8990fa-f97c-4ae4-9297-7f4c53a7bb2a' title='Show/Hide attributes'><svg class='icon xr-icon-file-text2'><use xlink:href='#icon-file-text2'></use></svg></label><input id='data-8f6ac330-008f-4923-8d2a-6232e17e268f' class='xr-var-data-in' type='checkbox'><label for='data-8f6ac330-008f-4923-8d2a-6232e17e268f' title='Show/Hide data repr'><svg class='icon xr-icon-database'><use xlink:href='#icon-database'></use></svg></label><div class='xr-var-attrs'><dl class='xr-attrs'></dl></div><div class='xr-var-data'><pre>array([[ 0.70904467,  0.69280701,  0.67656934, ...,         nan,\n",
       "                nan,         nan],\n",
       "       [ 1.05562092,  0.92995176,  0.80428261, ..., 12.5543488 ,\n",
       "        12.5543488 , 12.5543488 ]])</pre></div></li><li class='xr-var-item'><div class='xr-var-name'><span>geol_1st_class</span></div><div class='xr-var-dims'>(basin_id)</div><div class='xr-var-dtype'>object</div><div class='xr-var-preview xr-preview'>&#x27;Siliciclastic sedimentary rocks...</div><input id='attrs-93813d28-b6f7-496e-aee6-62476960382c' class='xr-var-attrs-in' type='checkbox' disabled><label for='attrs-93813d28-b6f7-496e-aee6-62476960382c' title='Show/Hide attributes'><svg class='icon xr-icon-file-text2'><use xlink:href='#icon-file-text2'></use></svg></label><input id='data-6fe29b58-46cc-4225-b94b-faf712f52c9f' class='xr-var-data-in' type='checkbox'><label for='data-6fe29b58-46cc-4225-b94b-faf712f52c9f' title='Show/Hide data repr'><svg class='icon xr-icon-database'><use xlink:href='#icon-database'></use></svg></label><div class='xr-var-attrs'><dl class='xr-attrs'></dl></div><div class='xr-var-data'><pre>array([&#x27;Siliciclastic sedimentary rocks&#x27;, &#x27;Metamorphics&#x27;], dtype=object)</pre></div></li><li class='xr-var-item'><div class='xr-var-name'><span>glim_1st_class_frac</span></div><div class='xr-var-dims'>(basin_id)</div><div class='xr-var-dtype'>float64</div><div class='xr-var-preview xr-preview'>0.8159 0.6224</div><input id='attrs-ab4903a2-af25-40b0-b19d-4cce02b783a4' class='xr-var-attrs-in' type='checkbox' disabled><label for='attrs-ab4903a2-af25-40b0-b19d-4cce02b783a4' title='Show/Hide attributes'><svg class='icon xr-icon-file-text2'><use xlink:href='#icon-file-text2'></use></svg></label><input id='data-0c7c6ec5-b530-43d1-95e0-a1845ea1d6a2' class='xr-var-data-in' type='checkbox'><label for='data-0c7c6ec5-b530-43d1-95e0-a1845ea1d6a2' title='Show/Hide data repr'><svg class='icon xr-icon-database'><use xlink:href='#icon-database'></use></svg></label><div class='xr-var-attrs'><dl class='xr-attrs'></dl></div><div class='xr-var-data'><pre>array([0.81590445, 0.62242064])</pre></div></li><li class='xr-var-item'><div class='xr-var-name'><span>geol_2nd_class</span></div><div class='xr-var-dims'>(basin_id)</div><div class='xr-var-dtype'>object</div><div class='xr-var-preview xr-preview'>&#x27;Basic volcanic rocks&#x27; &#x27;Acid plu...</div><input id='attrs-3b077258-e416-48ac-9101-bbd34d9c3878' class='xr-var-attrs-in' type='checkbox' disabled><label for='attrs-3b077258-e416-48ac-9101-bbd34d9c3878' title='Show/Hide attributes'><svg class='icon xr-icon-file-text2'><use xlink:href='#icon-file-text2'></use></svg></label><input id='data-8e0856bd-bc7a-40eb-abad-64c2b45bbeab' class='xr-var-data-in' type='checkbox'><label for='data-8e0856bd-bc7a-40eb-abad-64c2b45bbeab' title='Show/Hide data repr'><svg class='icon xr-icon-database'><use xlink:href='#icon-database'></use></svg></label><div class='xr-var-attrs'><dl class='xr-attrs'></dl></div><div class='xr-var-data'><pre>array([&#x27;Basic volcanic rocks&#x27;, &#x27;Acid plutonic rocks&#x27;], dtype=object)</pre></div></li><li class='xr-var-item'><div class='xr-var-name'><span>glim_2nd_class_frac</span></div><div class='xr-var-dims'>(basin_id)</div><div class='xr-var-dtype'>float64</div><div class='xr-var-preview xr-preview'>0.1797 0.3693</div><input id='attrs-1476ebfd-d3b1-494f-8f43-4186d53fa89a' class='xr-var-attrs-in' type='checkbox' disabled><label for='attrs-1476ebfd-d3b1-494f-8f43-4186d53fa89a' title='Show/Hide attributes'><svg class='icon xr-icon-file-text2'><use xlink:href='#icon-file-text2'></use></svg></label><input id='data-9a44892b-4f87-43a4-96fc-7d14c911bbc8' class='xr-var-data-in' type='checkbox'><label for='data-9a44892b-4f87-43a4-96fc-7d14c911bbc8' title='Show/Hide data repr'><svg class='icon xr-icon-database'><use xlink:href='#icon-database'></use></svg></label><div class='xr-var-attrs'><dl class='xr-attrs'></dl></div><div class='xr-var-data'><pre>array([0.17972945, 0.3693336 ])</pre></div></li><li class='xr-var-item'><div class='xr-var-name'><span>carbonate_rocks_frac</span></div><div class='xr-var-dims'>(basin_id)</div><div class='xr-var-dtype'>float64</div><div class='xr-var-preview xr-preview'>0.0 0.0</div><input id='attrs-20a32da2-a503-4510-8aff-fdcc0b37514a' class='xr-var-attrs-in' type='checkbox' disabled><label for='attrs-20a32da2-a503-4510-8aff-fdcc0b37514a' title='Show/Hide attributes'><svg class='icon xr-icon-file-text2'><use xlink:href='#icon-file-text2'></use></svg></label><input id='data-bcd3c60e-01ad-43a0-b68b-56c57a0e7b59' class='xr-var-data-in' type='checkbox'><label for='data-bcd3c60e-01ad-43a0-b68b-56c57a0e7b59' title='Show/Hide data repr'><svg class='icon xr-icon-database'><use xlink:href='#icon-database'></use></svg></label><div class='xr-var-attrs'><dl class='xr-attrs'></dl></div><div class='xr-var-data'><pre>array([0., 0.])</pre></div></li><li class='xr-var-item'><div class='xr-var-name'><span>geol_porostiy</span></div><div class='xr-var-dims'>(basin_id)</div><div class='xr-var-dtype'>float64</div><div class='xr-var-preview xr-preview'>0.1714 0.0109</div><input id='attrs-0b833d07-65b5-4036-b5c1-1297e9608c7b' class='xr-var-attrs-in' type='checkbox' disabled><label for='attrs-0b833d07-65b5-4036-b5c1-1297e9608c7b' title='Show/Hide attributes'><svg class='icon xr-icon-file-text2'><use xlink:href='#icon-file-text2'></use></svg></label><input id='data-35ce68d1-3508-4d21-a687-9e041dd9948e' class='xr-var-data-in' type='checkbox'><label for='data-35ce68d1-3508-4d21-a687-9e041dd9948e' title='Show/Hide data repr'><svg class='icon xr-icon-database'><use xlink:href='#icon-database'></use></svg></label><div class='xr-var-attrs'><dl class='xr-attrs'></dl></div><div class='xr-var-data'><pre>array([0.1714, 0.0109])</pre></div></li><li class='xr-var-item'><div class='xr-var-name'><span>geol_permeability</span></div><div class='xr-var-dims'>(basin_id)</div><div class='xr-var-dtype'>float64</div><div class='xr-var-preview xr-preview'>-14.7 -14.12</div><input id='attrs-a7f25b05-4587-4a19-82a9-e7c0e8a8178e' class='xr-var-attrs-in' type='checkbox' disabled><label for='attrs-a7f25b05-4587-4a19-82a9-e7c0e8a8178e' title='Show/Hide attributes'><svg class='icon xr-icon-file-text2'><use xlink:href='#icon-file-text2'></use></svg></label><input id='data-0dd123f0-05a6-496f-aa58-a2036986dfa5' class='xr-var-data-in' type='checkbox'><label for='data-0dd123f0-05a6-496f-aa58-a2036986dfa5' title='Show/Hide data repr'><svg class='icon xr-icon-database'><use xlink:href='#icon-database'></use></svg></label><div class='xr-var-attrs'><dl class='xr-attrs'></dl></div><div class='xr-var-data'><pre>array([-14.7019, -14.1198])</pre></div></li><li class='xr-var-item'><div class='xr-var-name'><span>p_mean</span></div><div class='xr-var-dims'>(basin_id)</div><div class='xr-var-dtype'>float64</div><div class='xr-var-preview xr-preview'>3.127 3.467</div><input id='attrs-4e2779df-53bd-4e26-baf5-2c2bb402d6a2' class='xr-var-attrs-in' type='checkbox' disabled><label for='attrs-4e2779df-53bd-4e26-baf5-2c2bb402d6a2' title='Show/Hide attributes'><svg class='icon xr-icon-file-text2'><use xlink:href='#icon-file-text2'></use></svg></label><input id='data-6ea2f0de-fa59-48d2-8ce2-843f41e36141' class='xr-var-data-in' type='checkbox'><label for='data-6ea2f0de-fa59-48d2-8ce2-843f41e36141' title='Show/Hide data repr'><svg class='icon xr-icon-database'><use xlink:href='#icon-database'></use></svg></label><div class='xr-var-attrs'><dl class='xr-attrs'></dl></div><div class='xr-var-data'><pre>array([3.12667899, 3.46741273])</pre></div></li><li class='xr-var-item'><div class='xr-var-name'><span>pet_mean</span></div><div class='xr-var-dims'>(basin_id)</div><div class='xr-var-dtype'>float64</div><div class='xr-var-preview xr-preview'>1.972 2.092</div><input id='attrs-07b3e7f2-01f6-491d-8da6-5fbbfb26b017' class='xr-var-attrs-in' type='checkbox' disabled><label for='attrs-07b3e7f2-01f6-491d-8da6-5fbbfb26b017' title='Show/Hide attributes'><svg class='icon xr-icon-file-text2'><use xlink:href='#icon-file-text2'></use></svg></label><input id='data-15b404b9-8067-46ab-a041-63bb9cff64dd' class='xr-var-data-in' type='checkbox'><label for='data-15b404b9-8067-46ab-a041-63bb9cff64dd' title='Show/Hide data repr'><svg class='icon xr-icon-database'><use xlink:href='#icon-database'></use></svg></label><div class='xr-var-attrs'><dl class='xr-attrs'></dl></div><div class='xr-var-data'><pre>array([1.97155451, 2.09169808])</pre></div></li><li class='xr-var-item'><div class='xr-var-name'><span>p_seasonality</span></div><div class='xr-var-dims'>(basin_id)</div><div class='xr-var-dtype'>float64</div><div class='xr-var-preview xr-preview'>0.1879 0.2287</div><input id='attrs-56201121-80d5-464e-94c9-20dc3f09d33b' class='xr-var-attrs-in' type='checkbox' disabled><label for='attrs-56201121-80d5-464e-94c9-20dc3f09d33b' title='Show/Hide attributes'><svg class='icon xr-icon-file-text2'><use xlink:href='#icon-file-text2'></use></svg></label><input id='data-0285948d-8df1-4426-ad1a-fa2fdb9580a9' class='xr-var-data-in' type='checkbox'><label for='data-0285948d-8df1-4426-ad1a-fa2fdb9580a9' title='Show/Hide data repr'><svg class='icon xr-icon-database'><use xlink:href='#icon-database'></use></svg></label><div class='xr-var-attrs'><dl class='xr-attrs'></dl></div><div class='xr-var-data'><pre>array([0.18794026, 0.22867235])</pre></div></li><li class='xr-var-item'><div class='xr-var-name'><span>frac_snow</span></div><div class='xr-var-dims'>(basin_id)</div><div class='xr-var-dtype'>float64</div><div class='xr-var-preview xr-preview'>0.3134 0.2806</div><input id='attrs-813b0b06-0931-4fbd-93e5-1e5c044c0c96' class='xr-var-attrs-in' type='checkbox' disabled><label for='attrs-813b0b06-0931-4fbd-93e5-1e5c044c0c96' title='Show/Hide attributes'><svg class='icon xr-icon-file-text2'><use xlink:href='#icon-file-text2'></use></svg></label><input id='data-3a3430c7-6e72-4e24-8f37-e69f4dcc1fad' class='xr-var-data-in' type='checkbox'><label for='data-3a3430c7-6e72-4e24-8f37-e69f4dcc1fad' title='Show/Hide data repr'><svg class='icon xr-icon-database'><use xlink:href='#icon-database'></use></svg></label><div class='xr-var-attrs'><dl class='xr-attrs'></dl></div><div class='xr-var-data'><pre>array([0.31344036, 0.28058209])</pre></div></li><li class='xr-var-item'><div class='xr-var-name'><span>aridity</span></div><div class='xr-var-dims'>(basin_id)</div><div class='xr-var-dtype'>float64</div><div class='xr-var-preview xr-preview'>0.6306 0.6032</div><input id='attrs-26829afd-aa80-4402-ac5c-601467f8bcc5' class='xr-var-attrs-in' type='checkbox' disabled><label for='attrs-26829afd-aa80-4402-ac5c-601467f8bcc5' title='Show/Hide attributes'><svg class='icon xr-icon-file-text2'><use xlink:href='#icon-file-text2'></use></svg></label><input id='data-1d5520b1-8e97-4cd8-b1e7-6fd559a3548a' class='xr-var-data-in' type='checkbox'><label for='data-1d5520b1-8e97-4cd8-b1e7-6fd559a3548a' title='Show/Hide data repr'><svg class='icon xr-icon-database'><use xlink:href='#icon-database'></use></svg></label><div class='xr-var-attrs'><dl class='xr-attrs'></dl></div><div class='xr-var-data'><pre>array([0.63055866, 0.60324462])</pre></div></li><li class='xr-var-item'><div class='xr-var-name'><span>high_prec_freq</span></div><div class='xr-var-dims'>(basin_id)</div><div class='xr-var-dtype'>float64</div><div class='xr-var-preview xr-preview'>12.95 15.85</div><input id='attrs-15b3be32-797d-44df-9723-eccfa0520809' class='xr-var-attrs-in' type='checkbox' disabled><label for='attrs-15b3be32-797d-44df-9723-eccfa0520809' title='Show/Hide attributes'><svg class='icon xr-icon-file-text2'><use xlink:href='#icon-file-text2'></use></svg></label><input id='data-1f81a07f-f25b-410c-b1e2-7cbcca32d4c5' class='xr-var-data-in' type='checkbox'><label for='data-1f81a07f-f25b-410c-b1e2-7cbcca32d4c5' title='Show/Hide data repr'><svg class='icon xr-icon-database'><use xlink:href='#icon-database'></use></svg></label><div class='xr-var-attrs'><dl class='xr-attrs'></dl></div><div class='xr-var-data'><pre>array([12.95, 15.85])</pre></div></li><li class='xr-var-item'><div class='xr-var-name'><span>high_prec_dur</span></div><div class='xr-var-dims'>(basin_id)</div><div class='xr-var-dtype'>float64</div><div class='xr-var-preview xr-preview'>1.349 1.153</div><input id='attrs-5e36648b-31fa-4f58-bbcb-e6657aa0dfaa' class='xr-var-attrs-in' type='checkbox' disabled><label for='attrs-5e36648b-31fa-4f58-bbcb-e6657aa0dfaa' title='Show/Hide attributes'><svg class='icon xr-icon-file-text2'><use xlink:href='#icon-file-text2'></use></svg></label><input id='data-db48e8cb-87cd-46fa-b6d3-ce7cf36f0f7a' class='xr-var-data-in' type='checkbox'><label for='data-db48e8cb-87cd-46fa-b6d3-ce7cf36f0f7a' title='Show/Hide data repr'><svg class='icon xr-icon-database'><use xlink:href='#icon-database'></use></svg></label><div class='xr-var-attrs'><dl class='xr-attrs'></dl></div><div class='xr-var-data'><pre>array([1.34895833, 1.15272727])</pre></div></li><li class='xr-var-item'><div class='xr-var-name'><span>high_prec_timing</span></div><div class='xr-var-dims'>(basin_id)</div><div class='xr-var-dtype'>object</div><div class='xr-var-preview xr-preview'>&#x27;son&#x27; &#x27;jja&#x27;</div><input id='attrs-bd77c1ee-1943-4b31-92ec-67eb0946f924' class='xr-var-attrs-in' type='checkbox' disabled><label for='attrs-bd77c1ee-1943-4b31-92ec-67eb0946f924' title='Show/Hide attributes'><svg class='icon xr-icon-file-text2'><use xlink:href='#icon-file-text2'></use></svg></label><input id='data-794c0fc2-01fd-4f76-bd54-a3f5ca8d6c9c' class='xr-var-data-in' type='checkbox'><label for='data-794c0fc2-01fd-4f76-bd54-a3f5ca8d6c9c' title='Show/Hide data repr'><svg class='icon xr-icon-database'><use xlink:href='#icon-database'></use></svg></label><div class='xr-var-attrs'><dl class='xr-attrs'></dl></div><div class='xr-var-data'><pre>array([&#x27;son&#x27;, &#x27;jja&#x27;], dtype=object)</pre></div></li><li class='xr-var-item'><div class='xr-var-name'><span>low_prec_freq</span></div><div class='xr-var-dims'>(basin_id)</div><div class='xr-var-dtype'>float64</div><div class='xr-var-preview xr-preview'>202.2 201.1</div><input id='attrs-b4254d4f-76ea-4c5e-ba64-2e8d0a882f3f' class='xr-var-attrs-in' type='checkbox' disabled><label for='attrs-b4254d4f-76ea-4c5e-ba64-2e8d0a882f3f' title='Show/Hide attributes'><svg class='icon xr-icon-file-text2'><use xlink:href='#icon-file-text2'></use></svg></label><input id='data-e0203be1-edac-4779-b794-e16d411574e3' class='xr-var-data-in' type='checkbox'><label for='data-e0203be1-edac-4779-b794-e16d411574e3' title='Show/Hide data repr'><svg class='icon xr-icon-database'><use xlink:href='#icon-database'></use></svg></label><div class='xr-var-attrs'><dl class='xr-attrs'></dl></div><div class='xr-var-data'><pre>array([202.2, 201.1])</pre></div></li><li class='xr-var-item'><div class='xr-var-name'><span>low_prec_dur</span></div><div class='xr-var-dims'>(basin_id)</div><div class='xr-var-dtype'>float64</div><div class='xr-var-preview xr-preview'>3.427 2.842</div><input id='attrs-4017067e-b538-482f-bb00-98ebd7ddd29e' class='xr-var-attrs-in' type='checkbox' disabled><label for='attrs-4017067e-b538-482f-bb00-98ebd7ddd29e' title='Show/Hide attributes'><svg class='icon xr-icon-file-text2'><use xlink:href='#icon-file-text2'></use></svg></label><input id='data-0a5e43ae-445f-4b23-9cad-ab865f30c141' class='xr-var-data-in' type='checkbox'><label for='data-0a5e43ae-445f-4b23-9cad-ab865f30c141' title='Show/Hide data repr'><svg class='icon xr-icon-database'><use xlink:href='#icon-database'></use></svg></label><div class='xr-var-attrs'><dl class='xr-attrs'></dl></div><div class='xr-var-data'><pre>array([3.42711864, 2.84240283])</pre></div></li><li class='xr-var-item'><div class='xr-var-name'><span>low_prec_timing</span></div><div class='xr-var-dims'>(basin_id)</div><div class='xr-var-dtype'>object</div><div class='xr-var-preview xr-preview'>&#x27;mam&#x27; &#x27;mam&#x27;</div><input id='attrs-b8d3527f-f260-4ac4-a97e-5f4a41128512' class='xr-var-attrs-in' type='checkbox' disabled><label for='attrs-b8d3527f-f260-4ac4-a97e-5f4a41128512' title='Show/Hide attributes'><svg class='icon xr-icon-file-text2'><use xlink:href='#icon-file-text2'></use></svg></label><input id='data-1873a978-a0ee-45c5-b416-3d75e6a0685d' class='xr-var-data-in' type='checkbox'><label for='data-1873a978-a0ee-45c5-b416-3d75e6a0685d' title='Show/Hide data repr'><svg class='icon xr-icon-database'><use xlink:href='#icon-database'></use></svg></label><div class='xr-var-attrs'><dl class='xr-attrs'></dl></div><div class='xr-var-data'><pre>array([&#x27;mam&#x27;, &#x27;mam&#x27;], dtype=object)</pre></div></li><li class='xr-var-item'><div class='xr-var-name'><span>q_mean</span></div><div class='xr-var-dims'>(basin_id)</div><div class='xr-var-dtype'>float64</div><div class='xr-var-preview xr-preview'>1.699 2.078</div><input id='attrs-1b6a5cf2-f0a9-434a-bd2b-9c08405adc6e' class='xr-var-attrs-in' type='checkbox' disabled><label for='attrs-1b6a5cf2-f0a9-434a-bd2b-9c08405adc6e' title='Show/Hide attributes'><svg class='icon xr-icon-file-text2'><use xlink:href='#icon-file-text2'></use></svg></label><input id='data-4ae58c92-0ba9-4910-a818-5d5670ef508b' class='xr-var-data-in' type='checkbox'><label for='data-4ae58c92-0ba9-4910-a818-5d5670ef508b' title='Show/Hide data repr'><svg class='icon xr-icon-database'><use xlink:href='#icon-database'></use></svg></label><div class='xr-var-attrs'><dl class='xr-attrs'></dl></div><div class='xr-var-data'><pre>array([1.69915451, 2.07757924])</pre></div></li><li class='xr-var-item'><div class='xr-var-name'><span>runoff_ratio</span></div><div class='xr-var-dims'>(basin_id)</div><div class='xr-var-dtype'>float64</div><div class='xr-var-preview xr-preview'>0.5434 0.5992</div><input id='attrs-6fd424b3-7460-448d-8294-41734508a664' class='xr-var-attrs-in' type='checkbox' disabled><label for='attrs-6fd424b3-7460-448d-8294-41734508a664' title='Show/Hide attributes'><svg class='icon xr-icon-file-text2'><use xlink:href='#icon-file-text2'></use></svg></label><input id='data-c3ad3610-9045-436f-869d-b1b1318f43de' class='xr-var-data-in' type='checkbox'><label for='data-c3ad3610-9045-436f-869d-b1b1318f43de' title='Show/Hide data repr'><svg class='icon xr-icon-database'><use xlink:href='#icon-database'></use></svg></label><div class='xr-var-attrs'><dl class='xr-attrs'></dl></div><div class='xr-var-data'><pre>array([0.54343747, 0.59917275])</pre></div></li><li class='xr-var-item'><div class='xr-var-name'><span>slope_fdc</span></div><div class='xr-var-dims'>(basin_id)</div><div class='xr-var-dtype'>float64</div><div class='xr-var-preview xr-preview'>1.528 1.408</div><input id='attrs-f0b908ff-62be-49fa-a123-a10b16e73dcb' class='xr-var-attrs-in' type='checkbox' disabled><label for='attrs-f0b908ff-62be-49fa-a123-a10b16e73dcb' title='Show/Hide attributes'><svg class='icon xr-icon-file-text2'><use xlink:href='#icon-file-text2'></use></svg></label><input id='data-4b954ae5-ff74-48de-b7c3-dd5afe7c58b6' class='xr-var-data-in' type='checkbox'><label for='data-4b954ae5-ff74-48de-b7c3-dd5afe7c58b6' title='Show/Hide data repr'><svg class='icon xr-icon-database'><use xlink:href='#icon-database'></use></svg></label><div class='xr-var-attrs'><dl class='xr-attrs'></dl></div><div class='xr-var-data'><pre>array([1.52821854, 1.40816574])</pre></div></li><li class='xr-var-item'><div class='xr-var-name'><span>baseflow_index</span></div><div class='xr-var-dims'>(basin_id)</div><div class='xr-var-dtype'>float64</div><div class='xr-var-preview xr-preview'>0.5852 0.4876</div><input id='attrs-71f3f8fa-9475-4caa-bdc0-693c1888c977' class='xr-var-attrs-in' type='checkbox' disabled><label for='attrs-71f3f8fa-9475-4caa-bdc0-693c1888c977' title='Show/Hide attributes'><svg class='icon xr-icon-file-text2'><use xlink:href='#icon-file-text2'></use></svg></label><input id='data-d3d9155a-1860-40d5-8290-e27aa842de56' class='xr-var-data-in' type='checkbox'><label for='data-d3d9155a-1860-40d5-8290-e27aa842de56' title='Show/Hide data repr'><svg class='icon xr-icon-database'><use xlink:href='#icon-database'></use></svg></label><div class='xr-var-attrs'><dl class='xr-attrs'></dl></div><div class='xr-var-data'><pre>array([0.58522596, 0.48759832])</pre></div></li><li class='xr-var-item'><div class='xr-var-name'><span>stream_elas</span></div><div class='xr-var-dims'>(basin_id)</div><div class='xr-var-dtype'>float64</div><div class='xr-var-preview xr-preview'>1.845 1.108</div><input id='attrs-869c090b-4d46-4ea6-8e48-75e2ee4ccdad' class='xr-var-attrs-in' type='checkbox' disabled><label for='attrs-869c090b-4d46-4ea6-8e48-75e2ee4ccdad' title='Show/Hide attributes'><svg class='icon xr-icon-file-text2'><use xlink:href='#icon-file-text2'></use></svg></label><input id='data-8dc03577-9b29-40e3-823d-71e4251d3018' class='xr-var-data-in' type='checkbox'><label for='data-8dc03577-9b29-40e3-823d-71e4251d3018' title='Show/Hide data repr'><svg class='icon xr-icon-database'><use xlink:href='#icon-database'></use></svg></label><div class='xr-var-attrs'><dl class='xr-attrs'></dl></div><div class='xr-var-data'><pre>array([1.84532416, 1.10787465])</pre></div></li><li class='xr-var-item'><div class='xr-var-name'><span>q5</span></div><div class='xr-var-dims'>(basin_id)</div><div class='xr-var-dtype'>float64</div><div class='xr-var-preview xr-preview'>0.2411 0.2382</div><input id='attrs-9f218a04-411d-4332-b180-5a98a4953caf' class='xr-var-attrs-in' type='checkbox' disabled><label for='attrs-9f218a04-411d-4332-b180-5a98a4953caf' title='Show/Hide attributes'><svg class='icon xr-icon-file-text2'><use xlink:href='#icon-file-text2'></use></svg></label><input id='data-da752b32-72ca-4217-8212-d66692b7f4b8' class='xr-var-data-in' type='checkbox'><label for='data-da752b32-72ca-4217-8212-d66692b7f4b8' title='Show/Hide data repr'><svg class='icon xr-icon-database'><use xlink:href='#icon-database'></use></svg></label><div class='xr-var-attrs'><dl class='xr-attrs'></dl></div><div class='xr-var-data'><pre>array([0.24110613, 0.23822547])</pre></div></li><li class='xr-var-item'><div class='xr-var-name'><span>q95</span></div><div class='xr-var-dims'>(basin_id)</div><div class='xr-var-dtype'>float64</div><div class='xr-var-preview xr-preview'>6.373 7.097</div><input id='attrs-9fa9380c-3b3e-46e5-a6b6-2b55bcb43007' class='xr-var-attrs-in' type='checkbox' disabled><label for='attrs-9fa9380c-3b3e-46e5-a6b6-2b55bcb43007' title='Show/Hide attributes'><svg class='icon xr-icon-file-text2'><use xlink:href='#icon-file-text2'></use></svg></label><input id='data-f61f2205-d162-406a-9249-163163b804cb' class='xr-var-data-in' type='checkbox'><label for='data-f61f2205-d162-406a-9249-163163b804cb' title='Show/Hide data repr'><svg class='icon xr-icon-database'><use xlink:href='#icon-database'></use></svg></label><div class='xr-var-attrs'><dl class='xr-attrs'></dl></div><div class='xr-var-data'><pre>array([6.3730214 , 7.09661128])</pre></div></li><li class='xr-var-item'><div class='xr-var-name'><span>high_q_freq</span></div><div class='xr-var-dims'>(basin_id)</div><div class='xr-var-dtype'>float64</div><div class='xr-var-preview xr-preview'>6.1 9.05</div><input id='attrs-ab4690f8-d40e-403c-b593-f7ea91c3ca39' class='xr-var-attrs-in' type='checkbox' disabled><label for='attrs-ab4690f8-d40e-403c-b593-f7ea91c3ca39' title='Show/Hide attributes'><svg class='icon xr-icon-file-text2'><use xlink:href='#icon-file-text2'></use></svg></label><input id='data-c28090ca-4079-442c-a779-089b150a81a6' class='xr-var-data-in' type='checkbox'><label for='data-c28090ca-4079-442c-a779-089b150a81a6' title='Show/Hide data repr'><svg class='icon xr-icon-database'><use xlink:href='#icon-database'></use></svg></label><div class='xr-var-attrs'><dl class='xr-attrs'></dl></div><div class='xr-var-data'><pre>array([6.1 , 9.05])</pre></div></li><li class='xr-var-item'><div class='xr-var-name'><span>high_q_dur</span></div><div class='xr-var-dims'>(basin_id)</div><div class='xr-var-dtype'>float64</div><div class='xr-var-preview xr-preview'>8.714 2.155</div><input id='attrs-027fe2a7-882b-4f8f-b0da-8188e9671174' class='xr-var-attrs-in' type='checkbox' disabled><label for='attrs-027fe2a7-882b-4f8f-b0da-8188e9671174' title='Show/Hide attributes'><svg class='icon xr-icon-file-text2'><use xlink:href='#icon-file-text2'></use></svg></label><input id='data-cb3b651e-e563-449b-a3e8-72c6a921acfd' class='xr-var-data-in' type='checkbox'><label for='data-cb3b651e-e563-449b-a3e8-72c6a921acfd' title='Show/Hide data repr'><svg class='icon xr-icon-database'><use xlink:href='#icon-database'></use></svg></label><div class='xr-var-attrs'><dl class='xr-attrs'></dl></div><div class='xr-var-data'><pre>array([8.71428571, 2.1547619 ])</pre></div></li><li class='xr-var-item'><div class='xr-var-name'><span>low_q_freq</span></div><div class='xr-var-dims'>(basin_id)</div><div class='xr-var-dtype'>float64</div><div class='xr-var-preview xr-preview'>41.35 46.15</div><input id='attrs-76cb94a0-5973-44db-948f-f7c5fe528318' class='xr-var-attrs-in' type='checkbox' disabled><label for='attrs-76cb94a0-5973-44db-948f-f7c5fe528318' title='Show/Hide attributes'><svg class='icon xr-icon-file-text2'><use xlink:href='#icon-file-text2'></use></svg></label><input id='data-dcaab107-e672-4275-b442-163f2a723490' class='xr-var-data-in' type='checkbox'><label for='data-dcaab107-e672-4275-b442-163f2a723490' title='Show/Hide data repr'><svg class='icon xr-icon-database'><use xlink:href='#icon-database'></use></svg></label><div class='xr-var-attrs'><dl class='xr-attrs'></dl></div><div class='xr-var-data'><pre>array([41.35, 46.15])</pre></div></li><li class='xr-var-item'><div class='xr-var-name'><span>low_q_dur</span></div><div class='xr-var-dims'>(basin_id)</div><div class='xr-var-dtype'>float64</div><div class='xr-var-preview xr-preview'>20.17 6.888</div><input id='attrs-d0f1d58a-f2a5-44d2-aed5-5c79fa9dcfda' class='xr-var-attrs-in' type='checkbox' disabled><label for='attrs-d0f1d58a-f2a5-44d2-aed5-5c79fa9dcfda' title='Show/Hide attributes'><svg class='icon xr-icon-file-text2'><use xlink:href='#icon-file-text2'></use></svg></label><input id='data-78ef54ab-0c78-47ef-90f9-fc9259f87583' class='xr-var-data-in' type='checkbox'><label for='data-78ef54ab-0c78-47ef-90f9-fc9259f87583' title='Show/Hide data repr'><svg class='icon xr-icon-database'><use xlink:href='#icon-database'></use></svg></label><div class='xr-var-attrs'><dl class='xr-attrs'></dl></div><div class='xr-var-data'><pre>array([20.17073171,  6.8880597 ])</pre></div></li><li class='xr-var-item'><div class='xr-var-name'><span>zero_q_freq</span></div><div class='xr-var-dims'>(basin_id)</div><div class='xr-var-dtype'>float64</div><div class='xr-var-preview xr-preview'>0.0 0.0</div><input id='attrs-68303731-25e4-41de-b6b6-855fc4bfd00b' class='xr-var-attrs-in' type='checkbox' disabled><label for='attrs-68303731-25e4-41de-b6b6-855fc4bfd00b' title='Show/Hide attributes'><svg class='icon xr-icon-file-text2'><use xlink:href='#icon-file-text2'></use></svg></label><input id='data-f30d7980-1faa-40d2-b8ca-d4f44ef3635e' class='xr-var-data-in' type='checkbox'><label for='data-f30d7980-1faa-40d2-b8ca-d4f44ef3635e' title='Show/Hide data repr'><svg class='icon xr-icon-database'><use xlink:href='#icon-database'></use></svg></label><div class='xr-var-attrs'><dl class='xr-attrs'></dl></div><div class='xr-var-data'><pre>array([0., 0.])</pre></div></li><li class='xr-var-item'><div class='xr-var-name'><span>hfd_mean</span></div><div class='xr-var-dims'>(basin_id)</div><div class='xr-var-dtype'>float64</div><div class='xr-var-preview xr-preview'>207.2 187.6</div><input id='attrs-88ccca2d-10fc-4f1c-8d00-b305a29b177a' class='xr-var-attrs-in' type='checkbox' disabled><label for='attrs-88ccca2d-10fc-4f1c-8d00-b305a29b177a' title='Show/Hide attributes'><svg class='icon xr-icon-file-text2'><use xlink:href='#icon-file-text2'></use></svg></label><input id='data-b6a0e938-becc-410c-bc2a-1963263db267' class='xr-var-data-in' type='checkbox'><label for='data-b6a0e938-becc-410c-bc2a-1963263db267' title='Show/Hide data repr'><svg class='icon xr-icon-database'><use xlink:href='#icon-database'></use></svg></label><div class='xr-var-attrs'><dl class='xr-attrs'></dl></div><div class='xr-var-data'><pre>array([207.25, 187.55])</pre></div></li><li class='xr-var-item'><div class='xr-var-name'><span>huc_02</span></div><div class='xr-var-dims'>(basin_id)</div><div class='xr-var-dtype'>float64</div><div class='xr-var-preview xr-preview'>1.0 1.0</div><input id='attrs-be9b4888-85cd-4cc6-9c33-65f1a2f3b809' class='xr-var-attrs-in' type='checkbox' disabled><label for='attrs-be9b4888-85cd-4cc6-9c33-65f1a2f3b809' title='Show/Hide attributes'><svg class='icon xr-icon-file-text2'><use xlink:href='#icon-file-text2'></use></svg></label><input id='data-bdde5c25-515b-4168-9ad8-0b12c4c935c8' class='xr-var-data-in' type='checkbox'><label for='data-bdde5c25-515b-4168-9ad8-0b12c4c935c8' title='Show/Hide data repr'><svg class='icon xr-icon-database'><use xlink:href='#icon-database'></use></svg></label><div class='xr-var-attrs'><dl class='xr-attrs'></dl></div><div class='xr-var-data'><pre>array([1., 1.])</pre></div></li><li class='xr-var-item'><div class='xr-var-name'><span>gauge_name</span></div><div class='xr-var-dims'>(basin_id)</div><div class='xr-var-dtype'>object</div><div class='xr-var-preview xr-preview'>&#x27;Fish River near Fort Kent, Main...</div><input id='attrs-5c5d2041-465c-42c6-829b-1794e6969bc4' class='xr-var-attrs-in' type='checkbox' disabled><label for='attrs-5c5d2041-465c-42c6-829b-1794e6969bc4' title='Show/Hide attributes'><svg class='icon xr-icon-file-text2'><use xlink:href='#icon-file-text2'></use></svg></label><input id='data-fbfab06d-1978-4b57-841a-c0d7cfc489d1' class='xr-var-data-in' type='checkbox'><label for='data-fbfab06d-1978-4b57-841a-c0d7cfc489d1' title='Show/Hide data repr'><svg class='icon xr-icon-database'><use xlink:href='#icon-database'></use></svg></label><div class='xr-var-attrs'><dl class='xr-attrs'></dl></div><div class='xr-var-data'><pre>array([&#x27;Fish River near Fort Kent, Maine&#x27;, &#x27;MOOSE RIVER AT VICTORY, VT&#x27;],\n",
       "      dtype=object)</pre></div></li><li class='xr-var-item'><div class='xr-var-name'><span>soil_depth_pelletier</span></div><div class='xr-var-dims'>(basin_id)</div><div class='xr-var-dtype'>float64</div><div class='xr-var-preview xr-preview'>7.405 4.074</div><input id='attrs-a2b31517-1731-4725-80a4-797983c189be' class='xr-var-attrs-in' type='checkbox' disabled><label for='attrs-a2b31517-1731-4725-80a4-797983c189be' title='Show/Hide attributes'><svg class='icon xr-icon-file-text2'><use xlink:href='#icon-file-text2'></use></svg></label><input id='data-086ee6f8-3a2c-4e1c-935c-14b756aff716' class='xr-var-data-in' type='checkbox'><label for='data-086ee6f8-3a2c-4e1c-935c-14b756aff716' title='Show/Hide data repr'><svg class='icon xr-icon-database'><use xlink:href='#icon-database'></use></svg></label><div class='xr-var-attrs'><dl class='xr-attrs'></dl></div><div class='xr-var-data'><pre>array([7.4047619 , 4.07407407])</pre></div></li><li class='xr-var-item'><div class='xr-var-name'><span>soil_depth_statsgo</span></div><div class='xr-var-dims'>(basin_id)</div><div class='xr-var-dtype'>float64</div><div class='xr-var-preview xr-preview'>1.248 1.144</div><input id='attrs-a95eaa4d-edbf-4dcc-adcd-c49e0c472c97' class='xr-var-attrs-in' type='checkbox' disabled><label for='attrs-a95eaa4d-edbf-4dcc-adcd-c49e0c472c97' title='Show/Hide attributes'><svg class='icon xr-icon-file-text2'><use xlink:href='#icon-file-text2'></use></svg></label><input id='data-2263ce37-c97f-4a5c-a951-4f36e4c4ede8' class='xr-var-data-in' type='checkbox'><label for='data-2263ce37-c97f-4a5c-a951-4f36e4c4ede8' title='Show/Hide data repr'><svg class='icon xr-icon-database'><use xlink:href='#icon-database'></use></svg></label><div class='xr-var-attrs'><dl class='xr-attrs'></dl></div><div class='xr-var-data'><pre>array([1.24840792, 1.14386   ])</pre></div></li><li class='xr-var-item'><div class='xr-var-name'><span>soil_porosity</span></div><div class='xr-var-dims'>(basin_id)</div><div class='xr-var-dtype'>float64</div><div class='xr-var-preview xr-preview'>0.4611 0.4392</div><input id='attrs-635ec55c-e6d6-42e4-8f95-9a6178a89d14' class='xr-var-attrs-in' type='checkbox' disabled><label for='attrs-635ec55c-e6d6-42e4-8f95-9a6178a89d14' title='Show/Hide attributes'><svg class='icon xr-icon-file-text2'><use xlink:href='#icon-file-text2'></use></svg></label><input id='data-737dc370-58f2-428b-8fd7-ac5cd35a9eba' class='xr-var-data-in' type='checkbox'><label for='data-737dc370-58f2-428b-8fd7-ac5cd35a9eba' title='Show/Hide data repr'><svg class='icon xr-icon-database'><use xlink:href='#icon-database'></use></svg></label><div class='xr-var-attrs'><dl class='xr-attrs'></dl></div><div class='xr-var-data'><pre>array([0.46114875, 0.43922736])</pre></div></li><li class='xr-var-item'><div class='xr-var-name'><span>soil_conductivity</span></div><div class='xr-var-dims'>(basin_id)</div><div class='xr-var-dtype'>float64</div><div class='xr-var-preview xr-preview'>1.107 1.756</div><input id='attrs-87402e2a-5ebf-47a1-8056-6adc4bb3f260' class='xr-var-attrs-in' type='checkbox' disabled><label for='attrs-87402e2a-5ebf-47a1-8056-6adc4bb3f260' title='Show/Hide attributes'><svg class='icon xr-icon-file-text2'><use xlink:href='#icon-file-text2'></use></svg></label><input id='data-4c1271c3-643d-4aad-b6d4-e1966a6d05a5' class='xr-var-data-in' type='checkbox'><label for='data-4c1271c3-643d-4aad-b6d4-e1966a6d05a5' title='Show/Hide data repr'><svg class='icon xr-icon-database'><use xlink:href='#icon-database'></use></svg></label><div class='xr-var-attrs'><dl class='xr-attrs'></dl></div><div class='xr-var-data'><pre>array([1.10652248, 1.75595307])</pre></div></li><li class='xr-var-item'><div class='xr-var-name'><span>max_water_content</span></div><div class='xr-var-dims'>(basin_id)</div><div class='xr-var-dtype'>float64</div><div class='xr-var-preview xr-preview'>0.5581 0.4768</div><input id='attrs-7726fbe8-a634-4d05-8e85-9cc8d627355e' class='xr-var-attrs-in' type='checkbox' disabled><label for='attrs-7726fbe8-a634-4d05-8e85-9cc8d627355e' title='Show/Hide attributes'><svg class='icon xr-icon-file-text2'><use xlink:href='#icon-file-text2'></use></svg></label><input id='data-55c72072-e838-4c6e-8846-6a49b57d8751' class='xr-var-data-in' type='checkbox'><label for='data-55c72072-e838-4c6e-8846-6a49b57d8751' title='Show/Hide data repr'><svg class='icon xr-icon-database'><use xlink:href='#icon-database'></use></svg></label><div class='xr-var-attrs'><dl class='xr-attrs'></dl></div><div class='xr-var-data'><pre>array([0.55805483, 0.47676676])</pre></div></li><li class='xr-var-item'><div class='xr-var-name'><span>sand_frac</span></div><div class='xr-var-dims'>(basin_id)</div><div class='xr-var-dtype'>float64</div><div class='xr-var-preview xr-preview'>27.84 42.59</div><input id='attrs-c8517d50-5ae1-4a78-842c-2f8f9f017227' class='xr-var-attrs-in' type='checkbox' disabled><label for='attrs-c8517d50-5ae1-4a78-842c-2f8f9f017227' title='Show/Hide attributes'><svg class='icon xr-icon-file-text2'><use xlink:href='#icon-file-text2'></use></svg></label><input id='data-eae89738-447a-4ae7-813c-81577d11077e' class='xr-var-data-in' type='checkbox'><label for='data-eae89738-447a-4ae7-813c-81577d11077e' title='Show/Hide data repr'><svg class='icon xr-icon-database'><use xlink:href='#icon-database'></use></svg></label><div class='xr-var-attrs'><dl class='xr-attrs'></dl></div><div class='xr-var-data'><pre>array([27.84182729, 42.58599324])</pre></div></li><li class='xr-var-item'><div class='xr-var-name'><span>silt_frac</span></div><div class='xr-var-dims'>(basin_id)</div><div class='xr-var-dtype'>float64</div><div class='xr-var-preview xr-preview'>55.16 43.34</div><input id='attrs-6b864698-ff29-4835-946a-77815126b066' class='xr-var-attrs-in' type='checkbox' disabled><label for='attrs-6b864698-ff29-4835-946a-77815126b066' title='Show/Hide attributes'><svg class='icon xr-icon-file-text2'><use xlink:href='#icon-file-text2'></use></svg></label><input id='data-cdedfd9d-e034-4c43-8971-e45402e80cad' class='xr-var-data-in' type='checkbox'><label for='data-cdedfd9d-e034-4c43-8971-e45402e80cad' title='Show/Hide data repr'><svg class='icon xr-icon-database'><use xlink:href='#icon-database'></use></svg></label><div class='xr-var-attrs'><dl class='xr-attrs'></dl></div><div class='xr-var-data'><pre>array([55.15694003, 43.33541291])</pre></div></li><li class='xr-var-item'><div class='xr-var-name'><span>clay_frac</span></div><div class='xr-var-dims'>(basin_id)</div><div class='xr-var-dtype'>float64</div><div class='xr-var-preview xr-preview'>16.28 12.72</div><input id='attrs-76163442-7c9d-4cfa-b2d8-e0bd34674ba6' class='xr-var-attrs-in' type='checkbox' disabled><label for='attrs-76163442-7c9d-4cfa-b2d8-e0bd34674ba6' title='Show/Hide attributes'><svg class='icon xr-icon-file-text2'><use xlink:href='#icon-file-text2'></use></svg></label><input id='data-90c9ad33-5a98-49e1-bc1b-2d368735ae94' class='xr-var-data-in' type='checkbox'><label for='data-90c9ad33-5a98-49e1-bc1b-2d368735ae94' title='Show/Hide data repr'><svg class='icon xr-icon-database'><use xlink:href='#icon-database'></use></svg></label><div class='xr-var-attrs'><dl class='xr-attrs'></dl></div><div class='xr-var-data'><pre>array([16.27573172, 12.7242065 ])</pre></div></li><li class='xr-var-item'><div class='xr-var-name'><span>water_frac</span></div><div class='xr-var-dims'>(basin_id)</div><div class='xr-var-dtype'>float64</div><div class='xr-var-preview xr-preview'>5.377 0.0</div><input id='attrs-e246d725-7570-4a14-a6d9-2a8c659c171f' class='xr-var-attrs-in' type='checkbox' disabled><label for='attrs-e246d725-7570-4a14-a6d9-2a8c659c171f' title='Show/Hide attributes'><svg class='icon xr-icon-file-text2'><use xlink:href='#icon-file-text2'></use></svg></label><input id='data-ba4d43e4-d880-4b1f-972d-4113477e7882' class='xr-var-data-in' type='checkbox'><label for='data-ba4d43e4-d880-4b1f-972d-4113477e7882' title='Show/Hide data repr'><svg class='icon xr-icon-database'><use xlink:href='#icon-database'></use></svg></label><div class='xr-var-attrs'><dl class='xr-attrs'></dl></div><div class='xr-var-data'><pre>array([5.37669779, 0.        ])</pre></div></li><li class='xr-var-item'><div class='xr-var-name'><span>organic_frac</span></div><div class='xr-var-dims'>(basin_id)</div><div class='xr-var-dtype'>float64</div><div class='xr-var-preview xr-preview'>0.4087 0.0</div><input id='attrs-3f033fef-4938-4389-aee2-8ecf2b4dec15' class='xr-var-attrs-in' type='checkbox' disabled><label for='attrs-3f033fef-4938-4389-aee2-8ecf2b4dec15' title='Show/Hide attributes'><svg class='icon xr-icon-file-text2'><use xlink:href='#icon-file-text2'></use></svg></label><input id='data-512d0a3a-a2c3-49d8-b866-3f6b9e99dec4' class='xr-var-data-in' type='checkbox'><label for='data-512d0a3a-a2c3-49d8-b866-3f6b9e99dec4' title='Show/Hide data repr'><svg class='icon xr-icon-database'><use xlink:href='#icon-database'></use></svg></label><div class='xr-var-attrs'><dl class='xr-attrs'></dl></div><div class='xr-var-data'><pre>array([0.40871676, 0.        ])</pre></div></li><li class='xr-var-item'><div class='xr-var-name'><span>other_frac</span></div><div class='xr-var-dims'>(basin_id)</div><div class='xr-var-dtype'>float64</div><div class='xr-var-preview xr-preview'>0.0 1.096</div><input id='attrs-350acb7a-de6c-43ff-84b4-79c27e9edc03' class='xr-var-attrs-in' type='checkbox' disabled><label for='attrs-350acb7a-de6c-43ff-84b4-79c27e9edc03' title='Show/Hide attributes'><svg class='icon xr-icon-file-text2'><use xlink:href='#icon-file-text2'></use></svg></label><input id='data-2c627085-c668-44a2-b095-51dd01f34b12' class='xr-var-data-in' type='checkbox'><label for='data-2c627085-c668-44a2-b095-51dd01f34b12' title='Show/Hide data repr'><svg class='icon xr-icon-database'><use xlink:href='#icon-database'></use></svg></label><div class='xr-var-attrs'><dl class='xr-attrs'></dl></div><div class='xr-var-data'><pre>array([0.        , 1.09608661])</pre></div></li><li class='xr-var-item'><div class='xr-var-name'><span>frac_forest</span></div><div class='xr-var-dims'>(basin_id)</div><div class='xr-var-dtype'>float64</div><div class='xr-var-preview xr-preview'>0.9063 0.9963</div><input id='attrs-6228826d-c6be-4490-a19b-043676b01b2c' class='xr-var-attrs-in' type='checkbox' disabled><label for='attrs-6228826d-c6be-4490-a19b-043676b01b2c' title='Show/Hide attributes'><svg class='icon xr-icon-file-text2'><use xlink:href='#icon-file-text2'></use></svg></label><input id='data-7beb9e6d-c3ac-4dfb-ab08-5b042ef1f81d' class='xr-var-data-in' type='checkbox'><label for='data-7beb9e6d-c3ac-4dfb-ab08-5b042ef1f81d' title='Show/Hide data repr'><svg class='icon xr-icon-database'><use xlink:href='#icon-database'></use></svg></label><div class='xr-var-attrs'><dl class='xr-attrs'></dl></div><div class='xr-var-data'><pre>array([0.9063, 0.9963])</pre></div></li><li class='xr-var-item'><div class='xr-var-name'><span>lai_max</span></div><div class='xr-var-dims'>(basin_id)</div><div class='xr-var-dtype'>float64</div><div class='xr-var-preview xr-preview'>4.167 4.931</div><input id='attrs-5f12fdc5-c93d-4b62-87d2-177ca12953bf' class='xr-var-attrs-in' type='checkbox' disabled><label for='attrs-5f12fdc5-c93d-4b62-87d2-177ca12953bf' title='Show/Hide attributes'><svg class='icon xr-icon-file-text2'><use xlink:href='#icon-file-text2'></use></svg></label><input id='data-f7c02c3f-0469-489c-92dc-b94d40ca5413' class='xr-var-data-in' type='checkbox'><label for='data-f7c02c3f-0469-489c-92dc-b94d40ca5413' title='Show/Hide data repr'><svg class='icon xr-icon-database'><use xlink:href='#icon-database'></use></svg></label><div class='xr-var-attrs'><dl class='xr-attrs'></dl></div><div class='xr-var-data'><pre>array([4.16730395, 4.93055038])</pre></div></li><li class='xr-var-item'><div class='xr-var-name'><span>lai_diff</span></div><div class='xr-var-dims'>(basin_id)</div><div class='xr-var-dtype'>float64</div><div class='xr-var-preview xr-preview'>3.341 4.274</div><input id='attrs-4f1bc0ff-a100-458a-86b4-a122a01a73b5' class='xr-var-attrs-in' type='checkbox' disabled><label for='attrs-4f1bc0ff-a100-458a-86b4-a122a01a73b5' title='Show/Hide attributes'><svg class='icon xr-icon-file-text2'><use xlink:href='#icon-file-text2'></use></svg></label><input id='data-c0d94971-a527-4350-8c07-1b561e7135b6' class='xr-var-data-in' type='checkbox'><label for='data-c0d94971-a527-4350-8c07-1b561e7135b6' title='Show/Hide data repr'><svg class='icon xr-icon-database'><use xlink:href='#icon-database'></use></svg></label><div class='xr-var-attrs'><dl class='xr-attrs'></dl></div><div class='xr-var-data'><pre>array([3.34073186, 4.27360673])</pre></div></li><li class='xr-var-item'><div class='xr-var-name'><span>gvf_max</span></div><div class='xr-var-dims'>(basin_id)</div><div class='xr-var-dtype'>float64</div><div class='xr-var-preview xr-preview'>0.8046 0.8862</div><input id='attrs-2fd4b896-243b-4524-9e7b-f27ccdf1becf' class='xr-var-attrs-in' type='checkbox' disabled><label for='attrs-2fd4b896-243b-4524-9e7b-f27ccdf1becf' title='Show/Hide attributes'><svg class='icon xr-icon-file-text2'><use xlink:href='#icon-file-text2'></use></svg></label><input id='data-5a092aa8-e8f2-403f-a528-ab71a08cfa62' class='xr-var-data-in' type='checkbox'><label for='data-5a092aa8-e8f2-403f-a528-ab71a08cfa62' title='Show/Hide data repr'><svg class='icon xr-icon-database'><use xlink:href='#icon-database'></use></svg></label><div class='xr-var-attrs'><dl class='xr-attrs'></dl></div><div class='xr-var-data'><pre>array([0.80456742, 0.88621625])</pre></div></li><li class='xr-var-item'><div class='xr-var-name'><span>gvf_diff</span></div><div class='xr-var-dims'>(basin_id)</div><div class='xr-var-dtype'>float64</div><div class='xr-var-preview xr-preview'>0.3716 0.4768</div><input id='attrs-b309842c-4cf3-4f61-a0ba-2def0f9002eb' class='xr-var-attrs-in' type='checkbox' disabled><label for='attrs-b309842c-4cf3-4f61-a0ba-2def0f9002eb' title='Show/Hide attributes'><svg class='icon xr-icon-file-text2'><use xlink:href='#icon-file-text2'></use></svg></label><input id='data-6c2ee2c7-ba03-449f-831c-38a0f9b9483b' class='xr-var-data-in' type='checkbox'><label for='data-6c2ee2c7-ba03-449f-831c-38a0f9b9483b' title='Show/Hide data repr'><svg class='icon xr-icon-database'><use xlink:href='#icon-database'></use></svg></label><div class='xr-var-attrs'><dl class='xr-attrs'></dl></div><div class='xr-var-data'><pre>array([0.37164816, 0.47679408])</pre></div></li><li class='xr-var-item'><div class='xr-var-name'><span>dom_land_cover_frac</span></div><div class='xr-var-dims'>(basin_id)</div><div class='xr-var-dtype'>float64</div><div class='xr-var-preview xr-preview'>0.8835 0.6038</div><input id='attrs-f526a674-2a6b-4b69-be8a-4130c4258e9e' class='xr-var-attrs-in' type='checkbox' disabled><label for='attrs-f526a674-2a6b-4b69-be8a-4130c4258e9e' title='Show/Hide attributes'><svg class='icon xr-icon-file-text2'><use xlink:href='#icon-file-text2'></use></svg></label><input id='data-43f743e7-c7a0-4505-896c-4646293edf15' class='xr-var-data-in' type='checkbox'><label for='data-43f743e7-c7a0-4505-896c-4646293edf15' title='Show/Hide data repr'><svg class='icon xr-icon-database'><use xlink:href='#icon-database'></use></svg></label><div class='xr-var-attrs'><dl class='xr-attrs'></dl></div><div class='xr-var-data'><pre>array([0.88345192, 0.60380405])</pre></div></li><li class='xr-var-item'><div class='xr-var-name'><span>dom_land_cover</span></div><div class='xr-var-dims'>(basin_id)</div><div class='xr-var-dtype'>object</div><div class='xr-var-preview xr-preview'>&#x27;Mixed Forests&#x27; &#x27;Deciduous Broad...</div><input id='attrs-849316c7-06c2-42e1-a6bd-eb583638fd88' class='xr-var-attrs-in' type='checkbox' disabled><label for='attrs-849316c7-06c2-42e1-a6bd-eb583638fd88' title='Show/Hide attributes'><svg class='icon xr-icon-file-text2'><use xlink:href='#icon-file-text2'></use></svg></label><input id='data-2b1f2920-b0bb-47cb-a4d3-29bb5bb38dd4' class='xr-var-data-in' type='checkbox'><label for='data-2b1f2920-b0bb-47cb-a4d3-29bb5bb38dd4' title='Show/Hide data repr'><svg class='icon xr-icon-database'><use xlink:href='#icon-database'></use></svg></label><div class='xr-var-attrs'><dl class='xr-attrs'></dl></div><div class='xr-var-data'><pre>array([&#x27;Mixed Forests&#x27;, &#x27;Deciduous Broadleaf Forest&#x27;], dtype=object)</pre></div></li><li class='xr-var-item'><div class='xr-var-name'><span>root_depth_50</span></div><div class='xr-var-dims'>(basin_id)</div><div class='xr-var-dtype'>float64</div><div class='xr-var-preview xr-preview'>nan 0.2135</div><input id='attrs-a435cb0e-34c2-4362-bdeb-187ccc3a91a5' class='xr-var-attrs-in' type='checkbox' disabled><label for='attrs-a435cb0e-34c2-4362-bdeb-187ccc3a91a5' title='Show/Hide attributes'><svg class='icon xr-icon-file-text2'><use xlink:href='#icon-file-text2'></use></svg></label><input id='data-99e59380-9cae-4973-81c5-83ebb2921b28' class='xr-var-data-in' type='checkbox'><label for='data-99e59380-9cae-4973-81c5-83ebb2921b28' title='Show/Hide data repr'><svg class='icon xr-icon-database'><use xlink:href='#icon-database'></use></svg></label><div class='xr-var-attrs'><dl class='xr-attrs'></dl></div><div class='xr-var-data'><pre>array([       nan, 0.21348874])</pre></div></li><li class='xr-var-item'><div class='xr-var-name'><span>root_depth_99</span></div><div class='xr-var-dims'>(basin_id)</div><div class='xr-var-dtype'>float64</div><div class='xr-var-preview xr-preview'>nan 2.155</div><input id='attrs-0768e12a-e83f-446e-b6d7-81ca100fabdf' class='xr-var-attrs-in' type='checkbox' disabled><label for='attrs-0768e12a-e83f-446e-b6d7-81ca100fabdf' title='Show/Hide attributes'><svg class='icon xr-icon-file-text2'><use xlink:href='#icon-file-text2'></use></svg></label><input id='data-91b0513e-d89d-499d-99eb-a3449d1bf359' class='xr-var-data-in' type='checkbox'><label for='data-91b0513e-d89d-499d-99eb-a3449d1bf359' title='Show/Hide data repr'><svg class='icon xr-icon-database'><use xlink:href='#icon-database'></use></svg></label><div class='xr-var-attrs'><dl class='xr-attrs'></dl></div><div class='xr-var-data'><pre>array([       nan, 2.15483953])</pre></div></li><li class='xr-var-item'><div class='xr-var-name'><span>gauge_lat</span></div><div class='xr-var-dims'>(basin_id)</div><div class='xr-var-dtype'>float64</div><div class='xr-var-preview xr-preview'>47.24 44.51</div><input id='attrs-37d4b102-787c-48b4-a4ea-bf47bf6c3a93' class='xr-var-attrs-in' type='checkbox' disabled><label for='attrs-37d4b102-787c-48b4-a4ea-bf47bf6c3a93' title='Show/Hide attributes'><svg class='icon xr-icon-file-text2'><use xlink:href='#icon-file-text2'></use></svg></label><input id='data-799a2687-348d-4584-a0c7-e3a72d70b284' class='xr-var-data-in' type='checkbox'><label for='data-799a2687-348d-4584-a0c7-e3a72d70b284' title='Show/Hide data repr'><svg class='icon xr-icon-database'><use xlink:href='#icon-database'></use></svg></label><div class='xr-var-attrs'><dl class='xr-attrs'></dl></div><div class='xr-var-data'><pre>array([47.23739, 44.51172])</pre></div></li><li class='xr-var-item'><div class='xr-var-name'><span>gauge_lon</span></div><div class='xr-var-dims'>(basin_id)</div><div class='xr-var-dtype'>float64</div><div class='xr-var-preview xr-preview'>-68.58 -71.84</div><input id='attrs-cd89459c-7788-4842-9c2c-d4c6bc1e44e0' class='xr-var-attrs-in' type='checkbox' disabled><label for='attrs-cd89459c-7788-4842-9c2c-d4c6bc1e44e0' title='Show/Hide attributes'><svg class='icon xr-icon-file-text2'><use xlink:href='#icon-file-text2'></use></svg></label><input id='data-798f9378-cf44-4287-b891-087b77f7828a' class='xr-var-data-in' type='checkbox'><label for='data-798f9378-cf44-4287-b891-087b77f7828a' title='Show/Hide data repr'><svg class='icon xr-icon-database'><use xlink:href='#icon-database'></use></svg></label><div class='xr-var-attrs'><dl class='xr-attrs'></dl></div><div class='xr-var-data'><pre>array([-68.58264, -71.83731])</pre></div></li><li class='xr-var-item'><div class='xr-var-name'><span>elev_mean</span></div><div class='xr-var-dims'>(basin_id)</div><div class='xr-var-dtype'>float64</div><div class='xr-var-preview xr-preview'>250.3 450.5</div><input id='attrs-aaf57c70-410f-4fad-95db-47182899af80' class='xr-var-attrs-in' type='checkbox' disabled><label for='attrs-aaf57c70-410f-4fad-95db-47182899af80' title='Show/Hide attributes'><svg class='icon xr-icon-file-text2'><use xlink:href='#icon-file-text2'></use></svg></label><input id='data-d10a8b39-4c02-4b9d-b9c2-61b2980eb56d' class='xr-var-data-in' type='checkbox'><label for='data-d10a8b39-4c02-4b9d-b9c2-61b2980eb56d' title='Show/Hide data repr'><svg class='icon xr-icon-database'><use xlink:href='#icon-database'></use></svg></label><div class='xr-var-attrs'><dl class='xr-attrs'></dl></div><div class='xr-var-data'><pre>array([250.31, 450.54])</pre></div></li><li class='xr-var-item'><div class='xr-var-name'><span>slope_mean</span></div><div class='xr-var-dims'>(basin_id)</div><div class='xr-var-dtype'>float64</div><div class='xr-var-preview xr-preview'>21.64 47.54</div><input id='attrs-7856f05d-29ee-4965-9a5c-eb35fa481344' class='xr-var-attrs-in' type='checkbox' disabled><label for='attrs-7856f05d-29ee-4965-9a5c-eb35fa481344' title='Show/Hide attributes'><svg class='icon xr-icon-file-text2'><use xlink:href='#icon-file-text2'></use></svg></label><input id='data-aa6ac58d-4bf3-49e4-96c4-b79ade73c966' class='xr-var-data-in' type='checkbox'><label for='data-aa6ac58d-4bf3-49e4-96c4-b79ade73c966' title='Show/Hide data repr'><svg class='icon xr-icon-database'><use xlink:href='#icon-database'></use></svg></label><div class='xr-var-attrs'><dl class='xr-attrs'></dl></div><div class='xr-var-data'><pre>array([21.64152, 47.54354])</pre></div></li><li class='xr-var-item'><div class='xr-var-name'><span>area_gages2</span></div><div class='xr-var-dims'>(basin_id)</div><div class='xr-var-dtype'>float64</div><div class='xr-var-preview xr-preview'>2.253e+03 195.1</div><input id='attrs-35cf33f0-c05f-4acf-8115-2c5204e76392' class='xr-var-attrs-in' type='checkbox' disabled><label for='attrs-35cf33f0-c05f-4acf-8115-2c5204e76392' title='Show/Hide attributes'><svg class='icon xr-icon-file-text2'><use xlink:href='#icon-file-text2'></use></svg></label><input id='data-fbf77c6e-0889-4ea5-93c0-29b62f418aa5' class='xr-var-data-in' type='checkbox'><label for='data-fbf77c6e-0889-4ea5-93c0-29b62f418aa5' title='Show/Hide data repr'><svg class='icon xr-icon-database'><use xlink:href='#icon-database'></use></svg></label><div class='xr-var-attrs'><dl class='xr-attrs'></dl></div><div class='xr-var-data'><pre>array([2252.7 ,  195.13])</pre></div></li><li class='xr-var-item'><div class='xr-var-name'><span>area_geospa_fabric</span></div><div class='xr-var-dims'>(basin_id)</div><div class='xr-var-dtype'>float64</div><div class='xr-var-preview xr-preview'>2.304e+03 209.5</div><input id='attrs-b69e1e13-ea8c-4f02-a32e-c9e2e9d993b8' class='xr-var-attrs-in' type='checkbox' disabled><label for='attrs-b69e1e13-ea8c-4f02-a32e-c9e2e9d993b8' title='Show/Hide attributes'><svg class='icon xr-icon-file-text2'><use xlink:href='#icon-file-text2'></use></svg></label><input id='data-4fd3fe32-1e51-4f69-b469-70999c27777e' class='xr-var-data-in' type='checkbox'><label for='data-4fd3fe32-1e51-4f69-b469-70999c27777e' title='Show/Hide data repr'><svg class='icon xr-icon-database'><use xlink:href='#icon-database'></use></svg></label><div class='xr-var-attrs'><dl class='xr-attrs'></dl></div><div class='xr-var-data'><pre>array([2303.95,  209.5 ])</pre></div></li></ul></div></li><li class='xr-section-item'><input id='section-26919617-bfcc-4b03-9178-bbb08dd9657d' class='xr-section-summary-in' type='checkbox'  ><label for='section-26919617-bfcc-4b03-9178-bbb08dd9657d' class='xr-section-summary' >Indexes: <span>(3)</span></label><div class='xr-section-inline-details'></div><div class='xr-section-details'><ul class='xr-var-list'><li class='xr-var-item'><div class='xr-index-name'><div>time</div></div><div class='xr-index-preview'>PandasIndex</div><div></div><input id='index-bdbccb13-00d7-4f38-bd5d-9681e277763f' class='xr-index-data-in' type='checkbox'/><label for='index-bdbccb13-00d7-4f38-bd5d-9681e277763f' title='Show/Hide index repr'><svg class='icon xr-icon-database'><use xlink:href='#icon-database'></use></svg></label><div class='xr-index-data'><pre>PandasIndex(DatetimeIndex([&#x27;1980-01-01&#x27;, &#x27;1980-01-02&#x27;, &#x27;1980-01-03&#x27;, &#x27;1980-01-04&#x27;,\n",
       "               &#x27;1980-01-05&#x27;, &#x27;1980-01-06&#x27;, &#x27;1980-01-07&#x27;, &#x27;1980-01-08&#x27;,\n",
       "               &#x27;1980-01-09&#x27;, &#x27;1980-01-10&#x27;,\n",
       "               ...\n",
       "               &#x27;2014-12-22&#x27;, &#x27;2014-12-23&#x27;, &#x27;2014-12-24&#x27;, &#x27;2014-12-25&#x27;,\n",
       "               &#x27;2014-12-26&#x27;, &#x27;2014-12-27&#x27;, &#x27;2014-12-28&#x27;, &#x27;2014-12-29&#x27;,\n",
       "               &#x27;2014-12-30&#x27;, &#x27;2014-12-31&#x27;],\n",
       "              dtype=&#x27;datetime64[ns]&#x27;, name=&#x27;time&#x27;, length=12784, freq=None))</pre></div></li><li class='xr-var-item'><div class='xr-index-name'><div>data_source</div></div><div class='xr-index-preview'>PandasIndex</div><div></div><input id='index-31f5c416-a8fb-414b-aebf-d2d99111d557' class='xr-index-data-in' type='checkbox'/><label for='index-31f5c416-a8fb-414b-aebf-d2d99111d557' title='Show/Hide index repr'><svg class='icon xr-icon-database'><use xlink:href='#icon-database'></use></svg></label><div class='xr-index-data'><pre>PandasIndex(Index([b&#x27;daymet&#x27;], dtype=&#x27;object&#x27;, name=&#x27;data_source&#x27;))</pre></div></li><li class='xr-var-item'><div class='xr-index-name'><div>basin_id</div></div><div class='xr-index-preview'>PandasIndex</div><div></div><input id='index-79c45c0f-d1e6-445a-af4d-4a836414b4ce' class='xr-index-data-in' type='checkbox'/><label for='index-79c45c0f-d1e6-445a-af4d-4a836414b4ce' title='Show/Hide index repr'><svg class='icon xr-icon-database'><use xlink:href='#icon-database'></use></svg></label><div class='xr-index-data'><pre>PandasIndex(Index([b&#x27;01013500&#x27;, b&#x27;01134500&#x27;], dtype=&#x27;object&#x27;, name=&#x27;basin_id&#x27;))</pre></div></li></ul></div></li><li class='xr-section-item'><input id='section-e5cdf83b-24d0-46f8-a59f-29ba181a9c76' class='xr-section-summary-in' type='checkbox'  checked><label for='section-e5cdf83b-24d0-46f8-a59f-29ba181a9c76' class='xr-section-summary' >Attributes: <span>(9)</span></label><div class='xr-section-inline-details'></div><div class='xr-section-details'><dl class='xr-attrs'><dt><span>title :</span></dt><dd>Basin mean forcing data</dd><dt><span>history :</span></dt><dd>Created by David Haasnoot for eWatercycle using CAMELS dataset</dd><dt><span>data_source :</span></dt><dd>CAMELS was compiled by A. Newman et al. `A large-sample watershed-scale hydrometeorological dataset for the contiguous USA`</dd><dt><span>url_source_data :</span></dt><dd>https://dx.doi.org/10.5065/D6MW2F4D</dd><dt><span>units :</span></dt><dd>daylight(s), precipitation(mm/day), mean radiation(W/m2), snow water equivalen(mm), temperature max(C), temperature min(C), temperature mean(c), vapour pressure(Pa), streamflow(mm/day)</dd><dt><span>alpha :</span></dt><dd>1.2617</dd><dt><span>lat :</span></dt><dd>44.49</dd><dt><span>elevation(m) :</span></dt><dd>529.0</dd><dt><span>area basin(m^2) :</span></dt><dd>194683851.0</dd></dl></div></li></ul></div></div>"
      ],
      "text/plain": [
       "<xarray.Dataset> Size: 2MB\n",
       "Dimensions:               (time: 12784, data_source: 1, basin_id: 2)\n",
       "Coordinates:\n",
       "  * time                  (time) datetime64[ns] 102kB 1980-01-01 ... 2014-12-31\n",
       "  * data_source           (data_source) |S64 64B b'daymet'\n",
       "  * basin_id              (basin_id) |S64 128B b'01013500' b'01134500'\n",
       "Data variables: (12/69)\n",
       "    dayl                  (basin_id, data_source, time) float64 205kB 3.017e+...\n",
       "    pr                    (basin_id, data_source, time) float64 205kB 0.0 ......\n",
       "    srad                  (basin_id, data_source, time) float64 205kB 153.4 ....\n",
       "    swe                   (basin_id, data_source, time) float64 205kB 0.0 ......\n",
       "    tasmax                (basin_id, data_source, time) float64 205kB -6.54 ....\n",
       "    tasmin                (basin_id, data_source, time) float64 205kB -16.3 ....\n",
       "    ...                    ...\n",
       "    gauge_lat             (basin_id) float64 16B 47.24 44.51\n",
       "    gauge_lon             (basin_id) float64 16B -68.58 -71.84\n",
       "    elev_mean             (basin_id) float64 16B 250.3 450.5\n",
       "    slope_mean            (basin_id) float64 16B 21.64 47.54\n",
       "    area_gages2           (basin_id) float64 16B 2.253e+03 195.1\n",
       "    area_geospa_fabric    (basin_id) float64 16B 2.304e+03 209.5\n",
       "Attributes:\n",
       "    title:            Basin mean forcing data\n",
       "    history:          Created by David Haasnoot for eWatercycle using CAMELS ...\n",
       "    data_source:      CAMELS was compiled by A. Newman et al. `A large-sample...\n",
       "    url_source_data:  https://dx.doi.org/10.5065/D6MW2F4D\n",
       "    units:            daylight(s), precipitation(mm/day), mean radiation(W/m2...\n",
       "    alpha:            1.2617\n",
       "    lat:              44.49\n",
       "    elevation(m):     529.0\n",
       "    area basin(m^2):  194683851.0"
      ]
     },
     "execution_count": 35,
     "metadata": {},
     "output_type": "execute_result"
    }
   ],
   "source": [
    "xr.merge([ds0,ds1])"
   ]
  },
  {
   "cell_type": "markdown",
   "id": "76fb1bbb-c0e8-4e90-82b4-d23f57b3bd5e",
   "metadata": {},
   "source": [
    "# loop"
   ]
  },
  {
   "cell_type": "markdown",
   "id": "4a3b92ad-bcd6-47d7-b9d6-5ca6a2b7d372",
   "metadata": {},
   "source": [
    "not found 1150900"
   ]
  },
  {
   "cell_type": "code",
   "execution_count": 51,
   "id": "7c147922-a358-41c6-b15f-067170f6446b",
   "metadata": {},
   "outputs": [],
   "source": [
    "skip_ids = [2081113, 3448942, 9535100, 3281100, 1150900]"
   ]
  },
  {
   "cell_type": "code",
   "execution_count": 52,
   "id": "018b8dfa-459d-48cc-bbac-4d1ebc4a4745",
   "metadata": {},
   "outputs": [],
   "source": [
    "source_lst = ['daymet','maurer','nldas']\n",
    "source = source_lst[0]\n",
    "# Source dependant\n",
    "forcing_sub_path_1 = f'basin_timeseries_v1p2_metForcing_obsFlow'\n",
    "forcing_sub_path_2 = f'basin_dataset_public_v1p2'\n",
    "forcing_sub_path_3 = f'basin_mean_forcing'\n",
    "forcing_path = path / forcing_sub_path_1 / forcing_sub_path_2 / forcing_sub_path_3 / source\n",
    "sub_dirs_forcing = list(forcing_path.glob(\"*\"))\n",
    "model_ouput_path = path / f'basin_timeseries_v1p2_modelOutput_{source}' / f'model_output_{source}' / 'model_output' /'flow_timeseries'/ f'{source}'\n",
    "streamflow_path = path / forcing_sub_path_1 / forcing_sub_path_2 / 'usgs_streamflow'"
   ]
  },
  {
   "cell_type": "code",
   "execution_count": 53,
   "id": "90a3bf64-3e69-46b6-97a5-fa05308d3aa9",
   "metadata": {},
   "outputs": [
    {
     "data": {
      "text/plain": [
       "'01'"
      ]
     },
     "execution_count": 53,
     "metadata": {},
     "output_type": "execute_result"
    }
   ],
   "source": [
    "folder_id"
   ]
  },
  {
   "cell_type": "code",
   "execution_count": null,
   "id": "0bfaa8de-2790-4b86-813d-0992ae22e41d",
   "metadata": {},
   "outputs": [],
   "source": [
    "for sub_dirs in sub_dirs_forcing[1:]:\n",
    "    basin_mean_forcing_files = list(sub_dirs.glob(\"*.txt\"))\n",
    "    for basin_mean_forcing_file in basin_mean_forcing_files:\n",
    "        basin_id = basin_mean_forcing_file.name[:8]\n",
    "        if int(basin_id) in skip_ids:\n",
    "            pass \n",
    "        else:\n",
    "            folder_id = basin_mean_forcing_file.parent.name\n",
    "            catchment_char = characteristics_all.loc[int(basin_id)].copy()\n",
    "            parameter_files_path = list((model_ouput_path / f'{folder_id}').glob(f'{basin_id}_*_model_parameters.txt'))\n",
    "            line_start = \"pet_coef\"\n",
    "            lst_alpha = []\n",
    "            for file in parameter_files_path:\n",
    "                with open(file,'r') as lines:\n",
    "                    for line in lines:\n",
    "                        if line[:len(line_start)] == line_start:\n",
    "                            lst_alpha.append(float(line.strip().split(\"\\t\")[-1]))\n",
    "            alpha = np.array(lst_alpha).mean()\n",
    "            \n",
    "            streamflow_file_path = streamflow_path / f'{folder_id}' / f'{basin_id}_streamflow_qc.txt' \n",
    "            ds = from_camels_txt(basin_mean_forcing_file, \n",
    "                                 basin_id, \n",
    "                                 source, \n",
    "                                 start_date, \n",
    "                                 end_date, \n",
    "                                 out_path, \n",
    "                                 alpha, \n",
    "                                 catchment_char, \n",
    "                                 streamflow_file_path)\n",
    "            ds.close()"
   ]
  },
  {
   "cell_type": "code",
   "execution_count": null,
   "id": "7029849d-6144-4afa-9b94-5d900acc1701",
   "metadata": {},
   "outputs": [],
   "source": []
  }
 ],
 "metadata": {
  "kernelspec": {
   "display_name": "Python 3 (ipykernel)",
   "language": "python",
   "name": "python3"
  },
  "language_info": {
   "codemirror_mode": {
    "name": "ipython",
    "version": 3
   },
   "file_extension": ".py",
   "mimetype": "text/x-python",
   "name": "python",
   "nbconvert_exporter": "python",
   "pygments_lexer": "ipython3",
   "version": "3.10.14"
  }
 },
 "nbformat": 4,
 "nbformat_minor": 5
}
